{
 "cells": [
  {
   "cell_type": "markdown",
   "metadata": {},
   "source": [
    "---\n",
    "\n",
    "_You are currently looking at **version 1.1** of this notebook. To download notebooks and datafiles, as well as get help on Jupyter notebooks in the Coursera platform, visit the [Jupyter Notebook FAQ](https://www.coursera.org/learn/python-machine-learning/resources/bANLa) course resource._\n",
    "\n",
    "---"
   ]
  },
  {
   "cell_type": "markdown",
   "metadata": {},
   "source": [
    "## Assignment 4 - Understanding and Predicting Property Maintenance Fines\n",
    "\n",
    "This assignment is based on a data challenge from the Michigan Data Science Team ([MDST](http://midas.umich.edu/mdst/)). \n",
    "\n",
    "The Michigan Data Science Team ([MDST](http://midas.umich.edu/mdst/)) and the Michigan Student Symposium for Interdisciplinary Statistical Sciences ([MSSISS](https://sites.lsa.umich.edu/mssiss/)) have partnered with the City of Detroit to help solve one of the most pressing problems facing Detroit - blight. [Blight violations](http://www.detroitmi.gov/How-Do-I/Report/Blight-Complaint-FAQs) are issued by the city to individuals who allow their properties to remain in a deteriorated condition. Every year, the city of Detroit issues millions of dollars in fines to residents and every year, many of these fines remain unpaid. Enforcing unpaid blight fines is a costly and tedious process, so the city wants to know: how can we increase blight ticket compliance?\n",
    "\n",
    "The first step in answering this question is understanding when and why a resident might fail to comply with a blight ticket. This is where predictive modeling comes in. For this assignment, your task is to predict whether a given blight ticket will be paid on time.\n",
    "\n",
    "All data for this assignment has been provided to us through the [Detroit Open Data Portal](https://data.detroitmi.gov/). **Only the data already included in your Coursera directory can be used for training the model for this assignment.** Nonetheless, we encourage you to look into data from other Detroit datasets to help inform feature creation and model selection. We recommend taking a look at the following related datasets:\n",
    "\n",
    "* [Building Permits](https://data.detroitmi.gov/Property-Parcels/Building-Permits/xw2a-a7tf)\n",
    "* [Trades Permits](https://data.detroitmi.gov/Property-Parcels/Trades-Permits/635b-dsgv)\n",
    "* [Improve Detroit: Submitted Issues](https://data.detroitmi.gov/Government/Improve-Detroit-Submitted-Issues/fwz3-w3yn)\n",
    "* [DPD: Citizen Complaints](https://data.detroitmi.gov/Public-Safety/DPD-Citizen-Complaints-2016/kahe-efs3)\n",
    "* [Parcel Map](https://data.detroitmi.gov/Property-Parcels/Parcel-Map/fxkw-udwf)\n",
    "\n",
    "___\n",
    "\n",
    "We provide you with two data files for use in training and validating your models: train.csv and test.csv. Each row in these two files corresponds to a single blight ticket, and includes information about when, why, and to whom each ticket was issued. The target variable is compliance, which is True if the ticket was paid early, on time, or within one month of the hearing data, False if the ticket was paid after the hearing date or not at all, and Null if the violator was found not responsible. Compliance, as well as a handful of other variables that will not be available at test-time, are only included in train.csv.\n",
    "\n",
    "Note: All tickets where the violators were found not responsible are not considered during evaluation. They are included in the training set as an additional source of data for visualization, and to enable unsupervised and semi-supervised approaches. However, they are not included in the test set.\n",
    "\n",
    "<br>\n",
    "\n",
    "**File descriptions** (Use only this data for training your model!)\n",
    "\n",
    "    readonly/train.csv - the training set (all tickets issued 2004-2011)\n",
    "    readonly/test.csv - the test set (all tickets issued 2012-2016)\n",
    "    readonly/addresses.csv & readonly/latlons.csv - mapping from ticket id to addresses, and from addresses to lat/lon coordinates. \n",
    "     Note: misspelled addresses may be incorrectly geolocated.\n",
    "\n",
    "<br>\n",
    "\n",
    "**Data fields**\n",
    "\n",
    "train.csv & test.csv\n",
    "\n",
    "    ticket_id - unique identifier for tickets\n",
    "    agency_name - Agency that issued the ticket\n",
    "    inspector_name - Name of inspector that issued the ticket\n",
    "    violator_name - Name of the person/organization that the ticket was issued to\n",
    "    violation_street_number, violation_street_name, violation_zip_code - Address where the violation occurred\n",
    "    mailing_address_str_number, mailing_address_str_name, city, state, zip_code, non_us_str_code, country - Mailing address of the violator\n",
    "    ticket_issued_date - Date and time the ticket was issued\n",
    "    hearing_date - Date and time the violator's hearing was scheduled\n",
    "    violation_code, violation_description - Type of violation\n",
    "    disposition - Judgment and judgement type\n",
    "    fine_amount - Violation fine amount, excluding fees\n",
    "    admin_fee - $20 fee assigned to responsible judgments\n",
    "state_fee - $10 fee assigned to responsible judgments\n",
    "    late_fee - 10% fee assigned to responsible judgments\n",
    "    discount_amount - discount applied, if any\n",
    "    clean_up_cost - DPW clean-up or graffiti removal cost\n",
    "    judgment_amount - Sum of all fines and fees\n",
    "    grafitti_status - Flag for graffiti violations\n",
    "    \n",
    "train.csv only\n",
    "\n",
    "    payment_amount - Amount paid, if any\n",
    "    payment_date - Date payment was made, if it was received\n",
    "    payment_status - Current payment status as of Feb 1 2017\n",
    "    balance_due - Fines and fees still owed\n",
    "    collection_status - Flag for payments in collections\n",
    "    compliance [target variable for prediction] \n",
    "     Null = Not responsible\n",
    "     0 = Responsible, non-compliant\n",
    "     1 = Responsible, compliant\n",
    "    compliance_detail - More information on why each ticket was marked compliant or non-compliant\n",
    "\n",
    "\n",
    "___\n",
    "\n",
    "## Evaluation\n",
    "\n",
    "Your predictions will be given as the probability that the corresponding blight ticket will be paid on time.\n",
    "\n",
    "The evaluation metric for this assignment is the Area Under the ROC Curve (AUC). \n",
    "\n",
    "Your grade will be based on the AUC score computed for your classifier. A model which with an AUROC of 0.7 passes this assignment, over 0.75 will recieve full points.\n",
    "___\n",
    "\n",
    "For this assignment, create a function that trains a model to predict blight ticket compliance in Detroit using `readonly/train.csv`. Using this model, return a series of length 61001 with the data being the probability that each corresponding ticket from `readonly/test.csv` will be paid, and the index being the ticket_id.\n",
    "\n",
    "Example:\n",
    "\n",
    "    ticket_id\n",
    "       284932    0.531842\n",
    "       285362    0.401958\n",
    "       285361    0.105928\n",
    "       285338    0.018572\n",
    "                 ...\n",
    "       376499    0.208567\n",
    "       376500    0.818759\n",
    "       369851    0.018528\n",
    "       Name: compliance, dtype: float32\n",
    "       \n",
    "### Hints\n",
    "\n",
    "* Make sure your code is working before submitting it to the autograder.\n",
    "\n",
    "* Print out your result to see whether there is anything weird (e.g., all probabilities are the same).\n",
    "\n",
    "* Generally the total runtime should be less than 10 mins. You should NOT use Neural Network related classifiers (e.g., MLPClassifier) in this question. \n",
    "\n",
    "* Try to avoid global variables. If you have other functions besides blight_model, you should move those functions inside the scope of blight_model.\n",
    "\n",
    "* Refer to the pinned threads in Week 4's discussion forum when there is something you could not figure it out."
   ]
  },
  {
   "cell_type": "code",
   "execution_count": 1,
   "metadata": {
    "collapsed": true
   },
   "outputs": [],
   "source": [
    "import pandas as pd\n",
    "import numpy as np"
   ]
  },
  {
   "cell_type": "code",
   "execution_count": 2,
   "metadata": {
    "collapsed": false
   },
   "outputs": [
    {
     "name": "stderr",
     "output_type": "stream",
     "text": [
      "/opt/conda/lib/python3.6/site-packages/IPython/core/interactiveshell.py:2717: DtypeWarning: Columns (11,12,31) have mixed types. Specify dtype option on import or set low_memory=False.\n",
      "  interactivity=interactivity, compiler=compiler, result=result)\n"
     ]
    }
   ],
   "source": [
    "df = pd.read_csv(\"readonly/train.csv\",encoding='latin1')"
   ]
  },
  {
   "cell_type": "code",
   "execution_count": 3,
   "metadata": {
    "collapsed": false
   },
   "outputs": [
    {
     "data": {
      "text/plain": [
       "(250306, 34)"
      ]
     },
     "execution_count": 3,
     "metadata": {},
     "output_type": "execute_result"
    }
   ],
   "source": [
    "df.shape"
   ]
  },
  {
   "cell_type": "code",
   "execution_count": 4,
   "metadata": {
    "collapsed": false
   },
   "outputs": [
    {
     "data": {
      "text/html": [
       "<div>\n",
       "<table border=\"1\" class=\"dataframe\">\n",
       "  <thead>\n",
       "    <tr style=\"text-align: right;\">\n",
       "      <th></th>\n",
       "      <th>ticket_id</th>\n",
       "      <th>agency_name</th>\n",
       "      <th>inspector_name</th>\n",
       "      <th>violator_name</th>\n",
       "      <th>violation_street_number</th>\n",
       "      <th>violation_street_name</th>\n",
       "      <th>violation_zip_code</th>\n",
       "      <th>mailing_address_str_number</th>\n",
       "      <th>mailing_address_str_name</th>\n",
       "      <th>city</th>\n",
       "      <th>...</th>\n",
       "      <th>clean_up_cost</th>\n",
       "      <th>judgment_amount</th>\n",
       "      <th>payment_amount</th>\n",
       "      <th>balance_due</th>\n",
       "      <th>payment_date</th>\n",
       "      <th>payment_status</th>\n",
       "      <th>collection_status</th>\n",
       "      <th>grafitti_status</th>\n",
       "      <th>compliance_detail</th>\n",
       "      <th>compliance</th>\n",
       "    </tr>\n",
       "  </thead>\n",
       "  <tbody>\n",
       "    <tr>\n",
       "      <th>0</th>\n",
       "      <td>18645</td>\n",
       "      <td>Buildings, Safety Engineering &amp; Env Department</td>\n",
       "      <td>Gailes, Orbie J</td>\n",
       "      <td>Byrd, Dean</td>\n",
       "      <td>601.0</td>\n",
       "      <td>KING</td>\n",
       "      <td>NaN</td>\n",
       "      <td>599.0</td>\n",
       "      <td>King</td>\n",
       "      <td>Det</td>\n",
       "      <td>...</td>\n",
       "      <td>0.0</td>\n",
       "      <td>305.0</td>\n",
       "      <td>0.0</td>\n",
       "      <td>305.0</td>\n",
       "      <td>NaN</td>\n",
       "      <td>NO PAYMENT APPLIED</td>\n",
       "      <td>NaN</td>\n",
       "      <td>NaN</td>\n",
       "      <td>non-compliant by no payment</td>\n",
       "      <td>0.0</td>\n",
       "    </tr>\n",
       "    <tr>\n",
       "      <th>1</th>\n",
       "      <td>18646</td>\n",
       "      <td>Buildings, Safety Engineering &amp; Env Department</td>\n",
       "      <td>Gailes, Orbie J</td>\n",
       "      <td>Roberts, Cynthia</td>\n",
       "      <td>607.0</td>\n",
       "      <td>KING</td>\n",
       "      <td>NaN</td>\n",
       "      <td>1864.0</td>\n",
       "      <td>Appoline</td>\n",
       "      <td>Det</td>\n",
       "      <td>...</td>\n",
       "      <td>0.0</td>\n",
       "      <td>305.0</td>\n",
       "      <td>0.0</td>\n",
       "      <td>305.0</td>\n",
       "      <td>NaN</td>\n",
       "      <td>NO PAYMENT APPLIED</td>\n",
       "      <td>NaN</td>\n",
       "      <td>NaN</td>\n",
       "      <td>non-compliant by no payment</td>\n",
       "      <td>0.0</td>\n",
       "    </tr>\n",
       "  </tbody>\n",
       "</table>\n",
       "<p>2 rows × 34 columns</p>\n",
       "</div>"
      ],
      "text/plain": [
       "   ticket_id                                     agency_name   inspector_name  \\\n",
       "0      18645  Buildings, Safety Engineering & Env Department  Gailes, Orbie J   \n",
       "1      18646  Buildings, Safety Engineering & Env Department  Gailes, Orbie J   \n",
       "\n",
       "      violator_name  violation_street_number violation_street_name  \\\n",
       "0        Byrd, Dean                    601.0                  KING   \n",
       "1  Roberts, Cynthia                    607.0                  KING   \n",
       "\n",
       "   violation_zip_code  mailing_address_str_number mailing_address_str_name  \\\n",
       "0                 NaN                       599.0                     King   \n",
       "1                 NaN                      1864.0                 Appoline   \n",
       "\n",
       "  city     ...     clean_up_cost judgment_amount payment_amount balance_due  \\\n",
       "0  Det     ...               0.0           305.0            0.0       305.0   \n",
       "1  Det     ...               0.0           305.0            0.0       305.0   \n",
       "\n",
       "  payment_date      payment_status collection_status grafitti_status  \\\n",
       "0          NaN  NO PAYMENT APPLIED               NaN             NaN   \n",
       "1          NaN  NO PAYMENT APPLIED               NaN             NaN   \n",
       "\n",
       "             compliance_detail  compliance  \n",
       "0  non-compliant by no payment         0.0  \n",
       "1  non-compliant by no payment         0.0  \n",
       "\n",
       "[2 rows x 34 columns]"
      ]
     },
     "execution_count": 4,
     "metadata": {},
     "output_type": "execute_result"
    }
   ],
   "source": [
    "df = df.sort_values('ticket_id',axis=0).reset_index().drop('index',axis=1)\n",
    "df.head(2)"
   ]
  },
  {
   "cell_type": "code",
   "execution_count": 5,
   "metadata": {
    "collapsed": false
   },
   "outputs": [
    {
     "data": {
      "text/html": [
       "<div>\n",
       "<table border=\"1\" class=\"dataframe\">\n",
       "  <thead>\n",
       "    <tr style=\"text-align: right;\">\n",
       "      <th></th>\n",
       "      <th>ticket_id</th>\n",
       "      <th>agency_name</th>\n",
       "      <th>inspector_name</th>\n",
       "      <th>violator_name</th>\n",
       "      <th>violation_street_number</th>\n",
       "      <th>violation_street_name</th>\n",
       "      <th>violation_zip_code</th>\n",
       "      <th>mailing_address_str_number</th>\n",
       "      <th>mailing_address_str_name</th>\n",
       "      <th>city</th>\n",
       "      <th>...</th>\n",
       "      <th>clean_up_cost</th>\n",
       "      <th>judgment_amount</th>\n",
       "      <th>payment_amount</th>\n",
       "      <th>balance_due</th>\n",
       "      <th>payment_date</th>\n",
       "      <th>payment_status</th>\n",
       "      <th>collection_status</th>\n",
       "      <th>grafitti_status</th>\n",
       "      <th>compliance_detail</th>\n",
       "      <th>compliance</th>\n",
       "    </tr>\n",
       "  </thead>\n",
       "  <tbody>\n",
       "    <tr>\n",
       "      <th>0</th>\n",
       "      <td>18645</td>\n",
       "      <td>Buildings, Safety Engineering &amp; Env Department</td>\n",
       "      <td>Gailes, Orbie J</td>\n",
       "      <td>Byrd, Dean</td>\n",
       "      <td>601.0</td>\n",
       "      <td>KING</td>\n",
       "      <td>NaN</td>\n",
       "      <td>599.0</td>\n",
       "      <td>King</td>\n",
       "      <td>Det</td>\n",
       "      <td>...</td>\n",
       "      <td>0.0</td>\n",
       "      <td>305.0</td>\n",
       "      <td>0.0</td>\n",
       "      <td>305.0</td>\n",
       "      <td>NaN</td>\n",
       "      <td>NO PAYMENT APPLIED</td>\n",
       "      <td>NaN</td>\n",
       "      <td>NaN</td>\n",
       "      <td>non-compliant by no payment</td>\n",
       "      <td>0.0</td>\n",
       "    </tr>\n",
       "  </tbody>\n",
       "</table>\n",
       "<p>1 rows × 34 columns</p>\n",
       "</div>"
      ],
      "text/plain": [
       "   ticket_id                                     agency_name   inspector_name  \\\n",
       "0      18645  Buildings, Safety Engineering & Env Department  Gailes, Orbie J   \n",
       "\n",
       "  violator_name  violation_street_number violation_street_name  \\\n",
       "0    Byrd, Dean                    601.0                  KING   \n",
       "\n",
       "   violation_zip_code  mailing_address_str_number mailing_address_str_name  \\\n",
       "0                 NaN                       599.0                     King   \n",
       "\n",
       "  city     ...     clean_up_cost judgment_amount payment_amount balance_due  \\\n",
       "0  Det     ...               0.0           305.0            0.0       305.0   \n",
       "\n",
       "  payment_date      payment_status collection_status grafitti_status  \\\n",
       "0          NaN  NO PAYMENT APPLIED               NaN             NaN   \n",
       "\n",
       "             compliance_detail  compliance  \n",
       "0  non-compliant by no payment         0.0  \n",
       "\n",
       "[1 rows x 34 columns]"
      ]
     },
     "execution_count": 5,
     "metadata": {},
     "output_type": "execute_result"
    }
   ],
   "source": [
    "df.head(1)"
   ]
  },
  {
   "cell_type": "code",
   "execution_count": 6,
   "metadata": {
    "collapsed": false
   },
   "outputs": [
    {
     "data": {
      "text/plain": [
       "Index(['ticket_id', 'agency_name', 'inspector_name', 'violator_name',\n",
       "       'violation_street_number', 'violation_street_name',\n",
       "       'violation_zip_code', 'mailing_address_str_number',\n",
       "       'mailing_address_str_name', 'city', 'state', 'zip_code',\n",
       "       'non_us_str_code', 'country', 'ticket_issued_date', 'hearing_date',\n",
       "       'violation_code', 'violation_description', 'disposition', 'fine_amount',\n",
       "       'admin_fee', 'state_fee', 'late_fee', 'discount_amount',\n",
       "       'clean_up_cost', 'judgment_amount', 'payment_amount', 'balance_due',\n",
       "       'payment_date', 'payment_status', 'collection_status',\n",
       "       'grafitti_status', 'compliance_detail', 'compliance'],\n",
       "      dtype='object')"
      ]
     },
     "execution_count": 6,
     "metadata": {},
     "output_type": "execute_result"
    }
   ],
   "source": [
    "df.columns"
   ]
  },
  {
   "cell_type": "code",
   "execution_count": 7,
   "metadata": {
    "collapsed": false
   },
   "outputs": [
    {
     "data": {
      "text/plain": [
       "ticket_id                       int64\n",
       "agency_name                    object\n",
       "inspector_name                 object\n",
       "violator_name                  object\n",
       "violation_street_number       float64\n",
       "violation_street_name          object\n",
       "violation_zip_code            float64\n",
       "mailing_address_str_number    float64\n",
       "mailing_address_str_name       object\n",
       "city                           object\n",
       "state                          object\n",
       "zip_code                       object\n",
       "non_us_str_code                object\n",
       "country                        object\n",
       "ticket_issued_date             object\n",
       "hearing_date                   object\n",
       "violation_code                 object\n",
       "violation_description          object\n",
       "disposition                    object\n",
       "fine_amount                   float64\n",
       "admin_fee                     float64\n",
       "state_fee                     float64\n",
       "late_fee                      float64\n",
       "discount_amount               float64\n",
       "clean_up_cost                 float64\n",
       "judgment_amount               float64\n",
       "payment_amount                float64\n",
       "balance_due                   float64\n",
       "payment_date                   object\n",
       "payment_status                 object\n",
       "collection_status              object\n",
       "grafitti_status                object\n",
       "compliance_detail              object\n",
       "compliance                    float64\n",
       "dtype: object"
      ]
     },
     "execution_count": 7,
     "metadata": {},
     "output_type": "execute_result"
    }
   ],
   "source": [
    "df.dtypes"
   ]
  },
  {
   "cell_type": "code",
   "execution_count": 8,
   "metadata": {
    "collapsed": false
   },
   "outputs": [
    {
     "data": {
      "text/plain": [
       "pandas.core.series.Series"
      ]
     },
     "execution_count": 8,
     "metadata": {},
     "output_type": "execute_result"
    }
   ],
   "source": [
    "type(df.dtypes)"
   ]
  },
  {
   "cell_type": "code",
   "execution_count": 9,
   "metadata": {
    "collapsed": false
   },
   "outputs": [
    {
     "data": {
      "text/plain": [
       "Index(['ticket_id', 'agency_name', 'inspector_name', 'violator_name',\n",
       "       'violation_street_number', 'violation_street_name',\n",
       "       'violation_zip_code', 'mailing_address_str_number',\n",
       "       'mailing_address_str_name', 'city', 'state', 'zip_code',\n",
       "       'non_us_str_code', 'country', 'ticket_issued_date', 'hearing_date',\n",
       "       'violation_code', 'violation_description', 'disposition', 'fine_amount',\n",
       "       'admin_fee', 'state_fee', 'late_fee', 'discount_amount',\n",
       "       'clean_up_cost', 'judgment_amount', 'payment_amount', 'balance_due',\n",
       "       'payment_date', 'payment_status', 'collection_status',\n",
       "       'grafitti_status', 'compliance_detail', 'compliance'],\n",
       "      dtype='object')"
      ]
     },
     "execution_count": 9,
     "metadata": {},
     "output_type": "execute_result"
    }
   ],
   "source": [
    "df.dtypes.keys()"
   ]
  },
  {
   "cell_type": "code",
   "execution_count": 10,
   "metadata": {
    "collapsed": false
   },
   "outputs": [
    {
     "data": {
      "text/plain": [
       "array([dtype('int64'), dtype('O'), dtype('O'), dtype('O'),\n",
       "       dtype('float64'), dtype('O'), dtype('float64'), dtype('float64'),\n",
       "       dtype('O'), dtype('O'), dtype('O'), dtype('O'), dtype('O'),\n",
       "       dtype('O'), dtype('O'), dtype('O'), dtype('O'), dtype('O'),\n",
       "       dtype('O'), dtype('float64'), dtype('float64'), dtype('float64'),\n",
       "       dtype('float64'), dtype('float64'), dtype('float64'),\n",
       "       dtype('float64'), dtype('float64'), dtype('float64'), dtype('O'),\n",
       "       dtype('O'), dtype('O'), dtype('O'), dtype('O'), dtype('float64')], dtype=object)"
      ]
     },
     "execution_count": 10,
     "metadata": {},
     "output_type": "execute_result"
    }
   ],
   "source": [
    "df.dtypes.values"
   ]
  },
  {
   "cell_type": "code",
   "execution_count": 11,
   "metadata": {
    "collapsed": false
   },
   "outputs": [
    {
     "data": {
      "text/plain": [
       "ticket_id                          0\n",
       "agency_name                        0\n",
       "inspector_name                     0\n",
       "violator_name                     34\n",
       "violation_street_number            0\n",
       "violation_street_name              0\n",
       "violation_zip_code            250306\n",
       "mailing_address_str_number      3602\n",
       "mailing_address_str_name           4\n",
       "city                               0\n",
       "state                             93\n",
       "zip_code                           1\n",
       "non_us_str_code               250303\n",
       "country                            0\n",
       "ticket_issued_date                 0\n",
       "hearing_date                   12491\n",
       "violation_code                     0\n",
       "violation_description              0\n",
       "disposition                        0\n",
       "fine_amount                        1\n",
       "admin_fee                          0\n",
       "state_fee                          0\n",
       "late_fee                           0\n",
       "discount_amount                    0\n",
       "clean_up_cost                      0\n",
       "judgment_amount                    0\n",
       "payment_amount                     0\n",
       "balance_due                        0\n",
       "payment_date                  209193\n",
       "payment_status                     0\n",
       "collection_status             213409\n",
       "grafitti_status               250305\n",
       "compliance_detail                  0\n",
       "compliance                     90426\n",
       "dtype: int64"
      ]
     },
     "execution_count": 11,
     "metadata": {},
     "output_type": "execute_result"
    }
   ],
   "source": [
    "df.isnull().sum()"
   ]
  },
  {
   "cell_type": "markdown",
   "metadata": {},
   "source": [
    "Remove from Features as Nan: 'violation_zip_code', 'non_us_str_code', 'payment_date', 'collection_status', 'grafitti_status'"
   ]
  },
  {
   "cell_type": "code",
   "execution_count": 12,
   "metadata": {
    "collapsed": false
   },
   "outputs": [
    {
     "data": {
      "text/plain": [
       "['ticket_id',\n",
       " 'agency_name',\n",
       " 'inspector_name',\n",
       " 'violator_name',\n",
       " 'violation_street_number',\n",
       " 'violation_street_name',\n",
       " 'violation_zip_code',\n",
       " 'mailing_address_str_number',\n",
       " 'mailing_address_str_name',\n",
       " 'city',\n",
       " 'state',\n",
       " 'zip_code',\n",
       " 'non_us_str_code',\n",
       " 'country',\n",
       " 'ticket_issued_date',\n",
       " 'hearing_date',\n",
       " 'violation_code',\n",
       " 'violation_description',\n",
       " 'disposition',\n",
       " 'fine_amount',\n",
       " 'admin_fee',\n",
       " 'state_fee',\n",
       " 'late_fee',\n",
       " 'discount_amount',\n",
       " 'clean_up_cost',\n",
       " 'judgment_amount',\n",
       " 'payment_amount',\n",
       " 'balance_due',\n",
       " 'payment_date',\n",
       " 'payment_status',\n",
       " 'collection_status',\n",
       " 'grafitti_status',\n",
       " 'compliance_detail',\n",
       " 'compliance']"
      ]
     },
     "execution_count": 12,
     "metadata": {},
     "output_type": "execute_result"
    }
   ],
   "source": [
    "df.columns.tolist()"
   ]
  },
  {
   "cell_type": "code",
   "execution_count": 13,
   "metadata": {
    "collapsed": false
   },
   "outputs": [
    {
     "data": {
      "text/plain": [
       "34"
      ]
     },
     "execution_count": 13,
     "metadata": {},
     "output_type": "execute_result"
    }
   ],
   "source": [
    "len(df.columns.tolist())"
   ]
  },
  {
   "cell_type": "code",
   "execution_count": 14,
   "metadata": {
    "collapsed": false
   },
   "outputs": [],
   "source": [
    "remo_col = ['violation_zip_code','non_us_str_code','payment_date','collection_status','grafitti_status','violation_description']"
   ]
  },
  {
   "cell_type": "code",
   "execution_count": 15,
   "metadata": {
    "collapsed": false
   },
   "outputs": [],
   "source": [
    "columns = df.columns.tolist()"
   ]
  },
  {
   "cell_type": "code",
   "execution_count": 16,
   "metadata": {
    "collapsed": false
   },
   "outputs": [],
   "source": [
    "#  Not working:\n",
    "#  columns.remove(['violation_zip_code','non_us_str_code','payment_date','collection_status','grafitti_status'])"
   ]
  },
  {
   "cell_type": "code",
   "execution_count": 17,
   "metadata": {
    "collapsed": false
   },
   "outputs": [
    {
     "data": {
      "text/plain": [
       "34"
      ]
     },
     "execution_count": 17,
     "metadata": {},
     "output_type": "execute_result"
    }
   ],
   "source": [
    "len(columns)"
   ]
  },
  {
   "cell_type": "code",
   "execution_count": 18,
   "metadata": {
    "collapsed": false
   },
   "outputs": [
    {
     "data": {
      "text/plain": [
       "28"
      ]
     },
     "execution_count": 18,
     "metadata": {},
     "output_type": "execute_result"
    }
   ],
   "source": [
    "feat_col = [x for x in columns if x not in remo_col]\n",
    "len(feat_col)"
   ]
  },
  {
   "cell_type": "code",
   "execution_count": 19,
   "metadata": {
    "collapsed": false,
    "scrolled": false
   },
   "outputs": [
    {
     "name": "stdout",
     "output_type": "stream",
     "text": [
      "ColName: ticket_id\t No. of Unique Values: 250306\n",
      "ColName: agency_name\t No. of Unique Values: 5\n",
      "ColName: inspector_name\t No. of Unique Values: 173\n",
      "ColName: violator_name\t No. of Unique Values: 119992\n",
      "ColName: violation_street_number\t No. of Unique Values: 19175\n",
      "ColName: violation_street_name\t No. of Unique Values: 1791\n",
      "ColName: mailing_address_str_number\t No. of Unique Values: 15826\n",
      "ColName: mailing_address_str_name\t No. of Unique Values: 37896\n",
      "ColName: city\t No. of Unique Values: 5184\n",
      "ColName: state\t No. of Unique Values: 59\n",
      "ColName: zip_code\t No. of Unique Values: 5642\n",
      "ColName: country\t No. of Unique Values: 5\n",
      "ColName: ticket_issued_date\t No. of Unique Values: 86979\n",
      "ColName: hearing_date\t No. of Unique Values: 6222\n",
      "ColName: violation_code\t No. of Unique Values: 235\n",
      "ColName: disposition\t No. of Unique Values: 9\n",
      "ColName: fine_amount\t No. of Unique Values: 43\n",
      "ColName: admin_fee\t No. of Unique Values: 2\n",
      "ColName: state_fee\t No. of Unique Values: 2\n",
      "ColName: late_fee\t No. of Unique Values: 37\n",
      "ColName: discount_amount\t No. of Unique Values: 13\n",
      "ColName: clean_up_cost\t No. of Unique Values: 1\n",
      "ColName: judgment_amount\t No. of Unique Values: 57\n",
      "ColName: payment_amount\t No. of Unique Values: 533\n",
      "ColName: balance_due\t No. of Unique Values: 606\n",
      "ColName: payment_status\t No. of Unique Values: 3\n",
      "ColName: compliance_detail\t No. of Unique Values: 10\n",
      "ColName: compliance\t No. of Unique Values: 2\n"
     ]
    }
   ],
   "source": [
    "for col in (feat_col):\n",
    "    # print(\"ColName: {0}\\n Unique Values: {1} \\n No. of Unique Values: {2}\".format(col,df[col].unique(),df[col].nunique()))\n",
    "    print(\"ColName: {0}\\t No. of Unique Values: {1}\".format(col,df[col].nunique()))"
   ]
  },
  {
   "cell_type": "markdown",
   "metadata": {},
   "source": [
    "Catogerical data information:\n",
    "agency_name - 5\n",
    "country - 5 \n",
    "state - 59\n",
    "violation_code - 235\n",
    "disposition - 9\n",
    "fine_amount - 43\n",
    "\n",
    "\n"
   ]
  },
  {
   "cell_type": "code",
   "execution_count": 20,
   "metadata": {
    "collapsed": false
   },
   "outputs": [
    {
     "name": "stdout",
     "output_type": "stream",
     "text": [
      "22517     1\n",
      "31066     1\n",
      "26968     1\n",
      "53583     1\n",
      "55630     1\n",
      "49485     1\n",
      "51532     1\n",
      "61771     1\n",
      "63818     1\n",
      "59720     1\n",
      "37191     1\n",
      "39238     1\n",
      "33093     1\n",
      "35140     1\n",
      "45379     1\n",
      "47426     1\n",
      "41281     1\n",
      "43328     1\n",
      "217407    1\n",
      "219454    1\n",
      "213309    1\n",
      "215356    1\n",
      "225595    1\n",
      "227642    1\n",
      "221497    1\n",
      "223544    1\n",
      "201015    1\n",
      "203062    1\n",
      "196917    1\n",
      "24921     1\n",
      "         ..\n",
      "274223    1\n",
      "87936     1\n",
      "120720    1\n",
      "112540    1\n",
      "102299    1\n",
      "100250    1\n",
      "106393    1\n",
      "104344    1\n",
      "126871    1\n",
      "124822    1\n",
      "130965    1\n",
      "128916    1\n",
      "118675    1\n",
      "116626    1\n",
      "122769    1\n",
      "77711     1\n",
      "89985     1\n",
      "75662     1\n",
      "81805     1\n",
      "79756     1\n",
      "69515     1\n",
      "67466     1\n",
      "73609     1\n",
      "71560     1\n",
      "94087     1\n",
      "92038     1\n",
      "98181     1\n",
      "96132     1\n",
      "83842     1\n",
      "20490     1\n",
      "Name: ticket_id, dtype: int64\n",
      "Buildings, Safety Engineering & Env Department    157784\n",
      "Department of Public Works                         74717\n",
      "Health Department                                   8903\n",
      "Detroit Police Department                           8900\n",
      "Neighborhood City Halls                                2\n",
      "Name: agency_name, dtype: int64\n",
      "Morris, John           17926\n",
      "Steele, Jonathan       13237\n",
      "Samaan, Neil J         12733\n",
      "O'Neal, Claude         11591\n",
      "Devaney, John          10769\n",
      "Sims, Martinzie         9976\n",
      "Sloane, Bennie J        9730\n",
      "Hayes, Billy J          9493\n",
      "Doetsch, James          7108\n",
      "Zizi, Josue             6587\n",
      "Gailes, Orbie J         6259\n",
      "Danielson, Keith D      5906\n",
      "Jones, Leah             4082\n",
      "Sharpe, Anthony         3860\n",
      "Legge, Gerald           3849\n",
      "Davis, Darlene          3817\n",
      "Addison, Michael        3583\n",
      "Harris, Rickey          3466\n",
      "Karwowski, Stephen      3231\n",
      "Havard, Jacqueline      3140\n",
      "DeRamer, Andrew         3114\n",
      "Johnson, Lois           3046\n",
      "ELLARD, EVERETT         2833\n",
      "Kent, Gerald            2763\n",
      "Frazier, Willie         2741\n",
      "Matthews, Delos         2618\n",
      "Watson, Jerry           2479\n",
      "Moore, David            2467\n",
      "Talbert, Reginald       2324\n",
      "Shimko, James           2285\n",
      "                       ...  \n",
      "Lee, Charles              15\n",
      "Rogers, Johnnie           15\n",
      "O'Neil, Vincent T         14\n",
      "Thomas, Duane             13\n",
      "Doonan, Christopher       13\n",
      "Snyder, Derrell           12\n",
      "Sievers, Mark             10\n",
      "Bush, Wesley              10\n",
      "Spann, Damon               9\n",
      "Pacteles, Michael          8\n",
      "Clark, Marcel              7\n",
      "Glavac, Douglas            7\n",
      "BENNETT, MARGARET          7\n",
      "McClendon, Labree          6\n",
      "Dockery, James             6\n",
      "Pickens, William           5\n",
      "Miller, Ursula             5\n",
      "Malone, Melanie            5\n",
      "Sean, Bacon                4\n",
      "Burks, Colette             3\n",
      "Hall, George               2\n",
      "Paylor, Ava                2\n",
      "Johnson, James             1\n",
      "Hischke, William           1\n",
      "Fisher, Rodney             1\n",
      "Coleman, Lanetha           1\n",
      "Doneghy, John              1\n",
      "Walton, William            1\n",
      "Powell, Walter             1\n",
      "YOUNG, GERALDINE           1\n",
      "Name: inspector_name, dtype: int64\n",
      "INVESTMENT, ACORN                         809\n",
      "INVESTMENT CO., ACORN                     425\n",
      "BANK, WELLS FARGO                         328\n",
      "MILLER, JOHN                              205\n",
      "SHIFMAN, ALLEN                            192\n",
      "NEW YORK, BANK OF                         184\n",
      "COMMISSION, DETROIT HOUSING               178\n",
      "STEHLIK, JERRY                            162\n",
      "SNOW, GEORGE                              147\n",
      "APARTMENTS, CARLTON                       139\n",
      "TREASURER, WAYNE COUNTY                   139\n",
      "KRAMER, KEITH                             137\n",
      "FARWELL, WILLIAM B                        123\n",
      "PARKVIEW LLC, NORMANDY                    122\n",
      "NATIONAL TRUST CO., DEUTSCHE BANK         122\n",
      "INVESTMENTS, ACORN                        122\n",
      "BANK, DEUTSCHE                            119\n",
      "ROSEN, NATHAN                             110\n",
      "PRESTIGE, KMG                             101\n",
      "LEONARD, JACK                              99\n",
      "BROADWAY, LLC, 1509                        98\n",
      "SYSTEMS, MANAGEMENT                        96\n",
      "Investment, Acorn                          94\n",
      "NATIONAL TRUST, DEUTSCHE BANK              93\n",
      "ESTATES, EVERGREEN                         93\n",
      "MANAGEMENT, FOREST CITY                    92\n",
      "FARGO BANK, WELLS                          91\n",
      "CHASE BANK, JP MORGAN                      91\n",
      "INVESTMENT CO, ACORN                       87\n",
      "MORTGAGE ASSOCIATION, FEDERAL NATIONAL     87\n",
      "                                         ... \n",
      "SYSTEMS INC., WIMPY BURGER                  1\n",
      "ARTURO, MERCEDES                            1\n",
      "Davenport, Rosa B                           1\n",
      "BEALS, DEBRA                                1\n",
      "WHITTINGTON, SORENA                         1\n",
      "HILL, LATRESSA ANN                          1\n",
      "PETERSON, CATO  L                           1\n",
      "GRAHAM, SHO-RAN                             1\n",
      "TAYLOR, BARBARA J                           1\n",
      "AYERBE. JR, JOAQUIN                         1\n",
      "STOKES  SR, TERENCE R                       1\n",
      "CARING TEMPLE M.B.C., *                     1\n",
      "LAVAN JOHNSON, 0                            1\n",
      "PIPING INC., CENTER LINE                    1\n",
      "TANK & LINING, GREAT LAKES                  1\n",
      "HAMILTON, WENDY J                           1\n",
      "JENNINGS, MATTIE                            1\n",
      "MORTGAGE, L.L.C., GMAC                      1\n",
      "WILLIAMS, ROBERT M.                         1\n",
      "GREEN COGIC, PLEASANT                       1\n",
      "FORD, ISAIAH                                1\n",
      "AMAN-ULLAH, IMRAN                           1\n",
      "EVERETTE, LEONARD                           1\n",
      "INVESTMENTS, SCHAEFER                       1\n",
      "HOLMES, DEBRA                               1\n",
      "WILCOX, NORMAN                              1\n",
      "Collision, Az                               1\n",
      "Ramirez, Mario                              1\n",
      "WALL, KIM                                   1\n",
      "SAMI, WAIL                                  1\n",
      "Name: violator_name, dtype: int64\n",
      "1509.0      240\n",
      "0.0         195\n",
      "600.0       182\n",
      "19300.0     153\n",
      "1401.0      132\n",
      "15700.0     123\n",
      "8200.0      115\n",
      "20200.0     112\n",
      "9125.0      109\n",
      "14300.0     107\n",
      "18400.0     106\n",
      "8100.0      104\n",
      "15800.0     103\n",
      "18500.0     102\n",
      "6300.0      102\n",
      "18600.0     102\n",
      "20500.0     102\n",
      "20400.0      99\n",
      "2900.0       99\n",
      "14800.0      99\n",
      "16189.0      97\n",
      "7400.0       95\n",
      "8500.0       93\n",
      "12850.0      92\n",
      "14200.0      92\n",
      "400.0        90\n",
      "8400.0       88\n",
      "69.0         88\n",
      "18900.0      87\n",
      "20000.0      87\n",
      "           ... \n",
      "22343.0       1\n",
      "17274.0       1\n",
      "113312.0      1\n",
      "18770.0       1\n",
      "18769.0       1\n",
      "16109.0       1\n",
      "16672.0       1\n",
      "7873.0        1\n",
      "48051.0       1\n",
      "8483.0        1\n",
      "2321.0        1\n",
      "44662.0       1\n",
      "22620.0       1\n",
      "18767.0       1\n",
      "22333.0       1\n",
      "8773.0        1\n",
      "4911.0        1\n",
      "22335.0       1\n",
      "15606.0       1\n",
      "8485.0        1\n",
      "16971.0       1\n",
      "3869.0        1\n",
      "18755.0       1\n",
      "15169.0       1\n",
      "11464.0       1\n",
      "22341.0       1\n",
      "5294.0        1\n",
      "18747.0       1\n",
      "10314.0       1\n",
      "6172.0        1\n",
      "Name: violation_street_number, dtype: int64\n",
      "SEVEN MILE      3482\n",
      "MCNICHOLS       3041\n",
      "LIVERNOIS       2482\n",
      "GRAND RIVER     1766\n",
      "EVERGREEN       1749\n",
      "FENKELL         1512\n",
      "ASBURY PARK     1491\n",
      "WARREN          1443\n",
      "ARCHDALE        1373\n",
      "EIGHT MILE      1367\n",
      "APPOLINE        1333\n",
      "GRATIOT         1255\n",
      "WYOMING         1218\n",
      "JOY RD          1194\n",
      "SCHAEFER        1193\n",
      "ASHTON          1192\n",
      "WOODWARD AVE    1191\n",
      "CLEMENTS        1189\n",
      "ARDMORE         1187\n",
      "GRAND BLVD      1137\n",
      "CHICAGO         1106\n",
      "GREENFIELD      1105\n",
      "FORRER          1045\n",
      "MEYERS RD       1030\n",
      "VAN DYKE         944\n",
      "INDIANA          943\n",
      "FREELAND         937\n",
      "COYLE            936\n",
      "MARK TWAIN       932\n",
      "FIELDING         930\n",
      "                ... \n",
      "BREWSTER           1\n",
      "AMITY              1\n",
      "BUELOW CT          1\n",
      "ERIE               1\n",
      "JAY                1\n",
      "SOUTHAMPTON        1\n",
      "BURROUGHS          1\n",
      "WARNER             1\n",
      "BROCK              1\n",
      "TROY               1\n",
      "LOWELL DR          1\n",
      "KINGSWOOD          1\n",
      "WING PL            1\n",
      "DAVID              1\n",
      "ELLERY PL          1\n",
      "JAMES CT           1\n",
      "HEINTZ             1\n",
      "SHERMAN            1\n",
      "NAVARRE PL         1\n",
      "WHITLOCK           1\n",
      "WYMAN              1\n",
      "KING RICHARD       1\n",
      "BRENNAN            1\n",
      "NANCY              1\n",
      "MOYES              1\n",
      "SYCAMORE           1\n",
      "WELLESLEY DR       1\n",
      "BATES              1\n",
      "CARTRIDGE          1\n",
      "GREENSPAN          1\n",
      "Name: violation_street_name, dtype: int64\n",
      "213.0       1934\n",
      "1.0         1662\n",
      "4.0         1181\n",
      "3.0          979\n",
      "11.0         677\n",
      "3476.0       567\n",
      "5.0          530\n",
      "131.0        528\n",
      "21.0         513\n",
      "36.0         471\n",
      "2.0          464\n",
      "28.0         457\n",
      "715.0        457\n",
      "743.0        449\n",
      "243.0        436\n",
      "55.0         429\n",
      "127.0        428\n",
      "19785.0      411\n",
      "179.0        404\n",
      "181.0        385\n",
      "15.0         384\n",
      "22.0         381\n",
      "155.0        372\n",
      "91.0         365\n",
      "23.0         359\n",
      "4828.0       356\n",
      "231.0        351\n",
      "43.0         350\n",
      "415.0        347\n",
      "311.0        346\n",
      "            ... \n",
      "9753.0         1\n",
      "23412.0        1\n",
      "12414.0        1\n",
      "23684.0        1\n",
      "12852.0        1\n",
      "252673.0       1\n",
      "6958.0         1\n",
      "25456.0        1\n",
      "38953.0        1\n",
      "21625.0        1\n",
      "16498.0        1\n",
      "14668.0        1\n",
      "16323.0        1\n",
      "17379.0        1\n",
      "23369.0        1\n",
      "43245.0        1\n",
      "6657.0         1\n",
      "15783.0        1\n",
      "35258.0        1\n",
      "27756.0        1\n",
      "4812.0         1\n",
      "43158.0        1\n",
      "22874.0        1\n",
      "31722.0        1\n",
      "12519.0        1\n",
      "21619.0        1\n",
      "24838.0        1\n",
      "38967.0        1\n",
      "35367.0        1\n",
      "7143.0         1\n",
      "Name: mailing_address_str_number, dtype: int64\n",
      "PO BOX                        8668\n",
      "P.O. BOX                      7182\n",
      "GRAND RIVER                   1249\n",
      "LIVERNOIS                     1205\n",
      "W. MCNICHOLS                   990\n",
      "GREENFIELD                     762\n",
      "GRATIOT                        757\n",
      "E. JEFFERSON                   751\n",
      "HARPER                         713\n",
      "P.O. Box                       707\n",
      "WOODWARD                       703\n",
      "W. SEVEN MILE                  673\n",
      "P. O. BOX                      653\n",
      "WYOMING                        647\n",
      "MACK                           641\n",
      "FENKELL                        631\n",
      "APPOLINE                       584\n",
      "HARTWELL                       581\n",
      "JAMES COUZENS                  566\n",
      "EVERGREEN                      518\n",
      "SUSSEX                         508\n",
      "SCHAEFER                       506\n",
      "ASHTON                         506\n",
      "WHITCOMB                       502\n",
      "INDIANA                        492\n",
      "VAN DYKE                       484\n",
      "MONICA                         481\n",
      "W. WARREN                      474\n",
      "ARCHDALE                       473\n",
      "MARK TWAIN                     469\n",
      "                              ... \n",
      "LAFAYETTE, CIR                   1\n",
      "W DUNDEE                         1\n",
      "BEACHKNOLL                       1\n",
      "STATE ST 21ST FLOOR              1\n",
      "HATHAWAY RISINE                  1\n",
      "SOUTH WACKER DR. STE1300         1\n",
      "WAKLELY NE ST                    1\n",
      "KENT KANGLEY #104                1\n",
      "P.O.BOX 1111                     1\n",
      "E  BIG  BEAVER RD STE 103        1\n",
      "dreschfield                      1\n",
      "SE78H2                           1\n",
      "ORCHARD LK STE#650               1\n",
      "FRSIBEE                          1\n",
      "OAKBROOK LN                      1\n",
      "N  AVE  57                       1\n",
      "SEVEN MILE ROAD #5               1\n",
      "gladys                           1\n",
      "FROST ROAD                       1\n",
      "MUERDALE  AVE.                   1\n",
      "E. VAILE                         1\n",
      "Bar Harbor Dr.                   1\n",
      "BRIAR MEADOW                     1\n",
      "BAY MEADOWS WAY  #JAXA2035       1\n",
      "SWESI TEMPLE                     1\n",
      "NEWTOWN ST. W                    1\n",
      "TWYAKINGHAM WAY                  1\n",
      "MCQUADE C/O                      1\n",
      "Wohlfeil                         1\n",
      "green brian                      1\n",
      "Name: mailing_address_str_name, dtype: int64\n",
      "DETROIT               136936\n",
      "SOUTHFIELD             13436\n",
      "Detroit                10496\n",
      "detroit                 4183\n",
      "DEARBORN                3637\n",
      "FARMINGTON HILLS        2329\n",
      "OAK PARK                2216\n",
      "WARREN                  2000\n",
      "DET                     1657\n",
      "W. BLOOMFIELD           1635\n",
      "LIVONIA                 1614\n",
      "REDFORD                 1544\n",
      "TROY                    1525\n",
      "WEST BLOOMFIELD         1106\n",
      "Southfield              1046\n",
      "CANTON                  1018\n",
      "DET.                     944\n",
      "EASTPOINTE               887\n",
      "FARMINGTON               873\n",
      "BLOOMFIELD HILLS         860\n",
      "CHICAGO                  843\n",
      "LATHRUP VILLAGE          753\n",
      "ROSEVILLE                738\n",
      "LANSING                  728\n",
      "GROSSE POINTE            720\n",
      "SAN DIEGO                708\n",
      "ST. CLAIR SHORES         707\n",
      "WESTLAND                 693\n",
      "FERNDALE                 690\n",
      "STERLING HEIGHTS         652\n",
      "                       ...  \n",
      "Schaumburg                 1\n",
      "WINCHESTER                 1\n",
      "GROSSE POINTE WD           1\n",
      "BRIMINGTON                 1\n",
      "Van Buren                  1\n",
      "PITOSVILLE                 1\n",
      "NOKOMIS                    1\n",
      "Grosse Ponte Farms         1\n",
      "GLOSS POINT SHORE          1\n",
      "WEST PALM BECH             1\n",
      "Dundee                     1\n",
      "BRYANT                     1\n",
      "WEST PALEM BEACH           1\n",
      "ROBINA                     1\n",
      "CHERRRY HILL               1\n",
      "COLOBIA                    1\n",
      "DAKOTA DUNES               1\n",
      "WESTVILL                   1\n",
      "GRAND RAPIIDS              1\n",
      "grosse pte. park           1\n",
      "RICHTON PARK               1\n",
      "RAMULUS                    1\n",
      "ALLENDALE                  1\n",
      "TEMPEL                     1\n",
      "VAN NUYS,                  1\n",
      "BMFD TWP                   1\n",
      "GROSS POINT WDS.           1\n",
      "XXXXXXXXXXXXXX             1\n",
      "THORNTON                   1\n",
      "Shelby Township            1\n",
      "Name: city, dtype: int64\n",
      "MI    228601\n",
      "CA      5020\n",
      "TX      2420\n",
      "FL      2237\n",
      "IL      1310\n",
      "SC      1304\n",
      "OH       967\n",
      "NY       673\n",
      "MN       632\n",
      "GA       535\n",
      "NV       484\n",
      "UT       477\n",
      "PA       466\n",
      "NJ       395\n",
      "VA       385\n",
      "NC       353\n",
      "MD       349\n",
      "AZ       329\n",
      "ME       261\n",
      "OK       248\n",
      "AL       215\n",
      "TN       207\n",
      "WA       192\n",
      "MA       182\n",
      "WI       159\n",
      "IA       159\n",
      "OR       153\n",
      "MO       151\n",
      "CO       147\n",
      "KY       146\n",
      "IN       106\n",
      "AR        82\n",
      "LA        81\n",
      "AK        79\n",
      "NB        77\n",
      "UK        77\n",
      "MS        64\n",
      "CT        60\n",
      "DC        58\n",
      "ON        51\n",
      "DE        50\n",
      "KS        37\n",
      "RI        35\n",
      "SD        33\n",
      "ID        33\n",
      "MT        28\n",
      "NM        21\n",
      "BC        17\n",
      "WY        12\n",
      "HI        10\n",
      "NH         9\n",
      "VT         7\n",
      "VI         6\n",
      "WV         6\n",
      "PR         5\n",
      "QC         5\n",
      "QL         3\n",
      "BL         2\n",
      "ND         2\n",
      "Name: state, dtype: int64\n",
      "48221     7056\n",
      "48227     6984\n",
      "48235     6712\n",
      "48219     6167\n",
      "48228     5648\n",
      "48224     5458\n",
      "48238     5401\n",
      "48227     4633\n",
      "48205     4572\n",
      "48204     4441\n",
      "48234     4248\n",
      "48235     4084\n",
      "48221     4048\n",
      "48209     3741\n",
      "48223     3704\n",
      "48228     3552\n",
      "48206     3545\n",
      "48203     3431\n",
      "48075     3377\n",
      "48213     3352\n",
      "48210     3303\n",
      "48238     3014\n",
      "48219     3003\n",
      "48224     2914\n",
      "48207     2835\n",
      "48202     2765\n",
      "48205     2753\n",
      "48076     2602\n",
      "48204     2478\n",
      "48234     2348\n",
      "          ... \n",
      "482077       1\n",
      "12073        1\n",
      "91505        1\n",
      "11213        1\n",
      "23327        1\n",
      "11207        1\n",
      "34748        1\n",
      "482097       1\n",
      "50642        1\n",
      "44074        1\n",
      "482037       1\n",
      "482035       1\n",
      "23232        1\n",
      "44128        1\n",
      "44125        1\n",
      "11356        1\n",
      "44123        1\n",
      "90062        1\n",
      "23210        1\n",
      "44120        1\n",
      "33136        1\n",
      "94544        1\n",
      "48293        1\n",
      "14867        1\n",
      "482032       1\n",
      "75147        1\n",
      "5033         1\n",
      "11324        1\n",
      "90018        1\n",
      "48617        1\n",
      "Name: zip_code, dtype: int64\n",
      "USA     250293\n",
      "Cana         7\n",
      "Aust         3\n",
      "Egyp         2\n",
      "Germ         1\n",
      "Name: country, dtype: int64\n",
      "2010-02-17 09:00:00    97\n",
      "2007-12-21 09:00:00    88\n",
      "2008-01-22 09:00:00    81\n",
      "2006-01-12 09:00:00    80\n",
      "2009-10-12 09:00:00    80\n",
      "2010-02-02 09:00:00    80\n",
      "2008-09-23 09:00:00    75\n",
      "2008-04-29 09:00:00    72\n",
      "2006-03-08 09:00:00    71\n",
      "2006-11-30 09:00:00    71\n",
      "2006-12-07 09:00:00    71\n",
      "2007-10-17 09:00:00    71\n",
      "2006-10-25 09:00:00    70\n",
      "2008-06-11 11:00:00    68\n",
      "2008-06-02 09:00:00    68\n",
      "2006-06-05 09:00:00    65\n",
      "2006-06-19 09:00:00    64\n",
      "2008-01-23 09:00:00    64\n",
      "2006-04-03 09:00:00    64\n",
      "2011-09-13 09:00:00    64\n",
      "2010-04-20 09:00:00    63\n",
      "2009-09-14 09:00:00    63\n",
      "2006-09-20 09:00:00    61\n",
      "2007-12-04 09:00:00    61\n",
      "2007-09-28 09:00:00    60\n",
      "2008-04-08 09:00:00    60\n",
      "2006-11-28 09:00:00    60\n",
      "2006-05-31 09:00:00    60\n",
      "2008-05-13 09:00:00    59\n",
      "2010-01-26 09:00:00    59\n",
      "                       ..\n",
      "2005-06-08 10:40:00     1\n",
      "2005-12-02 10:05:00     1\n",
      "2005-06-02 11:55:00     1\n",
      "2005-07-01 17:00:00     1\n",
      "2010-11-01 15:30:00     1\n",
      "2008-10-29 08:05:00     1\n",
      "2010-12-13 08:15:00     1\n",
      "2007-02-17 07:20:00     1\n",
      "2007-08-08 09:25:00     1\n",
      "2005-10-07 10:35:00     1\n",
      "2011-05-12 13:20:00     1\n",
      "2008-06-02 11:15:00     1\n",
      "2005-08-12 14:30:00     1\n",
      "2011-06-15 13:55:00     1\n",
      "2009-04-24 13:15:00     1\n",
      "2007-03-19 14:00:00     1\n",
      "2007-11-02 10:40:00     1\n",
      "2009-11-06 00:40:00     1\n",
      "2008-03-25 08:10:00     1\n",
      "2011-09-14 10:10:00     1\n",
      "2010-10-01 15:25:00     1\n",
      "2006-11-09 08:15:00     1\n",
      "2005-07-13 14:20:00     1\n",
      "2011-01-10 10:50:00     1\n",
      "2006-01-05 10:50:00     1\n",
      "2009-09-29 12:45:00     1\n",
      "2009-09-04 08:45:00     1\n",
      "2011-10-03 12:00:00     1\n",
      "2007-07-30 13:40:00     1\n",
      "2009-06-03 10:50:00     1\n",
      "Name: ticket_issued_date, dtype: int64\n",
      "2005-12-22 10:30:00    622\n",
      "2005-12-20 09:00:00    601\n",
      "2005-12-22 09:00:00    565\n",
      "2005-12-21 10:30:00    554\n",
      "2005-12-20 10:30:00    548\n",
      "2005-12-21 09:00:00    447\n",
      "2005-12-22 13:30:00    434\n",
      "2005-12-27 10:30:00    427\n",
      "2007-08-07 10:30:00    389\n",
      "2005-12-20 13:30:00    366\n",
      "2005-12-20 15:00:00    345\n",
      "2007-08-07 13:30:00    330\n",
      "2006-04-05 10:30:00    307\n",
      "2006-02-01 10:30:00    299\n",
      "2007-08-07 09:00:00    292\n",
      "2006-03-21 10:30:00    286\n",
      "2005-12-22 15:00:00    281\n",
      "2005-12-27 09:00:00    269\n",
      "2005-12-21 15:00:00    266\n",
      "2006-04-05 09:00:00    250\n",
      "2006-04-06 09:00:00    247\n",
      "2005-12-21 13:30:00    237\n",
      "2006-04-03 10:30:00    224\n",
      "2006-03-22 10:30:00    218\n",
      "2006-04-04 09:00:00    214\n",
      "2006-04-07 10:30:00    205\n",
      "2006-04-11 09:00:00    203\n",
      "2006-03-21 09:00:00    202\n",
      "2006-04-04 10:30:00    201\n",
      "2006-04-03 09:00:00    198\n",
      "                      ... \n",
      "2010-03-02 13:30:00      1\n",
      "2008-02-11 13:30:00      1\n",
      "2009-08-26 13:30:00      1\n",
      "2006-02-17 15:00:00      1\n",
      "2007-08-03 09:00:00      1\n",
      "2007-02-05 15:00:00      1\n",
      "2005-02-02 09:00:00      1\n",
      "2005-02-08 15:00:00      1\n",
      "2010-07-13 15:00:00      1\n",
      "2017-01-27 10:30:00      1\n",
      "2005-02-15 13:30:00      1\n",
      "2006-09-29 10:30:00      1\n",
      "2013-01-30 09:00:00      1\n",
      "2009-01-20 18:00:00      1\n",
      "2009-10-23 09:00:00      1\n",
      "2011-09-23 13:30:00      1\n",
      "2005-12-16 15:00:00      1\n",
      "2006-10-27 13:30:00      1\n",
      "2012-05-11 09:00:00      1\n",
      "2011-07-01 15:00:00      1\n",
      "2006-10-20 15:00:00      1\n",
      "2006-06-16 15:00:00      1\n",
      "2007-01-22 09:00:00      1\n",
      "2012-07-27 09:00:00      1\n",
      "2006-06-22 09:00:00      1\n",
      "2007-01-09 13:30:00      1\n",
      "2006-06-14 15:00:00      1\n",
      "2007-11-16 15:00:00      1\n",
      "2012-02-21 13:30:00      1\n",
      "2007-06-08 15:00:00      1\n",
      "Name: hearing_date, dtype: int64\n",
      "9-1-36(a)               99091\n",
      "9-1-81(a)               43471\n",
      "22-2-88                 28720\n",
      "9-1-104                 22536\n",
      "22-2-88(b)               7238\n",
      "22-2-45                  5394\n",
      "9-1-43(a) - (Dwellin     5332\n",
      "9-1-105                  5072\n",
      "9-1-110(a)               4814\n",
      "22-2-22                  3755\n",
      "9-1-103(C)               3537\n",
      "19450901                 2963\n",
      "22-2-43                  2903\n",
      "22-2-17                  1940\n",
      "22-2-61                  1456\n",
      "9-1-82(d) - (Dwellin      895\n",
      "22-2-83(a)(b)(c)          849\n",
      "61-81.0100/32.0066        812\n",
      "9-1-43(a) - (Structu      765\n",
      "22-2-83                   633\n",
      "9-1-43(a) - (Stories      457\n",
      "61-5-21                   426\n",
      "9-1-206                   344\n",
      "22-2-88(a)                342\n",
      "9-1-209                   335\n",
      "9-1-101                   294\n",
      "22-2-21(b)                286\n",
      "61-5-18                   273\n",
      "9-1-107                   222\n",
      "9-1-111                   201\n",
      "                        ...  \n",
      "9-1-377                     1\n",
      "9-1-502                     1\n",
      "61-86.0100/45.0807          1\n",
      "9-1-375                     1\n",
      "22-2-97                     1\n",
      "61-122.0100/32.0066         1\n",
      "9-1-471                     1\n",
      "9-1-352                     1\n",
      "9-1-354                     1\n",
      "61-120.0100/32.0066         1\n",
      "61-116.0100/32.0031         1\n",
      "9-1-215                     1\n",
      "61-130.0000/130.0300        1\n",
      "9-1-308                     1\n",
      "61-84.0100/32.0076B         1\n",
      "9-1-462(a)                  1\n",
      "61-14-452(2)                1\n",
      "9-1-433                     1\n",
      "9-1-406                     1\n",
      "61-84.0100/32.0031          1\n",
      "61-4-38                     1\n",
      "61-118.0100/32.0066         1\n",
      "61-45.0000                  1\n",
      "9-1-381                     1\n",
      "9-1-434                     1\n",
      "61-105.0100/32.0076B        1\n",
      "61-96.0100/32.0066          1\n",
      "19410901                    1\n",
      "20160901                    1\n",
      "9-1-332                     1\n",
      "Name: violation_code, dtype: int64\n",
      "Responsible by Default                138340\n",
      "Not responsible by Dismissal           48695\n",
      "Not responsible by City Dismissal      34401\n",
      "Responsible by Admission               13701\n",
      "Responsible by Determination            7644\n",
      "Not responsible by Determination        6639\n",
      "PENDING JUDGMENT                         387\n",
      "SET-ASIDE (PENDING JUDGMENT)             304\n",
      "Responsible (Fine Waived) by Deter       195\n",
      "Name: disposition, dtype: int64\n",
      "250.0      141245\n",
      "50.0        28378\n",
      "100.0       21435\n",
      "200.0       18683\n",
      "500.0       11244\n",
      "1000.0       7934\n",
      "300.0        6649\n",
      "3500.0       6269\n",
      "2500.0       2619\n",
      "25.0         2275\n",
      "125.0        1083\n",
      "1500.0        746\n",
      "750.0         513\n",
      "10000.0       357\n",
      "5000.0        285\n",
      "0.0           195\n",
      "350.0         193\n",
      "400.0          49\n",
      "1200.0         47\n",
      "2000.0         31\n",
      "3000.0         16\n",
      "600.0          15\n",
      "7000.0         13\n",
      "220.0           4\n",
      "150.0           2\n",
      "160.0           2\n",
      "1250.0          2\n",
      "95.0            2\n",
      "345.0           2\n",
      "20.0            2\n",
      "375.0           2\n",
      "1750.0          2\n",
      "2695.0          1\n",
      "970.0           1\n",
      "170.0           1\n",
      "450.0           1\n",
      "677.0           1\n",
      "1470.0          1\n",
      "8000.0          1\n",
      "270.0           1\n",
      "655.0           1\n",
      "1030.0          1\n",
      "1.0             1\n",
      "Name: fine_amount, dtype: int64\n",
      "20.0    159880\n",
      "0.0      90426\n",
      "Name: admin_fee, dtype: int64\n",
      "10.0    159880\n",
      "0.0      90426\n",
      "Name: state_fee, dtype: int64\n",
      "0.0       105884\n",
      "25.0       79621\n",
      "5.0        17655\n",
      "10.0       12516\n",
      "20.0       11354\n",
      "50.0        6545\n",
      "100.0       4803\n",
      "350.0       3785\n",
      "30.0        3680\n",
      "250.0       1506\n",
      "2.5         1223\n",
      "12.5         723\n",
      "150.0        251\n",
      "75.0         217\n",
      "1000.0       195\n",
      "35.0         126\n",
      "500.0         85\n",
      "120.0         40\n",
      "40.0          36\n",
      "200.0         14\n",
      "700.0         13\n",
      "60.0          10\n",
      "300.0          4\n",
      "22.0           3\n",
      "9.5            2\n",
      "175.0          2\n",
      "16.0           2\n",
      "125.0          2\n",
      "0.1            1\n",
      "800.0          1\n",
      "67.7           1\n",
      "45.0           1\n",
      "269.5          1\n",
      "17.0           1\n",
      "65.5           1\n",
      "97.0           1\n",
      "15.0           1\n",
      "Name: late_fee, dtype: int64\n",
      "0.0      249126\n",
      "25.0        605\n",
      "5.0         167\n",
      "10.0        155\n",
      "20.0        135\n",
      "50.0         43\n",
      "3.0          19\n",
      "30.0         17\n",
      "100.0        16\n",
      "350.0        15\n",
      "250.0         6\n",
      "40.0          1\n",
      "13.0          1\n",
      "Name: discount_amount, dtype: int64\n",
      "0.0    250306\n",
      "Name: clean_up_cost, dtype: int64\n",
      "0.0        90621\n",
      "305.0      79621\n",
      "85.0       17655\n",
      "140.0      12516\n",
      "250.0      11355\n",
      "280.0       7177\n",
      "580.0       6545\n",
      "1130.0      4803\n",
      "3880.0      3785\n",
      "360.0       3680\n",
      "130.0       2972\n",
      "80.0        2760\n",
      "2780.0      1506\n",
      "230.0       1356\n",
      "57.5        1223\n",
      "167.5        723\n",
      "530.0        373\n",
      "1680.0       251\n",
      "855.0        217\n",
      "11030.0      195\n",
      "1030.0       162\n",
      "55.0         155\n",
      "415.0        126\n",
      "330.0         88\n",
      "5530.0        85\n",
      "3530.0        74\n",
      "155.0         70\n",
      "1350.0        40\n",
      "2530.0        39\n",
      "470.0         36\n",
      "2230.0        14\n",
      "7730.0        13\n",
      "1530.0        13\n",
      "780.0         12\n",
      "690.0         10\n",
      "3330.0         4\n",
      "272.0          3\n",
      "430.0          3\n",
      "2030.0         2\n",
      "1405.0         2\n",
      "380.0          2\n",
      "206.0          2\n",
      "1955.0         2\n",
      "134.5          2\n",
      "750.5          1\n",
      "2994.5         1\n",
      "525.0          1\n",
      "180.0          1\n",
      "300.0          1\n",
      "1097.0         1\n",
      "8830.0         1\n",
      "1060.0         1\n",
      "195.0          1\n",
      "217.0          1\n",
      "50.0           1\n",
      "774.7          1\n",
      "31.1           1\n",
      "Name: judgment_amount, dtype: int64\n",
      "0.0       209193\n",
      "305.0       7797\n",
      "280.0       6415\n",
      "255.0       4535\n",
      "85.0        2728\n",
      "140.0       2176\n",
      "130.0       2056\n",
      "250.0       1699\n",
      "80.0        1635\n",
      "120.0       1585\n",
      "75.0        1564\n",
      "230.0       1263\n",
      "210.0        619\n",
      "580.0        543\n",
      "100.0        454\n",
      "1130.0       438\n",
      "50.0         402\n",
      "530.0        382\n",
      "3880.0       246\n",
      "1030.0       225\n",
      "200.0        216\n",
      "480.0        188\n",
      "360.0        186\n",
      "55.0         158\n",
      "183.0        143\n",
      "3530.0       138\n",
      "330.0        118\n",
      "30.0         111\n",
      "2780.0       105\n",
      "252.0        101\n",
      "           ...  \n",
      "7410.0         1\n",
      "866.0          1\n",
      "1641.3         1\n",
      "810.0          1\n",
      "12.0           1\n",
      "5380.0         1\n",
      "164.0          1\n",
      "915.0          1\n",
      "329.0          1\n",
      "47.0           1\n",
      "22.5           1\n",
      "122.7          1\n",
      "279.6          1\n",
      "1275.0         1\n",
      "638.0          1\n",
      "142.0          1\n",
      "0.5            1\n",
      "277.2          1\n",
      "277.7          1\n",
      "645.0          1\n",
      "910.0          1\n",
      "865.0          1\n",
      "1180.0         1\n",
      "29.0           1\n",
      "365.1          1\n",
      "1300.0         1\n",
      "3630.0         1\n",
      "54.0           1\n",
      "652.5          1\n",
      "223.0          1\n",
      "Name: payment_amount, dtype: int64\n",
      " 0.0        111510\n",
      " 305.0       67281\n",
      " 85.0        14092\n",
      " 140.0        9324\n",
      " 250.0        8967\n",
      " 25.0         7692\n",
      " 580.0        5673\n",
      " 1130.0       4151\n",
      " 360.0        3402\n",
      " 3880.0       3386\n",
      " 10.0         2389\n",
      " 5.0          2135\n",
      " 2780.0       1307\n",
      " 20.0         1246\n",
      " 57.5         1061\n",
      " 30.0          644\n",
      " 167.5         630\n",
      " 50.0          496\n",
      " 100.0         226\n",
      " 1680.0        217\n",
      "-25.0          206\n",
      " 855.0         187\n",
      " 11030.0       187\n",
      "-20.0          143\n",
      " 122.0         143\n",
      " 2.5           133\n",
      "-10.0          129\n",
      "-5.0           122\n",
      " 415.0         117\n",
      " 40.0          106\n",
      "             ...  \n",
      " 242.5           1\n",
      "-2000.0          1\n",
      " 3680.0          1\n",
      "-3400.0          1\n",
      " 3630.0          1\n",
      " 247.9           1\n",
      " 61.4            1\n",
      " 254.0           1\n",
      "-39.0            1\n",
      " 2530.0          1\n",
      " 1777.5          1\n",
      "-82.5            1\n",
      " 202.8           1\n",
      " 3560.0          1\n",
      " 244.9           1\n",
      " 111.5           1\n",
      " 3570.0          1\n",
      " 170.0           1\n",
      " 182.3           1\n",
      " 114.0           1\n",
      "-1155.0          1\n",
      " 1525.0          1\n",
      " 2590.0          1\n",
      " 302.0           1\n",
      " 8.8             1\n",
      " 555.0           1\n",
      " 100.2           1\n",
      " 272.3           1\n",
      "-520.0           1\n",
      " 3550.0          1\n",
      "Name: balance_due, dtype: int64\n",
      "NO PAYMENT APPLIED         209193\n",
      "PAID IN FULL                31931\n",
      "PARTIAL PAYMENT APPLIED      9182\n",
      "Name: payment_status, dtype: int64\n",
      "non-compliant by no payment                        129267\n",
      "not responsible by disposition                      89735\n",
      "non-compliant by late payment more than 1 month     19016\n",
      "compliant by late payment within 1 month             6300\n",
      "compliant by on-time payment                         3880\n",
      "compliant by early payment                            992\n",
      "not responsible by pending judgment disposition       691\n",
      "compliant by no fine                                  195\n",
      "compliant by payment with no scheduled hearing        161\n",
      "compliant by payment on unknown date                   69\n",
      "Name: compliance_detail, dtype: int64\n",
      "0.0    148283\n",
      "1.0     11597\n",
      "Name: compliance, dtype: int64\n"
     ]
    }
   ],
   "source": [
    "for col in (feat_col):\n",
    "    print(df[col].value_counts())"
   ]
  },
  {
   "cell_type": "code",
   "execution_count": 21,
   "metadata": {
    "collapsed": false
   },
   "outputs": [
    {
     "data": {
      "text/plain": [
       "['violation_street_number',\n",
       " 'violation_zip_code',\n",
       " 'mailing_address_str_number',\n",
       " 'fine_amount',\n",
       " 'admin_fee',\n",
       " 'state_fee',\n",
       " 'late_fee',\n",
       " 'discount_amount',\n",
       " 'clean_up_cost',\n",
       " 'judgment_amount',\n",
       " 'payment_amount',\n",
       " 'balance_due',\n",
       " 'compliance']"
      ]
     },
     "execution_count": 21,
     "metadata": {},
     "output_type": "execute_result"
    }
   ],
   "source": [
    "float_cols = (df.columns[(df.dtypes.values == np.dtype('float64'))]).tolist()\n",
    "float_cols"
   ]
  },
  {
   "cell_type": "code",
   "execution_count": 22,
   "metadata": {
    "collapsed": true
   },
   "outputs": [],
   "source": [
    "remo_col = ['violation_zip_code','balance_due','payment_amount','non_us_str_code','payment_date','collection_status',\n",
    "            'mailing_address_str_number','grafitti_status','violation_description']"
   ]
  },
  {
   "cell_type": "code",
   "execution_count": 23,
   "metadata": {
    "collapsed": false
   },
   "outputs": [
    {
     "data": {
      "text/plain": [
       "['violation_street_number',\n",
       " 'fine_amount',\n",
       " 'admin_fee',\n",
       " 'state_fee',\n",
       " 'late_fee',\n",
       " 'discount_amount',\n",
       " 'clean_up_cost',\n",
       " 'judgment_amount',\n",
       " 'compliance']"
      ]
     },
     "execution_count": 23,
     "metadata": {},
     "output_type": "execute_result"
    }
   ],
   "source": [
    "float_feat_cols = [x for x in float_cols if x not in remo_col]\n",
    "float_feat_cols"
   ]
  },
  {
   "cell_type": "markdown",
   "metadata": {},
   "source": [
    "Columns are not in TEST DATA:\n",
    "payment_amount - Amount paid, if any\n",
    "payment_date - Date payment was made, if it was received\n",
    "payment_status - Current payment status as of Feb 1 2017\n",
    "balance_due - Fines and fees still owed\n",
    "collection_status - Flag for payments in collections"
   ]
  },
  {
   "cell_type": "code",
   "execution_count": 24,
   "metadata": {
    "collapsed": false
   },
   "outputs": [
    {
     "data": {
      "text/html": [
       "<div>\n",
       "<table border=\"1\" class=\"dataframe\">\n",
       "  <thead>\n",
       "    <tr style=\"text-align: right;\">\n",
       "      <th></th>\n",
       "      <th>violation_street_number</th>\n",
       "      <th>fine_amount</th>\n",
       "      <th>admin_fee</th>\n",
       "      <th>state_fee</th>\n",
       "      <th>late_fee</th>\n",
       "      <th>discount_amount</th>\n",
       "      <th>clean_up_cost</th>\n",
       "      <th>judgment_amount</th>\n",
       "      <th>compliance</th>\n",
       "    </tr>\n",
       "  </thead>\n",
       "  <tbody>\n",
       "    <tr>\n",
       "      <th>0</th>\n",
       "      <td>601.0</td>\n",
       "      <td>250.0</td>\n",
       "      <td>20.0</td>\n",
       "      <td>10.0</td>\n",
       "      <td>25.0</td>\n",
       "      <td>0.0</td>\n",
       "      <td>0.0</td>\n",
       "      <td>305.0</td>\n",
       "      <td>0.0</td>\n",
       "    </tr>\n",
       "    <tr>\n",
       "      <th>1</th>\n",
       "      <td>607.0</td>\n",
       "      <td>250.0</td>\n",
       "      <td>20.0</td>\n",
       "      <td>10.0</td>\n",
       "      <td>25.0</td>\n",
       "      <td>0.0</td>\n",
       "      <td>0.0</td>\n",
       "      <td>305.0</td>\n",
       "      <td>0.0</td>\n",
       "    </tr>\n",
       "    <tr>\n",
       "      <th>2</th>\n",
       "      <td>4066.0</td>\n",
       "      <td>250.0</td>\n",
       "      <td>0.0</td>\n",
       "      <td>0.0</td>\n",
       "      <td>0.0</td>\n",
       "      <td>0.0</td>\n",
       "      <td>0.0</td>\n",
       "      <td>0.0</td>\n",
       "      <td>NaN</td>\n",
       "    </tr>\n",
       "    <tr>\n",
       "      <th>3</th>\n",
       "      <td>3005.0</td>\n",
       "      <td>250.0</td>\n",
       "      <td>20.0</td>\n",
       "      <td>10.0</td>\n",
       "      <td>25.0</td>\n",
       "      <td>0.0</td>\n",
       "      <td>0.0</td>\n",
       "      <td>305.0</td>\n",
       "      <td>0.0</td>\n",
       "    </tr>\n",
       "    <tr>\n",
       "      <th>4</th>\n",
       "      <td>4024.0</td>\n",
       "      <td>250.0</td>\n",
       "      <td>20.0</td>\n",
       "      <td>10.0</td>\n",
       "      <td>25.0</td>\n",
       "      <td>0.0</td>\n",
       "      <td>0.0</td>\n",
       "      <td>305.0</td>\n",
       "      <td>0.0</td>\n",
       "    </tr>\n",
       "  </tbody>\n",
       "</table>\n",
       "</div>"
      ],
      "text/plain": [
       "   violation_street_number  fine_amount  admin_fee  state_fee  late_fee  \\\n",
       "0                    601.0        250.0       20.0       10.0      25.0   \n",
       "1                    607.0        250.0       20.0       10.0      25.0   \n",
       "2                   4066.0        250.0        0.0        0.0       0.0   \n",
       "3                   3005.0        250.0       20.0       10.0      25.0   \n",
       "4                   4024.0        250.0       20.0       10.0      25.0   \n",
       "\n",
       "   discount_amount  clean_up_cost  judgment_amount  compliance  \n",
       "0              0.0            0.0            305.0         0.0  \n",
       "1              0.0            0.0            305.0         0.0  \n",
       "2              0.0            0.0              0.0         NaN  \n",
       "3              0.0            0.0            305.0         0.0  \n",
       "4              0.0            0.0            305.0         0.0  "
      ]
     },
     "execution_count": 24,
     "metadata": {},
     "output_type": "execute_result"
    }
   ],
   "source": [
    "data = df[float_feat_cols]\n",
    "data.head()"
   ]
  },
  {
   "cell_type": "code",
   "execution_count": 25,
   "metadata": {
    "collapsed": false
   },
   "outputs": [
    {
     "data": {
      "text/plain": [
       "(250306, 9)"
      ]
     },
     "execution_count": 25,
     "metadata": {},
     "output_type": "execute_result"
    }
   ],
   "source": [
    "data.shape"
   ]
  },
  {
   "cell_type": "code",
   "execution_count": 26,
   "metadata": {
    "collapsed": false
   },
   "outputs": [],
   "source": [
    "data = data.dropna().reset_index().drop('index',axis=1)"
   ]
  },
  {
   "cell_type": "code",
   "execution_count": 27,
   "metadata": {
    "collapsed": false
   },
   "outputs": [
    {
     "data": {
      "text/html": [
       "<div>\n",
       "<table border=\"1\" class=\"dataframe\">\n",
       "  <thead>\n",
       "    <tr style=\"text-align: right;\">\n",
       "      <th></th>\n",
       "      <th>violation_street_number</th>\n",
       "      <th>fine_amount</th>\n",
       "      <th>admin_fee</th>\n",
       "      <th>state_fee</th>\n",
       "      <th>late_fee</th>\n",
       "      <th>discount_amount</th>\n",
       "      <th>clean_up_cost</th>\n",
       "      <th>judgment_amount</th>\n",
       "      <th>compliance</th>\n",
       "    </tr>\n",
       "  </thead>\n",
       "  <tbody>\n",
       "    <tr>\n",
       "      <th>0</th>\n",
       "      <td>601.0</td>\n",
       "      <td>250.0</td>\n",
       "      <td>20.0</td>\n",
       "      <td>10.0</td>\n",
       "      <td>25.0</td>\n",
       "      <td>0.0</td>\n",
       "      <td>0.0</td>\n",
       "      <td>305.0</td>\n",
       "      <td>0.0</td>\n",
       "    </tr>\n",
       "    <tr>\n",
       "      <th>1</th>\n",
       "      <td>607.0</td>\n",
       "      <td>250.0</td>\n",
       "      <td>20.0</td>\n",
       "      <td>10.0</td>\n",
       "      <td>25.0</td>\n",
       "      <td>0.0</td>\n",
       "      <td>0.0</td>\n",
       "      <td>305.0</td>\n",
       "      <td>0.0</td>\n",
       "    </tr>\n",
       "    <tr>\n",
       "      <th>2</th>\n",
       "      <td>3005.0</td>\n",
       "      <td>250.0</td>\n",
       "      <td>20.0</td>\n",
       "      <td>10.0</td>\n",
       "      <td>25.0</td>\n",
       "      <td>0.0</td>\n",
       "      <td>0.0</td>\n",
       "      <td>305.0</td>\n",
       "      <td>0.0</td>\n",
       "    </tr>\n",
       "    <tr>\n",
       "      <th>3</th>\n",
       "      <td>4024.0</td>\n",
       "      <td>250.0</td>\n",
       "      <td>20.0</td>\n",
       "      <td>10.0</td>\n",
       "      <td>25.0</td>\n",
       "      <td>0.0</td>\n",
       "      <td>0.0</td>\n",
       "      <td>305.0</td>\n",
       "      <td>0.0</td>\n",
       "    </tr>\n",
       "    <tr>\n",
       "      <th>4</th>\n",
       "      <td>4017.0</td>\n",
       "      <td>250.0</td>\n",
       "      <td>20.0</td>\n",
       "      <td>10.0</td>\n",
       "      <td>25.0</td>\n",
       "      <td>0.0</td>\n",
       "      <td>0.0</td>\n",
       "      <td>305.0</td>\n",
       "      <td>0.0</td>\n",
       "    </tr>\n",
       "  </tbody>\n",
       "</table>\n",
       "</div>"
      ],
      "text/plain": [
       "   violation_street_number  fine_amount  admin_fee  state_fee  late_fee  \\\n",
       "0                    601.0        250.0       20.0       10.0      25.0   \n",
       "1                    607.0        250.0       20.0       10.0      25.0   \n",
       "2                   3005.0        250.0       20.0       10.0      25.0   \n",
       "3                   4024.0        250.0       20.0       10.0      25.0   \n",
       "4                   4017.0        250.0       20.0       10.0      25.0   \n",
       "\n",
       "   discount_amount  clean_up_cost  judgment_amount  compliance  \n",
       "0              0.0            0.0            305.0         0.0  \n",
       "1              0.0            0.0            305.0         0.0  \n",
       "2              0.0            0.0            305.0         0.0  \n",
       "3              0.0            0.0            305.0         0.0  \n",
       "4              0.0            0.0            305.0         0.0  "
      ]
     },
     "execution_count": 27,
     "metadata": {},
     "output_type": "execute_result"
    }
   ],
   "source": [
    "data.head()"
   ]
  },
  {
   "cell_type": "code",
   "execution_count": 28,
   "metadata": {
    "collapsed": false
   },
   "outputs": [
    {
     "data": {
      "text/plain": [
       "(159880, 9)"
      ]
     },
     "execution_count": 28,
     "metadata": {},
     "output_type": "execute_result"
    }
   ],
   "source": [
    "data.shape"
   ]
  },
  {
   "cell_type": "code",
   "execution_count": 29,
   "metadata": {
    "collapsed": false
   },
   "outputs": [],
   "source": [
    "X = data.iloc[:,:-1]\n",
    "y = data.iloc[:,-1]\n",
    "\n",
    "from sklearn.model_selection import train_test_split\n",
    "X_train, X_test, y_train, y_test = train_test_split(X, y, random_state = 0)\n",
    "\n",
    "from sklearn.linear_model import LogisticRegression\n",
    "from sklearn.preprocessing import MinMaxScaler\n",
    "\n",
    "scaler = MinMaxScaler()\n",
    "X_trScaled = scaler.fit_transform(X_train)\n",
    "X_tsScaled = scaler.transform(X_test)\n",
    "Log_model = LogisticRegression().fit(X_trScaled, y_train)"
   ]
  },
  {
   "cell_type": "code",
   "execution_count": 30,
   "metadata": {
    "collapsed": false
   },
   "outputs": [
    {
     "data": {
      "text/plain": [
       "0.92752064048036031"
      ]
     },
     "execution_count": 30,
     "metadata": {},
     "output_type": "execute_result"
    }
   ],
   "source": [
    "Log_model.score(X_trScaled,y_train)"
   ]
  },
  {
   "cell_type": "code",
   "execution_count": 31,
   "metadata": {
    "collapsed": false
   },
   "outputs": [
    {
     "data": {
      "text/plain": [
       "0.92864648486364776"
      ]
     },
     "execution_count": 31,
     "metadata": {},
     "output_type": "execute_result"
    }
   ],
   "source": [
    "Log_model.score(X_tsScaled,y_test)"
   ]
  },
  {
   "cell_type": "code",
   "execution_count": 32,
   "metadata": {
    "collapsed": false
   },
   "outputs": [
    {
     "data": {
      "text/plain": [
       "(39970, 8)"
      ]
     },
     "execution_count": 32,
     "metadata": {},
     "output_type": "execute_result"
    }
   ],
   "source": [
    "X_tsScaled.shape"
   ]
  },
  {
   "cell_type": "code",
   "execution_count": 33,
   "metadata": {
    "collapsed": false
   },
   "outputs": [
    {
     "data": {
      "text/plain": [
       "(39970,)"
      ]
     },
     "execution_count": 33,
     "metadata": {},
     "output_type": "execute_result"
    }
   ],
   "source": [
    "y_pred = Log_model.predict(X_tsScaled)\n",
    "y_pred.shape"
   ]
  },
  {
   "cell_type": "code",
   "execution_count": 34,
   "metadata": {
    "collapsed": false
   },
   "outputs": [
    {
     "name": "stdout",
     "output_type": "stream",
     "text": [
      "             precision    recall  f1-score   support\n",
      "\n",
      "        0.0       0.93      1.00      0.96     37109\n",
      "        1.0       0.60      0.01      0.02      2861\n",
      "\n",
      "avg / total       0.91      0.93      0.90     39970\n",
      "\n"
     ]
    }
   ],
   "source": [
    "from sklearn.metrics import classification_report\n",
    "\n",
    "print(classification_report(y_test,y_pred))"
   ]
  },
  {
   "cell_type": "code",
   "execution_count": 35,
   "metadata": {
    "collapsed": false
   },
   "outputs": [
    {
     "name": "stdout",
     "output_type": "stream",
     "text": [
      "[[37092    17]\n",
      " [ 2835    26]]\n"
     ]
    }
   ],
   "source": [
    "from sklearn.metrics import confusion_matrix\n",
    "\n",
    "print(confusion_matrix(y_test,y_pred))"
   ]
  },
  {
   "cell_type": "code",
   "execution_count": 36,
   "metadata": {
    "collapsed": false
   },
   "outputs": [
    {
     "name": "stdout",
     "output_type": "stream",
     "text": [
      "[[111123     51]\n",
      " [  8640     96]]\n"
     ]
    }
   ],
   "source": [
    "print(confusion_matrix(y_train,Log_model.predict(X_trScaled)))"
   ]
  },
  {
   "cell_type": "code",
   "execution_count": 37,
   "metadata": {
    "collapsed": true
   },
   "outputs": [],
   "source": [
    "y_prob_score = Log_model.predict_proba(X_trScaled)\n",
    "y_test_prob_score = Log_model.predict_proba(X_tsScaled)"
   ]
  },
  {
   "cell_type": "code",
   "execution_count": 38,
   "metadata": {
    "collapsed": false
   },
   "outputs": [
    {
     "data": {
      "text/plain": [
       "(119910, 2)"
      ]
     },
     "execution_count": 38,
     "metadata": {},
     "output_type": "execute_result"
    }
   ],
   "source": [
    "y_prob_score.shape"
   ]
  },
  {
   "cell_type": "code",
   "execution_count": 39,
   "metadata": {
    "collapsed": false
   },
   "outputs": [
    {
     "data": {
      "text/plain": [
       "array([[ 0.93576456,  0.06423544],\n",
       "       [ 0.96047492,  0.03952508],\n",
       "       [ 0.91466099,  0.08533901],\n",
       "       [ 0.93576437,  0.06423563],\n",
       "       [ 0.93575876,  0.06424124],\n",
       "       [ 0.87198514,  0.12801486],\n",
       "       [ 0.92934158,  0.07065842],\n",
       "       [ 0.92933203,  0.07066797],\n",
       "       [ 0.93575632,  0.06424368],\n",
       "       [ 0.91467047,  0.08532953]])"
      ]
     },
     "execution_count": 39,
     "metadata": {},
     "output_type": "execute_result"
    }
   ],
   "source": [
    "y_prob_score[0:10][:]"
   ]
  },
  {
   "cell_type": "code",
   "execution_count": 40,
   "metadata": {
    "collapsed": false
   },
   "outputs": [
    {
     "data": {
      "text/plain": [
       "67578     0.0\n",
       "123761    0.0\n",
       "89311     0.0\n",
       "45141     0.0\n",
       "57759     0.0\n",
       "100598    0.0\n",
       "83501     0.0\n",
       "85705     0.0\n",
       "110920    0.0\n",
       "56963     0.0\n",
       "Name: compliance, dtype: float64"
      ]
     },
     "execution_count": 40,
     "metadata": {},
     "output_type": "execute_result"
    }
   ],
   "source": [
    "y_train[0:10][:]"
   ]
  },
  {
   "cell_type": "code",
   "execution_count": 41,
   "metadata": {
    "collapsed": false
   },
   "outputs": [
    {
     "name": "stdout",
     "output_type": "stream",
     "text": [
      "LogRegr(test data) ROC curve (area = 0.75)\n"
     ]
    }
   ],
   "source": [
    "from sklearn.metrics import roc_curve, auc\n",
    "\n",
    "fpr_lr, tpr_lr, _ = roc_curve(y_test, y_test_prob_score[:,1])\n",
    "roc_auc_lr = auc(fpr_lr, tpr_lr)\n",
    "print('LogRegr(test data) ROC curve (area = {:0.2f})'.format(roc_auc_lr))"
   ]
  },
  {
   "cell_type": "code",
   "execution_count": 42,
   "metadata": {
    "collapsed": false
   },
   "outputs": [
    {
     "data": {
      "text/plain": [
       "0.7504167065049373"
      ]
     },
     "execution_count": 42,
     "metadata": {},
     "output_type": "execute_result"
    }
   ],
   "source": [
    "from sklearn.metrics import roc_auc_score\n",
    "\n",
    "roc_auc_score(y_test, y_test_prob_score[:,1])"
   ]
  },
  {
   "cell_type": "code",
   "execution_count": 43,
   "metadata": {
    "collapsed": false
   },
   "outputs": [
    {
     "name": "stdout",
     "output_type": "stream",
     "text": [
      "LogRegr(train data) ROC curve (area = 0.76)\n"
     ]
    }
   ],
   "source": [
    "fpr_lr_tr, tpr_lr_tr, _ = roc_curve(y_train, y_prob_score[:,1])\n",
    "roc_auc_lr = auc(fpr_lr_tr, tpr_lr_tr)\n",
    "print('LogRegr(train data) ROC curve (area = {:0.2f})'.format(roc_auc_lr))"
   ]
  },
  {
   "cell_type": "code",
   "execution_count": 44,
   "metadata": {
    "collapsed": false
   },
   "outputs": [
    {
     "data": {
      "text/plain": [
       "0.75717771488590202"
      ]
     },
     "execution_count": 44,
     "metadata": {},
     "output_type": "execute_result"
    }
   ],
   "source": [
    "roc_auc_score(y_train, y_prob_score[:,1])"
   ]
  },
  {
   "cell_type": "code",
   "execution_count": 45,
   "metadata": {
    "collapsed": true
   },
   "outputs": [],
   "source": [
    "df_test = pd.read_csv(\"readonly/test.csv\")\n",
    "df_test = df_test.sort_values('ticket_id',axis=0).reset_index().drop('index',axis=1)"
   ]
  },
  {
   "cell_type": "code",
   "execution_count": 46,
   "metadata": {
    "collapsed": false
   },
   "outputs": [
    {
     "data": {
      "text/html": [
       "<div>\n",
       "<table border=\"1\" class=\"dataframe\">\n",
       "  <thead>\n",
       "    <tr style=\"text-align: right;\">\n",
       "      <th></th>\n",
       "      <th>ticket_id</th>\n",
       "      <th>agency_name</th>\n",
       "      <th>inspector_name</th>\n",
       "      <th>violator_name</th>\n",
       "      <th>violation_street_number</th>\n",
       "      <th>violation_street_name</th>\n",
       "      <th>violation_zip_code</th>\n",
       "      <th>mailing_address_str_number</th>\n",
       "      <th>mailing_address_str_name</th>\n",
       "      <th>city</th>\n",
       "      <th>...</th>\n",
       "      <th>violation_description</th>\n",
       "      <th>disposition</th>\n",
       "      <th>fine_amount</th>\n",
       "      <th>admin_fee</th>\n",
       "      <th>state_fee</th>\n",
       "      <th>late_fee</th>\n",
       "      <th>discount_amount</th>\n",
       "      <th>clean_up_cost</th>\n",
       "      <th>judgment_amount</th>\n",
       "      <th>grafitti_status</th>\n",
       "    </tr>\n",
       "  </thead>\n",
       "  <tbody>\n",
       "    <tr>\n",
       "      <th>0</th>\n",
       "      <td>284932</td>\n",
       "      <td>Department of Public Works</td>\n",
       "      <td>Granberry, Aisha B</td>\n",
       "      <td>FLUELLEN, JOHN A</td>\n",
       "      <td>10041.0</td>\n",
       "      <td>ROSEBERRY</td>\n",
       "      <td>NaN</td>\n",
       "      <td>141</td>\n",
       "      <td>ROSEBERRY</td>\n",
       "      <td>DETROIT</td>\n",
       "      <td>...</td>\n",
       "      <td>Failure to secure City or Private solid waste ...</td>\n",
       "      <td>Responsible by Default</td>\n",
       "      <td>200.0</td>\n",
       "      <td>20.0</td>\n",
       "      <td>10.0</td>\n",
       "      <td>20.0</td>\n",
       "      <td>0.0</td>\n",
       "      <td>0.0</td>\n",
       "      <td>250.0</td>\n",
       "      <td>NaN</td>\n",
       "    </tr>\n",
       "    <tr>\n",
       "      <th>1</th>\n",
       "      <td>284943</td>\n",
       "      <td>Department of Public Works</td>\n",
       "      <td>Buchanan, Daryl</td>\n",
       "      <td>BAGLEY HOUSING ASSOCIATION INC, .</td>\n",
       "      <td>4410.0</td>\n",
       "      <td>UTHES</td>\n",
       "      <td>NaN</td>\n",
       "      <td>2715</td>\n",
       "      <td>BAGLEY</td>\n",
       "      <td>DETROIT</td>\n",
       "      <td>...</td>\n",
       "      <td>Allowing bulk solid waste to lie or accumulate...</td>\n",
       "      <td>Responsible by Default</td>\n",
       "      <td>1000.0</td>\n",
       "      <td>20.0</td>\n",
       "      <td>10.0</td>\n",
       "      <td>100.0</td>\n",
       "      <td>0.0</td>\n",
       "      <td>0.0</td>\n",
       "      <td>1130.0</td>\n",
       "      <td>NaN</td>\n",
       "    </tr>\n",
       "    <tr>\n",
       "      <th>2</th>\n",
       "      <td>284944</td>\n",
       "      <td>Department of Public Works</td>\n",
       "      <td>Buchanan, Daryl</td>\n",
       "      <td>U.S BANK, .</td>\n",
       "      <td>7050.0</td>\n",
       "      <td>LEXINGTON</td>\n",
       "      <td>NaN</td>\n",
       "      <td>481</td>\n",
       "      <td>FREDRICA</td>\n",
       "      <td>OWENSBORO</td>\n",
       "      <td>...</td>\n",
       "      <td>Violation of time limit for approved container...</td>\n",
       "      <td>Responsible by Default</td>\n",
       "      <td>100.0</td>\n",
       "      <td>20.0</td>\n",
       "      <td>10.0</td>\n",
       "      <td>10.0</td>\n",
       "      <td>0.0</td>\n",
       "      <td>0.0</td>\n",
       "      <td>140.0</td>\n",
       "      <td>NaN</td>\n",
       "    </tr>\n",
       "    <tr>\n",
       "      <th>3</th>\n",
       "      <td>284945</td>\n",
       "      <td>Department of Public Works</td>\n",
       "      <td>Buchanan, Daryl</td>\n",
       "      <td>JACKSON LAND HOLDINGS, .</td>\n",
       "      <td>809.0</td>\n",
       "      <td>BEARD</td>\n",
       "      <td>NaN</td>\n",
       "      <td>39</td>\n",
       "      <td>CENTENNIAL DR STE C</td>\n",
       "      <td>MIDLAND</td>\n",
       "      <td>...</td>\n",
       "      <td>Allowing bulk solid waste to lie or accumulate...</td>\n",
       "      <td>Responsible by Default</td>\n",
       "      <td>1000.0</td>\n",
       "      <td>20.0</td>\n",
       "      <td>10.0</td>\n",
       "      <td>100.0</td>\n",
       "      <td>0.0</td>\n",
       "      <td>0.0</td>\n",
       "      <td>1130.0</td>\n",
       "      <td>NaN</td>\n",
       "    </tr>\n",
       "    <tr>\n",
       "      <th>4</th>\n",
       "      <td>284946</td>\n",
       "      <td>Department of Public Works</td>\n",
       "      <td>Buchanan, Daryl</td>\n",
       "      <td>EVERLY, DARLENE</td>\n",
       "      <td>6404.0</td>\n",
       "      <td>MORSE</td>\n",
       "      <td>NaN</td>\n",
       "      <td>98</td>\n",
       "      <td>AMOS</td>\n",
       "      <td>HOWELL</td>\n",
       "      <td>...</td>\n",
       "      <td>Allowing bulk solid waste to lie or accumulate...</td>\n",
       "      <td>Responsible by Determination</td>\n",
       "      <td>100.0</td>\n",
       "      <td>20.0</td>\n",
       "      <td>10.0</td>\n",
       "      <td>10.0</td>\n",
       "      <td>0.0</td>\n",
       "      <td>0.0</td>\n",
       "      <td>140.0</td>\n",
       "      <td>NaN</td>\n",
       "    </tr>\n",
       "  </tbody>\n",
       "</table>\n",
       "<p>5 rows × 27 columns</p>\n",
       "</div>"
      ],
      "text/plain": [
       "   ticket_id                 agency_name      inspector_name  \\\n",
       "0     284932  Department of Public Works  Granberry, Aisha B   \n",
       "1     284943  Department of Public Works     Buchanan, Daryl   \n",
       "2     284944  Department of Public Works     Buchanan, Daryl   \n",
       "3     284945  Department of Public Works     Buchanan, Daryl   \n",
       "4     284946  Department of Public Works     Buchanan, Daryl   \n",
       "\n",
       "                       violator_name  violation_street_number  \\\n",
       "0                   FLUELLEN, JOHN A                  10041.0   \n",
       "1  BAGLEY HOUSING ASSOCIATION INC, .                   4410.0   \n",
       "2                        U.S BANK, .                   7050.0   \n",
       "3           JACKSON LAND HOLDINGS, .                    809.0   \n",
       "4                    EVERLY, DARLENE                   6404.0   \n",
       "\n",
       "  violation_street_name violation_zip_code mailing_address_str_number  \\\n",
       "0             ROSEBERRY                NaN                        141   \n",
       "1                 UTHES                NaN                       2715   \n",
       "2             LEXINGTON                NaN                        481   \n",
       "3                 BEARD                NaN                         39   \n",
       "4                 MORSE                NaN                         98   \n",
       "\n",
       "  mailing_address_str_name       city       ...         \\\n",
       "0                ROSEBERRY    DETROIT       ...          \n",
       "1                   BAGLEY    DETROIT       ...          \n",
       "2                 FREDRICA  OWENSBORO       ...          \n",
       "3      CENTENNIAL DR STE C    MIDLAND       ...          \n",
       "4                     AMOS     HOWELL       ...          \n",
       "\n",
       "                               violation_description  \\\n",
       "0  Failure to secure City or Private solid waste ...   \n",
       "1  Allowing bulk solid waste to lie or accumulate...   \n",
       "2  Violation of time limit for approved container...   \n",
       "3  Allowing bulk solid waste to lie or accumulate...   \n",
       "4  Allowing bulk solid waste to lie or accumulate...   \n",
       "\n",
       "                    disposition  fine_amount admin_fee state_fee late_fee  \\\n",
       "0        Responsible by Default        200.0      20.0      10.0     20.0   \n",
       "1        Responsible by Default       1000.0      20.0      10.0    100.0   \n",
       "2        Responsible by Default        100.0      20.0      10.0     10.0   \n",
       "3        Responsible by Default       1000.0      20.0      10.0    100.0   \n",
       "4  Responsible by Determination        100.0      20.0      10.0     10.0   \n",
       "\n",
       "  discount_amount clean_up_cost judgment_amount  grafitti_status  \n",
       "0             0.0           0.0           250.0              NaN  \n",
       "1             0.0           0.0          1130.0              NaN  \n",
       "2             0.0           0.0           140.0              NaN  \n",
       "3             0.0           0.0          1130.0              NaN  \n",
       "4             0.0           0.0           140.0              NaN  \n",
       "\n",
       "[5 rows x 27 columns]"
      ]
     },
     "execution_count": 46,
     "metadata": {},
     "output_type": "execute_result"
    }
   ],
   "source": [
    "df_test.head()"
   ]
  },
  {
   "cell_type": "code",
   "execution_count": 47,
   "metadata": {
    "collapsed": false
   },
   "outputs": [
    {
     "data": {
      "text/plain": [
       "['violation_street_number',\n",
       " 'fine_amount',\n",
       " 'admin_fee',\n",
       " 'state_fee',\n",
       " 'late_fee',\n",
       " 'discount_amount',\n",
       " 'clean_up_cost',\n",
       " 'judgment_amount',\n",
       " 'compliance']"
      ]
     },
     "execution_count": 47,
     "metadata": {},
     "output_type": "execute_result"
    }
   ],
   "source": [
    "float_feat_cols = [x for x in float_cols if x not in remo_col]\n",
    "float_feat_cols"
   ]
  },
  {
   "cell_type": "code",
   "execution_count": 48,
   "metadata": {
    "collapsed": false
   },
   "outputs": [],
   "source": [
    "data_test = df_test[float_feat_cols[:-1]]"
   ]
  },
  {
   "cell_type": "code",
   "execution_count": 49,
   "metadata": {
    "collapsed": false
   },
   "outputs": [
    {
     "data": {
      "text/plain": [
       "Index(['violation_street_number', 'fine_amount', 'admin_fee', 'state_fee',\n",
       "       'late_fee', 'discount_amount', 'clean_up_cost', 'judgment_amount'],\n",
       "      dtype='object')"
      ]
     },
     "execution_count": 49,
     "metadata": {},
     "output_type": "execute_result"
    }
   ],
   "source": [
    "data_test.columns"
   ]
  },
  {
   "cell_type": "code",
   "execution_count": 50,
   "metadata": {
    "collapsed": false
   },
   "outputs": [
    {
     "data": {
      "text/plain": [
       "violation_street_number    float64\n",
       "fine_amount                float64\n",
       "admin_fee                  float64\n",
       "state_fee                  float64\n",
       "late_fee                   float64\n",
       "discount_amount            float64\n",
       "clean_up_cost              float64\n",
       "judgment_amount            float64\n",
       "dtype: object"
      ]
     },
     "execution_count": 50,
     "metadata": {},
     "output_type": "execute_result"
    }
   ],
   "source": [
    "data_test.dtypes"
   ]
  },
  {
   "cell_type": "code",
   "execution_count": 51,
   "metadata": {
    "collapsed": true
   },
   "outputs": [],
   "source": [
    "data_test = data_test.dropna().reset_index().drop('index',axis=1)"
   ]
  },
  {
   "cell_type": "code",
   "execution_count": 52,
   "metadata": {
    "collapsed": false
   },
   "outputs": [],
   "source": [
    "X_testScaled = scaler.transform(data_test)"
   ]
  },
  {
   "cell_type": "code",
   "execution_count": 53,
   "metadata": {
    "collapsed": true
   },
   "outputs": [],
   "source": [
    "y_testprob_score = Log_model.predict_proba(X_testScaled)"
   ]
  },
  {
   "cell_type": "code",
   "execution_count": 54,
   "metadata": {
    "collapsed": false
   },
   "outputs": [
    {
     "data": {
      "text/plain": [
       "(61001, 2)"
      ]
     },
     "execution_count": 54,
     "metadata": {},
     "output_type": "execute_result"
    }
   ],
   "source": [
    "y_testprob_score.shape"
   ]
  },
  {
   "cell_type": "code",
   "execution_count": 55,
   "metadata": {
    "collapsed": false
   },
   "outputs": [
    {
     "data": {
      "text/plain": [
       "array([[ 0.92933243,  0.07066757],\n",
       "       [ 0.9854191 ,  0.0145809 ],\n",
       "       [ 0.91465273,  0.08534727],\n",
       "       ..., \n",
       "       [ 0.89807643,  0.10192357],\n",
       "       [ 0.87200248,  0.12799752],\n",
       "       [ 0.9146587 ,  0.0853413 ]])"
      ]
     },
     "execution_count": 55,
     "metadata": {},
     "output_type": "execute_result"
    }
   ],
   "source": [
    "y_testprob_score"
   ]
  },
  {
   "cell_type": "code",
   "execution_count": 60,
   "metadata": {
    "collapsed": true
   },
   "outputs": [],
   "source": [
    "final_ans = pd.Series(data = y_testprob_score[:,1], index = df_test['ticket_id'], dtype='float32')"
   ]
  },
  {
   "cell_type": "code",
   "execution_count": 61,
   "metadata": {
    "collapsed": false
   },
   "outputs": [
    {
     "data": {
      "text/plain": [
       "61001"
      ]
     },
     "execution_count": 61,
     "metadata": {},
     "output_type": "execute_result"
    }
   ],
   "source": [
    "len(final_ans)"
   ]
  },
  {
   "cell_type": "code",
   "execution_count": 56,
   "metadata": {
    "collapsed": true
   },
   "outputs": [],
   "source": [
    "import pandas as pd\n",
    "import numpy as np\n",
    "\n",
    "def blight_model():\n",
    "    \n",
    "    # Your code here\n",
    "    \n",
    "    return # Your answer here"
   ]
  },
  {
   "cell_type": "code",
   "execution_count": 57,
   "metadata": {
    "collapsed": true
   },
   "outputs": [],
   "source": [
    "blight_model()"
   ]
  },
  {
   "cell_type": "code",
   "execution_count": null,
   "metadata": {
    "collapsed": true
   },
   "outputs": [],
   "source": []
  },
  {
   "cell_type": "code",
   "execution_count": 58,
   "metadata": {
    "collapsed": false
   },
   "outputs": [
    {
     "name": "stderr",
     "output_type": "stream",
     "text": [
      "/opt/conda/lib/python3.6/site-packages/IPython/core/interactiveshell.py:2717: DtypeWarning: Columns (11,12,31) have mixed types. Specify dtype option on import or set low_memory=False.\n",
      "  interactivity=interactivity, compiler=compiler, result=result)\n"
     ]
    }
   ],
   "source": [
    "import math\n",
    "from sklearn.ensemble import RandomForestClassifier\n",
    "from sklearn.model_selection import train_test_split\n",
    "from sklearn.metrics import roc_auc_score\n",
    "from sklearn.metrics import roc_curve, auc\n",
    "from sklearn.preprocessing import LabelEncoder\n",
    "from sklearn.model_selection import GridSearchCV\n",
    "\n",
    "df = pd.read_csv('train.csv', encoding = \"ISO-8859-1\")\n",
    "\n",
    "df.index = df['ticket_id']\n",
    "    \n",
    "#     features_name = ['agency_name', 'inspector_name', 'violator_name', 'violation_street_number', \n",
    "#                      'violation_street_name', 'mailing_address_str_number', 'mailing_address_str_name',\n",
    "#                      'city', 'state', 'zip_code', 'ticket_issued_date', 'hearing_date',\n",
    "#                      'violation_code', 'violation_description', 'disposition', 'fine_amount', 'admin_fee',\n",
    "#                      'state_fee' , 'late_fee', 'discount_amount', 'clean_up_cost' , 'judgment_amount'\n",
    "#                      ]\n",
    "\n",
    "features_name = ['fine_amount', 'admin_fee', 'state_fee', 'late_fee']\n",
    "        \n",
    "df.compliance = df.compliance.fillna(value=-1)\n",
    "    \n",
    "df = df[df.compliance != -1]\n",
    "    \n",
    "#     le = LabelEncoder().fit(df['inspector_name'])\n",
    "    \n",
    "#     inspector_name_transformed = le.transform(df['inspector_name'])\n",
    " \n",
    "X = df[features_name]\n",
    "    \n",
    "#     X['inspector_name'] = le.transform(df['inspector_name'])\n",
    "    \n",
    "#     print(X)\n",
    "    \n",
    "X.fillna(value = -1)\n",
    "    \n",
    "y = df.compliance\n",
    "    \n",
    "X_train, X_test, y_train, y_test = train_test_split(X, y, random_state = 0)\n",
    "    \n",
    "clf = RandomForestClassifier(n_estimators = 10, max_depth = 5).fit(X_train, y_train)\n",
    "    \n",
    "#     grid_values = {'n_estimators': [9, 10, 11], 'max_depth': [1,2,3,4,5] }  # n_est = 10 and max_depth = 5\n",
    "    \n",
    "    # default metric to optimize over grid parameters: accuracy\n",
    "#     grid_clf = GridSearchCV(clf, param_grid = grid_values)\n",
    "#     grid_clf.fit(X_train, y_train)\n",
    "\n",
    "#     y_score = clf.predict(X_test)\n",
    "    \n",
    "#     fpr, tpr, _ = roc_curve(y_test, y_score)\n",
    "    \n",
    "#     roc_auc = auc(fpr, tpr)\n",
    "    \n",
    "#     print(roc_auc)\n",
    "\n",
    "features_name = ['fine_amount', 'admin_fee', 'state_fee', 'late_fee']\n",
    "    \n",
    "df_test = pd.read_csv('readonly/test.csv', encoding = \"ISO-8859-1\")\n",
    "    \n",
    "df_test.index = df_test['ticket_id']\n",
    "    \n",
    "X_predict = clf.predict_proba(df_test[features_name])\n",
    "    \n",
    "ans = pd.Series(data = X_predict[:,1], index = df_test['ticket_id'], dtype='float32')\n"
   ]
  },
  {
   "cell_type": "code",
   "execution_count": 59,
   "metadata": {
    "collapsed": false
   },
   "outputs": [
    {
     "data": {
      "text/plain": [
       "0.75317309843694624"
      ]
     },
     "execution_count": 59,
     "metadata": {},
     "output_type": "execute_result"
    }
   ],
   "source": [
    "y_score = clf.predict_proba(X_test)\n",
    "\n",
    "roc_auc_score(y_test,y_score[:,-1])"
   ]
  },
  {
   "cell_type": "code",
   "execution_count": null,
   "metadata": {
    "collapsed": true
   },
   "outputs": [],
   "source": []
  }
 ],
 "metadata": {
  "coursera": {
   "course_slug": "python-machine-learning",
   "graded_item_id": "nNS8l",
   "launcher_item_id": "yWWk7",
   "part_id": "w8BSS"
  },
  "kernelspec": {
   "display_name": "Python 3",
   "language": "python",
   "name": "python3"
  },
  "language_info": {
   "codemirror_mode": {
    "name": "ipython",
    "version": 3
   },
   "file_extension": ".py",
   "mimetype": "text/x-python",
   "name": "python",
   "nbconvert_exporter": "python",
   "pygments_lexer": "ipython3",
   "version": "3.6.2"
  }
 },
 "nbformat": 4,
 "nbformat_minor": 2
}
