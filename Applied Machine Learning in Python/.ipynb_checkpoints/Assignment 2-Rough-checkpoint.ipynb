{
 "cells": [
  {
   "cell_type": "markdown",
   "metadata": {},
   "source": [
    "---\n",
    "\n",
    "_You are currently looking at **version 1.5** of this notebook. To download notebooks and datafiles, as well as get help on Jupyter notebooks in the Coursera platform, visit the [Jupyter Notebook FAQ](https://www.coursera.org/learn/python-machine-learning/resources/bANLa) course resource._\n",
    "\n",
    "---"
   ]
  },
  {
   "cell_type": "markdown",
   "metadata": {},
   "source": [
    "# Assignment 2\n",
    "\n",
    "In this assignment you'll explore the relationship between model complexity and generalization performance, by adjusting key parameters of various supervised learning models. Part 1 of this assignment will look at regression and Part 2 will look at classification.\n",
    "\n",
    "## Part 1 - Regression"
   ]
  },
  {
   "cell_type": "markdown",
   "metadata": {},
   "source": [
    "First, run the following block to set up the variables needed for later sections."
   ]
  },
  {
   "cell_type": "code",
   "execution_count": 62,
   "metadata": {
    "collapsed": false,
    "scrolled": false
   },
   "outputs": [],
   "source": [
    "import numpy as np\n",
    "import pandas as pd\n",
    "from sklearn.model_selection import train_test_split\n",
    "\n",
    "\n",
    "np.random.seed(0)\n",
    "n = 15\n",
    "x = np.linspace(0,10,n) + np.random.randn(n)/5\n",
    "y = np.sin(x)+x/6 + np.random.randn(n)/10\n",
    "\n",
    "\n",
    "X_train, X_test, y_train, y_test = train_test_split(x, y, random_state=0)\n",
    "\n",
    "# You can use this function to help you visualize the dataset by\n",
    "# plotting a scatterplot of the data points\n",
    "# in the training and test sets.\n",
    "def part1_scatter():\n",
    "    import matplotlib.pyplot as plt\n",
    "    %matplotlib notebook\n",
    "    plt.figure()\n",
    "    plt.scatter(X_train, y_train, label='training data')\n",
    "    plt.scatter(X_test, y_test, label='test data')\n",
    "    plt.legend(loc=4);\n",
    "    \n",
    "    \n",
    "# NOTE: Uncomment the function below to visualize the data, but be sure \n",
    "# to **re-comment it before submitting this assignment to the autograder**.   \n",
    "# part1_scatter()"
   ]
  },
  {
   "cell_type": "code",
   "execution_count": 63,
   "metadata": {
    "collapsed": false
   },
   "outputs": [
    {
     "data": {
      "text/plain": [
       "array([ 1.21213026,  0.36408873,  1.24877201,  1.81942995,  1.82595557,\n",
       "       -0.05233879,  2.31966323,  0.98630796,  0.43770571,  0.07512287,\n",
       "        2.08031157])"
      ]
     },
     "execution_count": 63,
     "metadata": {},
     "output_type": "execute_result"
    }
   ],
   "source": [
    "y_train"
   ]
  },
  {
   "cell_type": "code",
   "execution_count": 64,
   "metadata": {
    "collapsed": false
   },
   "outputs": [
    {
     "data": {
      "text/plain": [
       "array([ 10.08877265,   3.23065446,   1.62431903,   9.31004929,\n",
       "         7.17166586,   4.96972856])"
      ]
     },
     "execution_count": 64,
     "metadata": {},
     "output_type": "execute_result"
    }
   ],
   "source": [
    "X_train[:-5]"
   ]
  },
  {
   "cell_type": "code",
   "execution_count": 65,
   "metadata": {
    "collapsed": false
   },
   "outputs": [
    {
     "data": {
      "text/plain": [
       "(11,)"
      ]
     },
     "execution_count": 65,
     "metadata": {},
     "output_type": "execute_result"
    }
   ],
   "source": [
    "X_train.shape"
   ]
  },
  {
   "cell_type": "code",
   "execution_count": 66,
   "metadata": {
    "collapsed": false
   },
   "outputs": [
    {
     "data": {
      "text/plain": [
       "array([[ 10.08877265],\n",
       "       [  3.23065446],\n",
       "       [  1.62431903],\n",
       "       [  9.31004929],\n",
       "       [  7.17166586],\n",
       "       [  4.96972856],\n",
       "       [  8.14799756],\n",
       "       [  2.59103578],\n",
       "       [  0.35281047],\n",
       "       [  3.375973  ],\n",
       "       [  8.72363612]])"
      ]
     },
     "execution_count": 66,
     "metadata": {},
     "output_type": "execute_result"
    }
   ],
   "source": [
    "X_train.reshape(-1,1)\n"
   ]
  },
  {
   "cell_type": "code",
   "execution_count": 67,
   "metadata": {
    "collapsed": false
   },
   "outputs": [
    {
     "data": {
      "text/plain": [
       "array([ 10.08877265,   3.23065446,   1.62431903,   9.31004929,\n",
       "         7.17166586,   4.96972856,   8.14799756,   2.59103578,\n",
       "         0.35281047,   3.375973  ,   8.72363612])"
      ]
     },
     "execution_count": 67,
     "metadata": {},
     "output_type": "execute_result"
    }
   ],
   "source": [
    "X_train"
   ]
  },
  {
   "cell_type": "code",
   "execution_count": 68,
   "metadata": {
    "collapsed": false
   },
   "outputs": [
    {
     "data": {
      "text/plain": [
       "array([ 0.79431716,  4.47573197,  5.69364194,  6.51069113])"
      ]
     },
     "execution_count": 68,
     "metadata": {},
     "output_type": "execute_result"
    }
   ],
   "source": [
    "X_test"
   ]
  },
  {
   "cell_type": "code",
   "execution_count": 69,
   "metadata": {
    "collapsed": false
   },
   "outputs": [
    {
     "data": {
      "text/plain": [
       "array([[ 0.79431716],\n",
       "       [ 4.47573197],\n",
       "       [ 5.69364194],\n",
       "       [ 6.51069113]])"
      ]
     },
     "execution_count": 69,
     "metadata": {},
     "output_type": "execute_result"
    }
   ],
   "source": [
    "X_test.reshape(-1,1)"
   ]
  },
  {
   "cell_type": "code",
   "execution_count": 70,
   "metadata": {
    "collapsed": false
   },
   "outputs": [
    {
     "data": {
      "text/plain": [
       "array([ 0.79431716,  4.47573197,  5.69364194,  6.51069113])"
      ]
     },
     "execution_count": 70,
     "metadata": {},
     "output_type": "execute_result"
    }
   ],
   "source": [
    "X_test"
   ]
  },
  {
   "cell_type": "code",
   "execution_count": 71,
   "metadata": {
    "collapsed": false
   },
   "outputs": [
    {
     "data": {
      "text/plain": [
       "array([ 0.99517935, -0.16081   ,  0.3187423 ,  1.53763897])"
      ]
     },
     "execution_count": 71,
     "metadata": {},
     "output_type": "execute_result"
    }
   ],
   "source": [
    "y_test"
   ]
  },
  {
   "cell_type": "markdown",
   "metadata": {},
   "source": [
    "### Question 1\n",
    "\n",
    "Write a function that fits a polynomial LinearRegression model on the *training data* `X_train` for degrees 1, 3, 6, and 9. (Use PolynomialFeatures in sklearn.preprocessing to create the polynomial features and then fit a linear regression model) For each model, find 100 predicted values over the interval x = 0 to 10 (e.g. `np.linspace(0,10,100)`) and store this in a numpy array. The first row of this array should correspond to the output from the model trained on degree 1, the second row degree 3, the third row degree 6, and the fourth row degree 9.\n",
    "\n",
    "<img src=\"readonly/polynomialreg1.png\" style=\"width: 1000px;\"/>\n",
    "\n",
    "The figure above shows the fitted models plotted on top of the original data (using `plot_one()`).\n",
    "\n",
    "<br>\n",
    "*This function should return a numpy array with shape `(4, 100)`*"
   ]
  },
  {
   "cell_type": "code",
   "execution_count": 72,
   "metadata": {
    "collapsed": true
   },
   "outputs": [],
   "source": [
    "from sklearn.linear_model import LinearRegression\n",
    "from sklearn.preprocessing import PolynomialFeatures"
   ]
  },
  {
   "cell_type": "code",
   "execution_count": 73,
   "metadata": {
    "collapsed": false
   },
   "outputs": [
    {
     "name": "stdout",
     "output_type": "stream",
     "text": [
      "1\n",
      "3\n",
      "6\n",
      "9\n"
     ]
    }
   ],
   "source": [
    "degrees = [1, 3, 6, 9]\n",
    "y_pred_poly = []\n",
    "for i in degrees:\n",
    "    print(i)"
   ]
  },
  {
   "cell_type": "code",
   "execution_count": 74,
   "metadata": {
    "collapsed": false
   },
   "outputs": [],
   "source": [
    "for d in degrees:\n",
    "    poly = PolynomialFeatures(degree=d)\n",
    "    X_train_poly = poly.fit_transform(X_train.reshape(-1,1))\n",
    "    lr_model = LinearRegression().fit(X_train_poly, y_train)\n",
    "    X_test_poly = np.linspace(0,10,100)\n",
    "    X_test_poly = poly.transform(X_test_poly.reshape(-1,1))\n",
    "    y_pred_poly.append(lr_model.predict(X_test_poly))\n",
    "    \n",
    "#y_pred_poly"
   ]
  },
  {
   "cell_type": "code",
   "execution_count": 75,
   "metadata": {
    "collapsed": false
   },
   "outputs": [
    {
     "data": {
      "text/plain": [
       "(11, 10)"
      ]
     },
     "execution_count": 75,
     "metadata": {},
     "output_type": "execute_result"
    }
   ],
   "source": [
    "X_train_poly.shape"
   ]
  },
  {
   "cell_type": "code",
   "execution_count": 76,
   "metadata": {
    "collapsed": false
   },
   "outputs": [
    {
     "data": {
      "text/plain": [
       "(11,)"
      ]
     },
     "execution_count": 76,
     "metadata": {},
     "output_type": "execute_result"
    }
   ],
   "source": [
    "y_train.shape"
   ]
  },
  {
   "cell_type": "code",
   "execution_count": 77,
   "metadata": {
    "collapsed": false
   },
   "outputs": [
    {
     "data": {
      "text/plain": [
       "array([ 1.21213026,  0.36408873,  1.24877201,  1.81942995,  1.82595557,\n",
       "       -0.05233879,  2.31966323,  0.98630796,  0.43770571,  0.07512287,\n",
       "        2.08031157])"
      ]
     },
     "execution_count": 77,
     "metadata": {},
     "output_type": "execute_result"
    }
   ],
   "source": [
    "y_train"
   ]
  },
  {
   "cell_type": "code",
   "execution_count": 78,
   "metadata": {
    "collapsed": false
   },
   "outputs": [
    {
     "data": {
      "text/plain": [
       "(4, 100)"
      ]
     },
     "execution_count": 78,
     "metadata": {},
     "output_type": "execute_result"
    }
   ],
   "source": [
    "np.array(y_pred_poly).shape"
   ]
  },
  {
   "cell_type": "code",
   "execution_count": 79,
   "metadata": {
    "collapsed": false
   },
   "outputs": [
    {
     "data": {
      "text/plain": [
       "array([[  2.53040195e-01,   2.69201547e-01,   2.85362899e-01,\n",
       "          3.01524251e-01,   3.17685603e-01,   3.33846955e-01,\n",
       "          3.50008306e-01,   3.66169658e-01,   3.82331010e-01,\n",
       "          3.98492362e-01,   4.14653714e-01,   4.30815066e-01,\n",
       "          4.46976417e-01,   4.63137769e-01,   4.79299121e-01,\n",
       "          4.95460473e-01,   5.11621825e-01,   5.27783177e-01,\n",
       "          5.43944529e-01,   5.60105880e-01,   5.76267232e-01,\n",
       "          5.92428584e-01,   6.08589936e-01,   6.24751288e-01,\n",
       "          6.40912640e-01,   6.57073992e-01,   6.73235343e-01,\n",
       "          6.89396695e-01,   7.05558047e-01,   7.21719399e-01,\n",
       "          7.37880751e-01,   7.54042103e-01,   7.70203454e-01,\n",
       "          7.86364806e-01,   8.02526158e-01,   8.18687510e-01,\n",
       "          8.34848862e-01,   8.51010214e-01,   8.67171566e-01,\n",
       "          8.83332917e-01,   8.99494269e-01,   9.15655621e-01,\n",
       "          9.31816973e-01,   9.47978325e-01,   9.64139677e-01,\n",
       "          9.80301028e-01,   9.96462380e-01,   1.01262373e+00,\n",
       "          1.02878508e+00,   1.04494644e+00,   1.06110779e+00,\n",
       "          1.07726914e+00,   1.09343049e+00,   1.10959184e+00,\n",
       "          1.12575320e+00,   1.14191455e+00,   1.15807590e+00,\n",
       "          1.17423725e+00,   1.19039860e+00,   1.20655995e+00,\n",
       "          1.22272131e+00,   1.23888266e+00,   1.25504401e+00,\n",
       "          1.27120536e+00,   1.28736671e+00,   1.30352807e+00,\n",
       "          1.31968942e+00,   1.33585077e+00,   1.35201212e+00,\n",
       "          1.36817347e+00,   1.38433482e+00,   1.40049618e+00,\n",
       "          1.41665753e+00,   1.43281888e+00,   1.44898023e+00,\n",
       "          1.46514158e+00,   1.48130294e+00,   1.49746429e+00,\n",
       "          1.51362564e+00,   1.52978699e+00,   1.54594834e+00,\n",
       "          1.56210969e+00,   1.57827105e+00,   1.59443240e+00,\n",
       "          1.61059375e+00,   1.62675510e+00,   1.64291645e+00,\n",
       "          1.65907781e+00,   1.67523916e+00,   1.69140051e+00,\n",
       "          1.70756186e+00,   1.72372321e+00,   1.73988457e+00,\n",
       "          1.75604592e+00,   1.77220727e+00,   1.78836862e+00,\n",
       "          1.80452997e+00,   1.82069132e+00,   1.83685268e+00,\n",
       "          1.85301403e+00],\n",
       "       [  1.22989539e+00,   1.15143628e+00,   1.07722393e+00,\n",
       "          1.00717881e+00,   9.41221419e-01,   8.79272234e-01,\n",
       "          8.21251741e-01,   7.67080426e-01,   7.16678772e-01,\n",
       "          6.69967266e-01,   6.26866391e-01,   5.87296632e-01,\n",
       "          5.51178474e-01,   5.18432402e-01,   4.88978901e-01,\n",
       "          4.62738455e-01,   4.39631549e-01,   4.19578668e-01,\n",
       "          4.02500297e-01,   3.88316920e-01,   3.76949022e-01,\n",
       "          3.68317088e-01,   3.62341603e-01,   3.58943051e-01,\n",
       "          3.58041918e-01,   3.59558687e-01,   3.63413845e-01,\n",
       "          3.69527874e-01,   3.77821261e-01,   3.88214491e-01,\n",
       "          4.00628046e-01,   4.14982414e-01,   4.31198078e-01,\n",
       "          4.49195522e-01,   4.68895233e-01,   4.90217694e-01,\n",
       "          5.13083391e-01,   5.37412808e-01,   5.63126429e-01,\n",
       "          5.90144741e-01,   6.18388226e-01,   6.47777371e-01,\n",
       "          6.78232660e-01,   7.09674578e-01,   7.42023609e-01,\n",
       "          7.75200238e-01,   8.09124950e-01,   8.43718230e-01,\n",
       "          8.78900563e-01,   9.14592432e-01,   9.50714324e-01,\n",
       "          9.87186723e-01,   1.02393011e+00,   1.06086498e+00,\n",
       "          1.09791181e+00,   1.13499108e+00,   1.17202328e+00,\n",
       "          1.20892890e+00,   1.24562842e+00,   1.28204233e+00,\n",
       "          1.31809110e+00,   1.35369523e+00,   1.38877520e+00,\n",
       "          1.42325149e+00,   1.45704459e+00,   1.49007498e+00,\n",
       "          1.52226316e+00,   1.55352959e+00,   1.58379478e+00,\n",
       "          1.61297919e+00,   1.64100332e+00,   1.66778766e+00,\n",
       "          1.69325268e+00,   1.71731887e+00,   1.73990672e+00,\n",
       "          1.76093671e+00,   1.78032933e+00,   1.79800506e+00,\n",
       "          1.81388438e+00,   1.82788778e+00,   1.83993575e+00,\n",
       "          1.84994877e+00,   1.85784732e+00,   1.86355189e+00,\n",
       "          1.86698296e+00,   1.86806103e+00,   1.86670656e+00,\n",
       "          1.86284006e+00,   1.85638200e+00,   1.84725286e+00,\n",
       "          1.83537314e+00,   1.82066332e+00,   1.80304388e+00,\n",
       "          1.78243530e+00,   1.75875808e+00,   1.73193269e+00,\n",
       "          1.70187963e+00,   1.66851936e+00,   1.63177240e+00,\n",
       "          1.59155920e+00],\n",
       "       [ -1.99554310e-01,  -3.95192729e-03,   1.79851752e-01,\n",
       "          3.51005136e-01,   5.08831706e-01,   6.52819233e-01,\n",
       "          7.82609240e-01,   8.97986721e-01,   9.98870117e-01,\n",
       "          1.08530155e+00,   1.15743729e+00,   1.21553852e+00,\n",
       "          1.25996233e+00,   1.29115292e+00,   1.30963316e+00,\n",
       "          1.31599632e+00,   1.31089811e+00,   1.29504889e+00,\n",
       "          1.26920626e+00,   1.23416782e+00,   1.19076415e+00,\n",
       "          1.13985218e+00,   1.08230867e+00,   1.01902405e+00,\n",
       "          9.50896441e-01,   8.78825970e-01,   8.03709344e-01,\n",
       "          7.26434655e-01,   6.47876457e-01,   5.68891088e-01,\n",
       "          4.90312256e-01,   4.12946874e-01,   3.37571147e-01,\n",
       "          2.64926923e-01,   1.95718291e-01,   1.30608438e-01,\n",
       "          7.02167560e-02,   1.51162118e-02,  -3.41690366e-02,\n",
       "         -7.71657636e-02,  -1.13453547e-01,  -1.42666382e-01,\n",
       "         -1.64494044e-01,  -1.78683194e-01,  -1.85038228e-01,\n",
       "         -1.83421873e-01,  -1.73755533e-01,  -1.56019368e-01,\n",
       "         -1.30252132e-01,  -9.65507463e-02,  -5.50696232e-02,\n",
       "         -6.01973203e-03,   5.03325882e-02,   1.13667071e-01,\n",
       "          1.83611221e-01,   2.59742264e-01,   3.41589357e-01,\n",
       "          4.28636046e-01,   5.20322987e-01,   6.16050916e-01,\n",
       "          7.15183874e-01,   8.17052690e-01,   9.20958717e-01,\n",
       "          1.02617782e+00,   1.13196463e+00,   1.23755703e+00,\n",
       "          1.34218093e+00,   1.44505526e+00,   1.54539723e+00,\n",
       "          1.64242789e+00,   1.73537785e+00,   1.82349336e+00,\n",
       "          1.90604254e+00,   1.98232198e+00,   2.05166348e+00,\n",
       "          2.11344114e+00,   2.16707864e+00,   2.21205680e+00,\n",
       "          2.24792141e+00,   2.27429129e+00,   2.29086658e+00,\n",
       "          2.29743739e+00,   2.29389257e+00,   2.28022881e+00,\n",
       "          2.25656001e+00,   2.22312684e+00,   2.18030664e+00,\n",
       "          2.12862347e+00,   2.06875850e+00,   2.00156065e+00,\n",
       "          1.92805743e+00,   1.84946605e+00,   1.76720485e+00,\n",
       "          1.68290491e+00,   1.59842194e+00,   1.51584842e+00,\n",
       "          1.43752602e+00,   1.36605824e+00,   1.30432333e+00,\n",
       "          1.25548743e+00],\n",
       "       [  6.79502315e+00,   4.14319965e+00,   2.23123316e+00,\n",
       "          9.10495361e-01,   5.49800913e-02,  -4.41344739e-01,\n",
       "         -6.66950747e-01,  -6.94943197e-01,  -5.85049920e-01,\n",
       "         -3.85418713e-01,  -1.34236348e-01,   1.38818291e-01,\n",
       "          4.11274949e-01,   6.66715203e-01,   8.93747233e-01,\n",
       "          1.08510180e+00,   1.23683958e+00,   1.34766048e+00,\n",
       "          1.41830612e+00,   1.45104704e+00,   1.44924675e+00,\n",
       "          1.41699514e+00,   1.35880424e+00,   1.27935965e+00,\n",
       "          1.18332161e+00,   1.07516974e+00,   9.59086200e-01,\n",
       "          8.38872245e-01,   7.17893445e-01,   5.99049383e-01,\n",
       "          4.84763838e-01,   3.76991851e-01,   2.77240389e-01,\n",
       "          1.86599613e-01,   1.05782065e-01,   3.51673710e-02,\n",
       "         -2.51496888e-02,  -7.53096020e-02,  -1.15638682e-01,\n",
       "         -1.46601154e-01,  -1.68753939e-01,  -1.82705104e-01,\n",
       "         -1.89076735e-01,  -1.88472830e-01,  -1.81452582e-01,\n",
       "         -1.68509336e-01,  -1.50055280e-01,  -1.26411838e-01,\n",
       "         -9.78055951e-02,  -6.43694666e-02,  -2.61487236e-02,\n",
       "          1.68885955e-02,   6.48374453e-02,   1.17838320e-01,\n",
       "          1.76057261e-01,   2.39664033e-01,   3.08809213e-01,\n",
       "          3.83600954e-01,   4.64082174e-01,   5.50208937e-01,\n",
       "          6.41830759e-01,   7.38673538e-01,   8.40325779e-01,\n",
       "          9.46228700e-01,   1.05567078e+00,   1.16778720e+00,\n",
       "          1.28156451e+00,   1.39585081e+00,   1.50937164e+00,\n",
       "          1.62075148e+00,   1.72854081e+00,   1.83124847e+00,\n",
       "          1.92737884e+00,   2.01547318e+00,   2.09415447e+00,\n",
       "          2.16217455e+00,   2.21846249e+00,   2.26217266e+00,\n",
       "          2.29273088e+00,   2.30987664e+00,   2.31369924e+00,\n",
       "          2.30466539e+00,   2.28363552e+00,   2.25186572e+00,\n",
       "          2.21099192e+00,   2.16299272e+00,   2.11012682e+00,\n",
       "          2.05484055e+00,   1.99964106e+00,   1.94692977e+00,\n",
       "          1.89879084e+00,   1.85672866e+00,   1.82134809e+00,\n",
       "          1.79197090e+00,   1.76618106e+00,   1.73929145e+00,\n",
       "          1.70372403e+00,   1.64829476e+00,   1.55739451e+00,\n",
       "          1.41005645e+00]])"
      ]
     },
     "execution_count": 79,
     "metadata": {},
     "output_type": "execute_result"
    }
   ],
   "source": [
    "y_pred_poly = np.array(y_pred_poly)\n",
    "y_pred_poly"
   ]
  },
  {
   "cell_type": "code",
   "execution_count": 80,
   "metadata": {
    "collapsed": true
   },
   "outputs": [],
   "source": [
    "from sklearn.linear_model import LinearRegression\n",
    "from sklearn.preprocessing import PolynomialFeatures\n",
    "\n",
    "def answer_one():\n",
    "    # Your code here\n",
    "    degrees = [1, 3, 6, 9]\n",
    "    y_pred_poly = []\n",
    "    for d in degrees:\n",
    "        poly = PolynomialFeatures(degree=d)\n",
    "        X_train_poly = poly.fit_transform(X_train.reshape(-1,1))\n",
    "        lr_model = LinearRegression().fit(X_train_poly, y_train)\n",
    "        X_test_poly = np.linspace(0,10,100).reshape(-1,1)  # to convert it to (No. of records, 1)\n",
    "        X_test_poly = poly.transform(X_test_poly) # to convert it to (No. of records, No. of transformed poly features)\n",
    "        y_pred_poly.append(lr_model.predict(X_test_poly))\n",
    "\n",
    "    y_pred_poly = np.array(y_pred_poly)\n",
    "    # Return your answer\n",
    "    return y_pred_poly "
   ]
  },
  {
   "cell_type": "code",
   "execution_count": 81,
   "metadata": {
    "collapsed": true
   },
   "outputs": [],
   "source": [
    "# feel free to use the function plot_one() to replicate the figure \n",
    "# from the prompt once you have completed question one\n",
    "def plot_one(degree_predictions):\n",
    "    import matplotlib.pyplot as plt\n",
    "    %matplotlib notebook\n",
    "    plt.figure(figsize=(10,5))\n",
    "    plt.plot(X_train, y_train, 'o', label='training data', markersize=10)\n",
    "    plt.plot(X_test, y_test, 'o', label='test data', markersize=10)\n",
    "    for i,degree in enumerate([1,3,6,9]):\n",
    "        plt.plot(np.linspace(0,10,100), degree_predictions[i], alpha=0.8, lw=2, label='degree={}'.format(degree))\n",
    "    plt.ylim(-1,2.5)\n",
    "    plt.legend(loc=4)\n",
    "\n",
    "#plot_one(answer_one())"
   ]
  },
  {
   "cell_type": "code",
   "execution_count": 82,
   "metadata": {
    "collapsed": false
   },
   "outputs": [],
   "source": [
    "#plot_one(answer_one())"
   ]
  },
  {
   "cell_type": "code",
   "execution_count": 83,
   "metadata": {
    "collapsed": false
   },
   "outputs": [
    {
     "name": "stdout",
     "output_type": "stream",
     "text": [
      "0\n",
      "1\n",
      "2\n",
      "3\n",
      "4\n",
      "5\n",
      "6\n",
      "7\n",
      "8\n",
      "9\n"
     ]
    }
   ],
   "source": [
    "for i in range(0,10):\n",
    "    print(i)"
   ]
  },
  {
   "cell_type": "markdown",
   "metadata": {},
   "source": [
    "### Question 2\n",
    "\n",
    "Write a function that fits a polynomial LinearRegression model on the training data `X_train` for degrees 0 through 9. For each model compute the $R^2$ (coefficient of determination) regression score on the training data as well as the the test data, and return both of these arrays in a tuple.\n",
    "\n",
    "*This function should return one tuple of numpy arrays `(r2_train, r2_test)`. Both arrays should have shape `(10,)`*"
   ]
  },
  {
   "cell_type": "code",
   "execution_count": 84,
   "metadata": {
    "collapsed": false
   },
   "outputs": [
    {
     "name": "stdout",
     "output_type": "stream",
     "text": [
      "[ 0.          0.42924578  0.4510998   0.58719954  0.91941945  0.97578641\n",
      "  0.99018233  0.99352509  0.99637545  0.99803706] [-0.47808642 -0.45237104 -0.06856984  0.00533105  0.73004943  0.87708301\n",
      "  0.9214094   0.92021504  0.63247944 -0.64525447]\n"
     ]
    },
    {
     "data": {
      "text/plain": [
       "(10,)"
      ]
     },
     "execution_count": 84,
     "metadata": {},
     "output_type": "execute_result"
    }
   ],
   "source": [
    "from sklearn.metrics.regression import r2_score\n",
    "r2_train = []\n",
    "r2_test = []\n",
    "for d in range(0,10):\n",
    "    poly = PolynomialFeatures(degree=d)\n",
    "    X_train_poly = poly.fit_transform(X_train.reshape(-1,1))\n",
    "    lr_model = LinearRegression().fit(X_train_poly, y_train)\n",
    "    X_test_poly = poly.transform(X_test.reshape(-1,1))\n",
    "        \n",
    "    r2_train.append(lr_model.score(X_train_poly, y_train))\n",
    "    r2_test.append(lr_model.score(X_test_poly, y_test))\n",
    "    \n",
    "print(np.array(r2_train), np.array(r2_test))\n",
    "np.array(r2_train).shape"
   ]
  },
  {
   "cell_type": "code",
   "execution_count": 85,
   "metadata": {
    "collapsed": true
   },
   "outputs": [],
   "source": [
    "def answer_two():\n",
    "    from sklearn.linear_model import LinearRegression\n",
    "    from sklearn.preprocessing import PolynomialFeatures\n",
    "    from sklearn.metrics.regression import r2_score\n",
    "\n",
    "    # Your code here\n",
    "    r2_train = []\n",
    "    r2_test = []\n",
    "    for d in range(0,10):\n",
    "        poly = PolynomialFeatures(degree=d)\n",
    "        X_train_poly = poly.fit_transform(X_train.reshape(-1,1))\n",
    "        lr_model = LinearRegression().fit(X_train_poly, y_train)\n",
    "        X_test_poly = poly.transform(X_test.reshape(-1,1))\n",
    "        \n",
    "        r2_train.append(lr_model.score(X_train_poly, y_train))\n",
    "        r2_test.append(lr_model.score(X_test_poly, y_test))\n",
    "\n",
    "    return (np.array(r2_train), np.array(r2_test))# Your answer here"
   ]
  },
  {
   "cell_type": "code",
   "execution_count": 86,
   "metadata": {
    "collapsed": false
   },
   "outputs": [
    {
     "name": "stdout",
     "output_type": "stream",
     "text": [
      "(array([ 0.        ,  0.42924578,  0.4510998 ,  0.58719954,  0.91941945,\n",
      "        0.97578641,  0.99018233,  0.99352509,  0.99637545,  0.99803706]), array([-0.47808642, -0.45237104, -0.06856984,  0.00533105,  0.73004943,\n",
      "        0.87708301,  0.9214094 ,  0.92021504,  0.63247944, -0.64525447]))\n"
     ]
    }
   ],
   "source": [
    "print(answer_two())"
   ]
  },
  {
   "cell_type": "code",
   "execution_count": 87,
   "metadata": {
    "collapsed": false
   },
   "outputs": [
    {
     "name": "stdout",
     "output_type": "stream",
     "text": [
      "r2_train_score: [ 0.          0.42924578  0.4510998   0.58719954  0.91941945  0.97578641\n",
      "  0.99018233  0.99352509  0.99637545  0.99803706] \n"
     ]
    }
   ],
   "source": [
    "print('r2_train_score: {} '.format(answer_two()[0]))"
   ]
  },
  {
   "cell_type": "markdown",
   "metadata": {},
   "source": [
    "### Question 3\n",
    "\n",
    "Based on the $R^2$ scores from question 2 (degree levels 0 through 9), what degree level corresponds to a model that is underfitting? What degree level corresponds to a model that is overfitting? What choice of degree level would provide a model with good generalization performance on this dataset? \n",
    "\n",
    "Hint: Try plotting the $R^2$ scores from question 2 to visualize the relationship between degree level and $R^2$. Remember to comment out the import matplotlib line before submission.\n",
    "\n",
    "*This function should return one tuple with the degree values in this order: `(Underfitting, Overfitting, Good_Generalization)`. There might be multiple correct solutions, however, you only need to return one possible solution, for example, (1,2,3).* "
   ]
  },
  {
   "cell_type": "code",
   "execution_count": 123,
   "metadata": {
    "collapsed": false
   },
   "outputs": [
    {
     "data": {
      "application/javascript": [
       "/* Put everything inside the global mpl namespace */\n",
       "window.mpl = {};\n",
       "\n",
       "\n",
       "mpl.get_websocket_type = function() {\n",
       "    if (typeof(WebSocket) !== 'undefined') {\n",
       "        return WebSocket;\n",
       "    } else if (typeof(MozWebSocket) !== 'undefined') {\n",
       "        return MozWebSocket;\n",
       "    } else {\n",
       "        alert('Your browser does not have WebSocket support.' +\n",
       "              'Please try Chrome, Safari or Firefox ≥ 6. ' +\n",
       "              'Firefox 4 and 5 are also supported but you ' +\n",
       "              'have to enable WebSockets in about:config.');\n",
       "    };\n",
       "}\n",
       "\n",
       "mpl.figure = function(figure_id, websocket, ondownload, parent_element) {\n",
       "    this.id = figure_id;\n",
       "\n",
       "    this.ws = websocket;\n",
       "\n",
       "    this.supports_binary = (this.ws.binaryType != undefined);\n",
       "\n",
       "    if (!this.supports_binary) {\n",
       "        var warnings = document.getElementById(\"mpl-warnings\");\n",
       "        if (warnings) {\n",
       "            warnings.style.display = 'block';\n",
       "            warnings.textContent = (\n",
       "                \"This browser does not support binary websocket messages. \" +\n",
       "                    \"Performance may be slow.\");\n",
       "        }\n",
       "    }\n",
       "\n",
       "    this.imageObj = new Image();\n",
       "\n",
       "    this.context = undefined;\n",
       "    this.message = undefined;\n",
       "    this.canvas = undefined;\n",
       "    this.rubberband_canvas = undefined;\n",
       "    this.rubberband_context = undefined;\n",
       "    this.format_dropdown = undefined;\n",
       "\n",
       "    this.image_mode = 'full';\n",
       "\n",
       "    this.root = $('<div/>');\n",
       "    this._root_extra_style(this.root)\n",
       "    this.root.attr('style', 'display: inline-block');\n",
       "\n",
       "    $(parent_element).append(this.root);\n",
       "\n",
       "    this._init_header(this);\n",
       "    this._init_canvas(this);\n",
       "    this._init_toolbar(this);\n",
       "\n",
       "    var fig = this;\n",
       "\n",
       "    this.waiting = false;\n",
       "\n",
       "    this.ws.onopen =  function () {\n",
       "            fig.send_message(\"supports_binary\", {value: fig.supports_binary});\n",
       "            fig.send_message(\"send_image_mode\", {});\n",
       "            if (mpl.ratio != 1) {\n",
       "                fig.send_message(\"set_dpi_ratio\", {'dpi_ratio': mpl.ratio});\n",
       "            }\n",
       "            fig.send_message(\"refresh\", {});\n",
       "        }\n",
       "\n",
       "    this.imageObj.onload = function() {\n",
       "            if (fig.image_mode == 'full') {\n",
       "                // Full images could contain transparency (where diff images\n",
       "                // almost always do), so we need to clear the canvas so that\n",
       "                // there is no ghosting.\n",
       "                fig.context.clearRect(0, 0, fig.canvas.width, fig.canvas.height);\n",
       "            }\n",
       "            fig.context.drawImage(fig.imageObj, 0, 0);\n",
       "        };\n",
       "\n",
       "    this.imageObj.onunload = function() {\n",
       "        this.ws.close();\n",
       "    }\n",
       "\n",
       "    this.ws.onmessage = this._make_on_message_function(this);\n",
       "\n",
       "    this.ondownload = ondownload;\n",
       "}\n",
       "\n",
       "mpl.figure.prototype._init_header = function() {\n",
       "    var titlebar = $(\n",
       "        '<div class=\"ui-dialog-titlebar ui-widget-header ui-corner-all ' +\n",
       "        'ui-helper-clearfix\"/>');\n",
       "    var titletext = $(\n",
       "        '<div class=\"ui-dialog-title\" style=\"width: 100%; ' +\n",
       "        'text-align: center; padding: 3px;\"/>');\n",
       "    titlebar.append(titletext)\n",
       "    this.root.append(titlebar);\n",
       "    this.header = titletext[0];\n",
       "}\n",
       "\n",
       "\n",
       "\n",
       "mpl.figure.prototype._canvas_extra_style = function(canvas_div) {\n",
       "\n",
       "}\n",
       "\n",
       "\n",
       "mpl.figure.prototype._root_extra_style = function(canvas_div) {\n",
       "\n",
       "}\n",
       "\n",
       "mpl.figure.prototype._init_canvas = function() {\n",
       "    var fig = this;\n",
       "\n",
       "    var canvas_div = $('<div/>');\n",
       "\n",
       "    canvas_div.attr('style', 'position: relative; clear: both; outline: 0');\n",
       "\n",
       "    function canvas_keyboard_event(event) {\n",
       "        return fig.key_event(event, event['data']);\n",
       "    }\n",
       "\n",
       "    canvas_div.keydown('key_press', canvas_keyboard_event);\n",
       "    canvas_div.keyup('key_release', canvas_keyboard_event);\n",
       "    this.canvas_div = canvas_div\n",
       "    this._canvas_extra_style(canvas_div)\n",
       "    this.root.append(canvas_div);\n",
       "\n",
       "    var canvas = $('<canvas/>');\n",
       "    canvas.addClass('mpl-canvas');\n",
       "    canvas.attr('style', \"left: 0; top: 0; z-index: 0; outline: 0\")\n",
       "\n",
       "    this.canvas = canvas[0];\n",
       "    this.context = canvas[0].getContext(\"2d\");\n",
       "\n",
       "    var backingStore = this.context.backingStorePixelRatio ||\n",
       "\tthis.context.webkitBackingStorePixelRatio ||\n",
       "\tthis.context.mozBackingStorePixelRatio ||\n",
       "\tthis.context.msBackingStorePixelRatio ||\n",
       "\tthis.context.oBackingStorePixelRatio ||\n",
       "\tthis.context.backingStorePixelRatio || 1;\n",
       "\n",
       "    mpl.ratio = (window.devicePixelRatio || 1) / backingStore;\n",
       "\n",
       "    var rubberband = $('<canvas/>');\n",
       "    rubberband.attr('style', \"position: absolute; left: 0; top: 0; z-index: 1;\")\n",
       "\n",
       "    var pass_mouse_events = true;\n",
       "\n",
       "    canvas_div.resizable({\n",
       "        start: function(event, ui) {\n",
       "            pass_mouse_events = false;\n",
       "        },\n",
       "        resize: function(event, ui) {\n",
       "            fig.request_resize(ui.size.width, ui.size.height);\n",
       "        },\n",
       "        stop: function(event, ui) {\n",
       "            pass_mouse_events = true;\n",
       "            fig.request_resize(ui.size.width, ui.size.height);\n",
       "        },\n",
       "    });\n",
       "\n",
       "    function mouse_event_fn(event) {\n",
       "        if (pass_mouse_events)\n",
       "            return fig.mouse_event(event, event['data']);\n",
       "    }\n",
       "\n",
       "    rubberband.mousedown('button_press', mouse_event_fn);\n",
       "    rubberband.mouseup('button_release', mouse_event_fn);\n",
       "    // Throttle sequential mouse events to 1 every 20ms.\n",
       "    rubberband.mousemove('motion_notify', mouse_event_fn);\n",
       "\n",
       "    rubberband.mouseenter('figure_enter', mouse_event_fn);\n",
       "    rubberband.mouseleave('figure_leave', mouse_event_fn);\n",
       "\n",
       "    canvas_div.on(\"wheel\", function (event) {\n",
       "        event = event.originalEvent;\n",
       "        event['data'] = 'scroll'\n",
       "        if (event.deltaY < 0) {\n",
       "            event.step = 1;\n",
       "        } else {\n",
       "            event.step = -1;\n",
       "        }\n",
       "        mouse_event_fn(event);\n",
       "    });\n",
       "\n",
       "    canvas_div.append(canvas);\n",
       "    canvas_div.append(rubberband);\n",
       "\n",
       "    this.rubberband = rubberband;\n",
       "    this.rubberband_canvas = rubberband[0];\n",
       "    this.rubberband_context = rubberband[0].getContext(\"2d\");\n",
       "    this.rubberband_context.strokeStyle = \"#000000\";\n",
       "\n",
       "    this._resize_canvas = function(width, height) {\n",
       "        // Keep the size of the canvas, canvas container, and rubber band\n",
       "        // canvas in synch.\n",
       "        canvas_div.css('width', width)\n",
       "        canvas_div.css('height', height)\n",
       "\n",
       "        canvas.attr('width', width * mpl.ratio);\n",
       "        canvas.attr('height', height * mpl.ratio);\n",
       "        canvas.attr('style', 'width: ' + width + 'px; height: ' + height + 'px;');\n",
       "\n",
       "        rubberband.attr('width', width);\n",
       "        rubberband.attr('height', height);\n",
       "    }\n",
       "\n",
       "    // Set the figure to an initial 600x600px, this will subsequently be updated\n",
       "    // upon first draw.\n",
       "    this._resize_canvas(600, 600);\n",
       "\n",
       "    // Disable right mouse context menu.\n",
       "    $(this.rubberband_canvas).bind(\"contextmenu\",function(e){\n",
       "        return false;\n",
       "    });\n",
       "\n",
       "    function set_focus () {\n",
       "        canvas.focus();\n",
       "        canvas_div.focus();\n",
       "    }\n",
       "\n",
       "    window.setTimeout(set_focus, 100);\n",
       "}\n",
       "\n",
       "mpl.figure.prototype._init_toolbar = function() {\n",
       "    var fig = this;\n",
       "\n",
       "    var nav_element = $('<div/>')\n",
       "    nav_element.attr('style', 'width: 100%');\n",
       "    this.root.append(nav_element);\n",
       "\n",
       "    // Define a callback function for later on.\n",
       "    function toolbar_event(event) {\n",
       "        return fig.toolbar_button_onclick(event['data']);\n",
       "    }\n",
       "    function toolbar_mouse_event(event) {\n",
       "        return fig.toolbar_button_onmouseover(event['data']);\n",
       "    }\n",
       "\n",
       "    for(var toolbar_ind in mpl.toolbar_items) {\n",
       "        var name = mpl.toolbar_items[toolbar_ind][0];\n",
       "        var tooltip = mpl.toolbar_items[toolbar_ind][1];\n",
       "        var image = mpl.toolbar_items[toolbar_ind][2];\n",
       "        var method_name = mpl.toolbar_items[toolbar_ind][3];\n",
       "\n",
       "        if (!name) {\n",
       "            // put a spacer in here.\n",
       "            continue;\n",
       "        }\n",
       "        var button = $('<button/>');\n",
       "        button.addClass('ui-button ui-widget ui-state-default ui-corner-all ' +\n",
       "                        'ui-button-icon-only');\n",
       "        button.attr('role', 'button');\n",
       "        button.attr('aria-disabled', 'false');\n",
       "        button.click(method_name, toolbar_event);\n",
       "        button.mouseover(tooltip, toolbar_mouse_event);\n",
       "\n",
       "        var icon_img = $('<span/>');\n",
       "        icon_img.addClass('ui-button-icon-primary ui-icon');\n",
       "        icon_img.addClass(image);\n",
       "        icon_img.addClass('ui-corner-all');\n",
       "\n",
       "        var tooltip_span = $('<span/>');\n",
       "        tooltip_span.addClass('ui-button-text');\n",
       "        tooltip_span.html(tooltip);\n",
       "\n",
       "        button.append(icon_img);\n",
       "        button.append(tooltip_span);\n",
       "\n",
       "        nav_element.append(button);\n",
       "    }\n",
       "\n",
       "    var fmt_picker_span = $('<span/>');\n",
       "\n",
       "    var fmt_picker = $('<select/>');\n",
       "    fmt_picker.addClass('mpl-toolbar-option ui-widget ui-widget-content');\n",
       "    fmt_picker_span.append(fmt_picker);\n",
       "    nav_element.append(fmt_picker_span);\n",
       "    this.format_dropdown = fmt_picker[0];\n",
       "\n",
       "    for (var ind in mpl.extensions) {\n",
       "        var fmt = mpl.extensions[ind];\n",
       "        var option = $(\n",
       "            '<option/>', {selected: fmt === mpl.default_extension}).html(fmt);\n",
       "        fmt_picker.append(option)\n",
       "    }\n",
       "\n",
       "    // Add hover states to the ui-buttons\n",
       "    $( \".ui-button\" ).hover(\n",
       "        function() { $(this).addClass(\"ui-state-hover\");},\n",
       "        function() { $(this).removeClass(\"ui-state-hover\");}\n",
       "    );\n",
       "\n",
       "    var status_bar = $('<span class=\"mpl-message\"/>');\n",
       "    nav_element.append(status_bar);\n",
       "    this.message = status_bar[0];\n",
       "}\n",
       "\n",
       "mpl.figure.prototype.request_resize = function(x_pixels, y_pixels) {\n",
       "    // Request matplotlib to resize the figure. Matplotlib will then trigger a resize in the client,\n",
       "    // which will in turn request a refresh of the image.\n",
       "    this.send_message('resize', {'width': x_pixels, 'height': y_pixels});\n",
       "}\n",
       "\n",
       "mpl.figure.prototype.send_message = function(type, properties) {\n",
       "    properties['type'] = type;\n",
       "    properties['figure_id'] = this.id;\n",
       "    this.ws.send(JSON.stringify(properties));\n",
       "}\n",
       "\n",
       "mpl.figure.prototype.send_draw_message = function() {\n",
       "    if (!this.waiting) {\n",
       "        this.waiting = true;\n",
       "        this.ws.send(JSON.stringify({type: \"draw\", figure_id: this.id}));\n",
       "    }\n",
       "}\n",
       "\n",
       "\n",
       "mpl.figure.prototype.handle_save = function(fig, msg) {\n",
       "    var format_dropdown = fig.format_dropdown;\n",
       "    var format = format_dropdown.options[format_dropdown.selectedIndex].value;\n",
       "    fig.ondownload(fig, format);\n",
       "}\n",
       "\n",
       "\n",
       "mpl.figure.prototype.handle_resize = function(fig, msg) {\n",
       "    var size = msg['size'];\n",
       "    if (size[0] != fig.canvas.width || size[1] != fig.canvas.height) {\n",
       "        fig._resize_canvas(size[0], size[1]);\n",
       "        fig.send_message(\"refresh\", {});\n",
       "    };\n",
       "}\n",
       "\n",
       "mpl.figure.prototype.handle_rubberband = function(fig, msg) {\n",
       "    var x0 = msg['x0'] / mpl.ratio;\n",
       "    var y0 = (fig.canvas.height - msg['y0']) / mpl.ratio;\n",
       "    var x1 = msg['x1'] / mpl.ratio;\n",
       "    var y1 = (fig.canvas.height - msg['y1']) / mpl.ratio;\n",
       "    x0 = Math.floor(x0) + 0.5;\n",
       "    y0 = Math.floor(y0) + 0.5;\n",
       "    x1 = Math.floor(x1) + 0.5;\n",
       "    y1 = Math.floor(y1) + 0.5;\n",
       "    var min_x = Math.min(x0, x1);\n",
       "    var min_y = Math.min(y0, y1);\n",
       "    var width = Math.abs(x1 - x0);\n",
       "    var height = Math.abs(y1 - y0);\n",
       "\n",
       "    fig.rubberband_context.clearRect(\n",
       "        0, 0, fig.canvas.width, fig.canvas.height);\n",
       "\n",
       "    fig.rubberband_context.strokeRect(min_x, min_y, width, height);\n",
       "}\n",
       "\n",
       "mpl.figure.prototype.handle_figure_label = function(fig, msg) {\n",
       "    // Updates the figure title.\n",
       "    fig.header.textContent = msg['label'];\n",
       "}\n",
       "\n",
       "mpl.figure.prototype.handle_cursor = function(fig, msg) {\n",
       "    var cursor = msg['cursor'];\n",
       "    switch(cursor)\n",
       "    {\n",
       "    case 0:\n",
       "        cursor = 'pointer';\n",
       "        break;\n",
       "    case 1:\n",
       "        cursor = 'default';\n",
       "        break;\n",
       "    case 2:\n",
       "        cursor = 'crosshair';\n",
       "        break;\n",
       "    case 3:\n",
       "        cursor = 'move';\n",
       "        break;\n",
       "    }\n",
       "    fig.rubberband_canvas.style.cursor = cursor;\n",
       "}\n",
       "\n",
       "mpl.figure.prototype.handle_message = function(fig, msg) {\n",
       "    fig.message.textContent = msg['message'];\n",
       "}\n",
       "\n",
       "mpl.figure.prototype.handle_draw = function(fig, msg) {\n",
       "    // Request the server to send over a new figure.\n",
       "    fig.send_draw_message();\n",
       "}\n",
       "\n",
       "mpl.figure.prototype.handle_image_mode = function(fig, msg) {\n",
       "    fig.image_mode = msg['mode'];\n",
       "}\n",
       "\n",
       "mpl.figure.prototype.updated_canvas_event = function() {\n",
       "    // Called whenever the canvas gets updated.\n",
       "    this.send_message(\"ack\", {});\n",
       "}\n",
       "\n",
       "// A function to construct a web socket function for onmessage handling.\n",
       "// Called in the figure constructor.\n",
       "mpl.figure.prototype._make_on_message_function = function(fig) {\n",
       "    return function socket_on_message(evt) {\n",
       "        if (evt.data instanceof Blob) {\n",
       "            /* FIXME: We get \"Resource interpreted as Image but\n",
       "             * transferred with MIME type text/plain:\" errors on\n",
       "             * Chrome.  But how to set the MIME type?  It doesn't seem\n",
       "             * to be part of the websocket stream */\n",
       "            evt.data.type = \"image/png\";\n",
       "\n",
       "            /* Free the memory for the previous frames */\n",
       "            if (fig.imageObj.src) {\n",
       "                (window.URL || window.webkitURL).revokeObjectURL(\n",
       "                    fig.imageObj.src);\n",
       "            }\n",
       "\n",
       "            fig.imageObj.src = (window.URL || window.webkitURL).createObjectURL(\n",
       "                evt.data);\n",
       "            fig.updated_canvas_event();\n",
       "            fig.waiting = false;\n",
       "            return;\n",
       "        }\n",
       "        else if (typeof evt.data === 'string' && evt.data.slice(0, 21) == \"data:image/png;base64\") {\n",
       "            fig.imageObj.src = evt.data;\n",
       "            fig.updated_canvas_event();\n",
       "            fig.waiting = false;\n",
       "            return;\n",
       "        }\n",
       "\n",
       "        var msg = JSON.parse(evt.data);\n",
       "        var msg_type = msg['type'];\n",
       "\n",
       "        // Call the  \"handle_{type}\" callback, which takes\n",
       "        // the figure and JSON message as its only arguments.\n",
       "        try {\n",
       "            var callback = fig[\"handle_\" + msg_type];\n",
       "        } catch (e) {\n",
       "            console.log(\"No handler for the '\" + msg_type + \"' message type: \", msg);\n",
       "            return;\n",
       "        }\n",
       "\n",
       "        if (callback) {\n",
       "            try {\n",
       "                // console.log(\"Handling '\" + msg_type + \"' message: \", msg);\n",
       "                callback(fig, msg);\n",
       "            } catch (e) {\n",
       "                console.log(\"Exception inside the 'handler_\" + msg_type + \"' callback:\", e, e.stack, msg);\n",
       "            }\n",
       "        }\n",
       "    };\n",
       "}\n",
       "\n",
       "// from http://stackoverflow.com/questions/1114465/getting-mouse-location-in-canvas\n",
       "mpl.findpos = function(e) {\n",
       "    //this section is from http://www.quirksmode.org/js/events_properties.html\n",
       "    var targ;\n",
       "    if (!e)\n",
       "        e = window.event;\n",
       "    if (e.target)\n",
       "        targ = e.target;\n",
       "    else if (e.srcElement)\n",
       "        targ = e.srcElement;\n",
       "    if (targ.nodeType == 3) // defeat Safari bug\n",
       "        targ = targ.parentNode;\n",
       "\n",
       "    // jQuery normalizes the pageX and pageY\n",
       "    // pageX,Y are the mouse positions relative to the document\n",
       "    // offset() returns the position of the element relative to the document\n",
       "    var x = e.pageX - $(targ).offset().left;\n",
       "    var y = e.pageY - $(targ).offset().top;\n",
       "\n",
       "    return {\"x\": x, \"y\": y};\n",
       "};\n",
       "\n",
       "/*\n",
       " * return a copy of an object with only non-object keys\n",
       " * we need this to avoid circular references\n",
       " * http://stackoverflow.com/a/24161582/3208463\n",
       " */\n",
       "function simpleKeys (original) {\n",
       "  return Object.keys(original).reduce(function (obj, key) {\n",
       "    if (typeof original[key] !== 'object')\n",
       "        obj[key] = original[key]\n",
       "    return obj;\n",
       "  }, {});\n",
       "}\n",
       "\n",
       "mpl.figure.prototype.mouse_event = function(event, name) {\n",
       "    var canvas_pos = mpl.findpos(event)\n",
       "\n",
       "    if (name === 'button_press')\n",
       "    {\n",
       "        this.canvas.focus();\n",
       "        this.canvas_div.focus();\n",
       "    }\n",
       "\n",
       "    var x = canvas_pos.x * mpl.ratio;\n",
       "    var y = canvas_pos.y * mpl.ratio;\n",
       "\n",
       "    this.send_message(name, {x: x, y: y, button: event.button,\n",
       "                             step: event.step,\n",
       "                             guiEvent: simpleKeys(event)});\n",
       "\n",
       "    /* This prevents the web browser from automatically changing to\n",
       "     * the text insertion cursor when the button is pressed.  We want\n",
       "     * to control all of the cursor setting manually through the\n",
       "     * 'cursor' event from matplotlib */\n",
       "    event.preventDefault();\n",
       "    return false;\n",
       "}\n",
       "\n",
       "mpl.figure.prototype._key_event_extra = function(event, name) {\n",
       "    // Handle any extra behaviour associated with a key event\n",
       "}\n",
       "\n",
       "mpl.figure.prototype.key_event = function(event, name) {\n",
       "\n",
       "    // Prevent repeat events\n",
       "    if (name == 'key_press')\n",
       "    {\n",
       "        if (event.which === this._key)\n",
       "            return;\n",
       "        else\n",
       "            this._key = event.which;\n",
       "    }\n",
       "    if (name == 'key_release')\n",
       "        this._key = null;\n",
       "\n",
       "    var value = '';\n",
       "    if (event.ctrlKey && event.which != 17)\n",
       "        value += \"ctrl+\";\n",
       "    if (event.altKey && event.which != 18)\n",
       "        value += \"alt+\";\n",
       "    if (event.shiftKey && event.which != 16)\n",
       "        value += \"shift+\";\n",
       "\n",
       "    value += 'k';\n",
       "    value += event.which.toString();\n",
       "\n",
       "    this._key_event_extra(event, name);\n",
       "\n",
       "    this.send_message(name, {key: value,\n",
       "                             guiEvent: simpleKeys(event)});\n",
       "    return false;\n",
       "}\n",
       "\n",
       "mpl.figure.prototype.toolbar_button_onclick = function(name) {\n",
       "    if (name == 'download') {\n",
       "        this.handle_save(this, null);\n",
       "    } else {\n",
       "        this.send_message(\"toolbar_button\", {name: name});\n",
       "    }\n",
       "};\n",
       "\n",
       "mpl.figure.prototype.toolbar_button_onmouseover = function(tooltip) {\n",
       "    this.message.textContent = tooltip;\n",
       "};\n",
       "mpl.toolbar_items = [[\"Home\", \"Reset original view\", \"fa fa-home icon-home\", \"home\"], [\"Back\", \"Back to  previous view\", \"fa fa-arrow-left icon-arrow-left\", \"back\"], [\"Forward\", \"Forward to next view\", \"fa fa-arrow-right icon-arrow-right\", \"forward\"], [\"\", \"\", \"\", \"\"], [\"Pan\", \"Pan axes with left mouse, zoom with right\", \"fa fa-arrows icon-move\", \"pan\"], [\"Zoom\", \"Zoom to rectangle\", \"fa fa-square-o icon-check-empty\", \"zoom\"], [\"\", \"\", \"\", \"\"], [\"Download\", \"Download plot\", \"fa fa-floppy-o icon-save\", \"download\"]];\n",
       "\n",
       "mpl.extensions = [\"eps\", \"jpeg\", \"pdf\", \"png\", \"ps\", \"raw\", \"svg\", \"tif\"];\n",
       "\n",
       "mpl.default_extension = \"png\";var comm_websocket_adapter = function(comm) {\n",
       "    // Create a \"websocket\"-like object which calls the given IPython comm\n",
       "    // object with the appropriate methods. Currently this is a non binary\n",
       "    // socket, so there is still some room for performance tuning.\n",
       "    var ws = {};\n",
       "\n",
       "    ws.close = function() {\n",
       "        comm.close()\n",
       "    };\n",
       "    ws.send = function(m) {\n",
       "        //console.log('sending', m);\n",
       "        comm.send(m);\n",
       "    };\n",
       "    // Register the callback with on_msg.\n",
       "    comm.on_msg(function(msg) {\n",
       "        //console.log('receiving', msg['content']['data'], msg);\n",
       "        // Pass the mpl event to the overriden (by mpl) onmessage function.\n",
       "        ws.onmessage(msg['content']['data'])\n",
       "    });\n",
       "    return ws;\n",
       "}\n",
       "\n",
       "mpl.mpl_figure_comm = function(comm, msg) {\n",
       "    // This is the function which gets called when the mpl process\n",
       "    // starts-up an IPython Comm through the \"matplotlib\" channel.\n",
       "\n",
       "    var id = msg.content.data.id;\n",
       "    // Get hold of the div created by the display call when the Comm\n",
       "    // socket was opened in Python.\n",
       "    var element = $(\"#\" + id);\n",
       "    var ws_proxy = comm_websocket_adapter(comm)\n",
       "\n",
       "    function ondownload(figure, format) {\n",
       "        window.open(figure.imageObj.src);\n",
       "    }\n",
       "\n",
       "    var fig = new mpl.figure(id, ws_proxy,\n",
       "                           ondownload,\n",
       "                           element.get(0));\n",
       "\n",
       "    // Call onopen now - mpl needs it, as it is assuming we've passed it a real\n",
       "    // web socket which is closed, not our websocket->open comm proxy.\n",
       "    ws_proxy.onopen();\n",
       "\n",
       "    fig.parent_element = element.get(0);\n",
       "    fig.cell_info = mpl.find_output_cell(\"<div id='\" + id + \"'></div>\");\n",
       "    if (!fig.cell_info) {\n",
       "        console.error(\"Failed to find cell for figure\", id, fig);\n",
       "        return;\n",
       "    }\n",
       "\n",
       "    var output_index = fig.cell_info[2]\n",
       "    var cell = fig.cell_info[0];\n",
       "\n",
       "};\n",
       "\n",
       "mpl.figure.prototype.handle_close = function(fig, msg) {\n",
       "    var width = fig.canvas.width/mpl.ratio\n",
       "    fig.root.unbind('remove')\n",
       "\n",
       "    // Update the output cell to use the data from the current canvas.\n",
       "    fig.push_to_output();\n",
       "    var dataURL = fig.canvas.toDataURL();\n",
       "    // Re-enable the keyboard manager in IPython - without this line, in FF,\n",
       "    // the notebook keyboard shortcuts fail.\n",
       "    IPython.keyboard_manager.enable()\n",
       "    $(fig.parent_element).html('<img src=\"' + dataURL + '\" width=\"' + width + '\">');\n",
       "    fig.close_ws(fig, msg);\n",
       "}\n",
       "\n",
       "mpl.figure.prototype.close_ws = function(fig, msg){\n",
       "    fig.send_message('closing', msg);\n",
       "    // fig.ws.close()\n",
       "}\n",
       "\n",
       "mpl.figure.prototype.push_to_output = function(remove_interactive) {\n",
       "    // Turn the data on the canvas into data in the output cell.\n",
       "    var width = this.canvas.width/mpl.ratio\n",
       "    var dataURL = this.canvas.toDataURL();\n",
       "    this.cell_info[1]['text/html'] = '<img src=\"' + dataURL + '\" width=\"' + width + '\">';\n",
       "}\n",
       "\n",
       "mpl.figure.prototype.updated_canvas_event = function() {\n",
       "    // Tell IPython that the notebook contents must change.\n",
       "    IPython.notebook.set_dirty(true);\n",
       "    this.send_message(\"ack\", {});\n",
       "    var fig = this;\n",
       "    // Wait a second, then push the new image to the DOM so\n",
       "    // that it is saved nicely (might be nice to debounce this).\n",
       "    setTimeout(function () { fig.push_to_output() }, 1000);\n",
       "}\n",
       "\n",
       "mpl.figure.prototype._init_toolbar = function() {\n",
       "    var fig = this;\n",
       "\n",
       "    var nav_element = $('<div/>')\n",
       "    nav_element.attr('style', 'width: 100%');\n",
       "    this.root.append(nav_element);\n",
       "\n",
       "    // Define a callback function for later on.\n",
       "    function toolbar_event(event) {\n",
       "        return fig.toolbar_button_onclick(event['data']);\n",
       "    }\n",
       "    function toolbar_mouse_event(event) {\n",
       "        return fig.toolbar_button_onmouseover(event['data']);\n",
       "    }\n",
       "\n",
       "    for(var toolbar_ind in mpl.toolbar_items){\n",
       "        var name = mpl.toolbar_items[toolbar_ind][0];\n",
       "        var tooltip = mpl.toolbar_items[toolbar_ind][1];\n",
       "        var image = mpl.toolbar_items[toolbar_ind][2];\n",
       "        var method_name = mpl.toolbar_items[toolbar_ind][3];\n",
       "\n",
       "        if (!name) { continue; };\n",
       "\n",
       "        var button = $('<button class=\"btn btn-default\" href=\"#\" title=\"' + name + '\"><i class=\"fa ' + image + ' fa-lg\"></i></button>');\n",
       "        button.click(method_name, toolbar_event);\n",
       "        button.mouseover(tooltip, toolbar_mouse_event);\n",
       "        nav_element.append(button);\n",
       "    }\n",
       "\n",
       "    // Add the status bar.\n",
       "    var status_bar = $('<span class=\"mpl-message\" style=\"text-align:right; float: right;\"/>');\n",
       "    nav_element.append(status_bar);\n",
       "    this.message = status_bar[0];\n",
       "\n",
       "    // Add the close button to the window.\n",
       "    var buttongrp = $('<div class=\"btn-group inline pull-right\"></div>');\n",
       "    var button = $('<button class=\"btn btn-mini btn-primary\" href=\"#\" title=\"Stop Interaction\"><i class=\"fa fa-power-off icon-remove icon-large\"></i></button>');\n",
       "    button.click(function (evt) { fig.handle_close(fig, {}); } );\n",
       "    button.mouseover('Stop Interaction', toolbar_mouse_event);\n",
       "    buttongrp.append(button);\n",
       "    var titlebar = this.root.find($('.ui-dialog-titlebar'));\n",
       "    titlebar.prepend(buttongrp);\n",
       "}\n",
       "\n",
       "mpl.figure.prototype._root_extra_style = function(el){\n",
       "    var fig = this\n",
       "    el.on(\"remove\", function(){\n",
       "\tfig.close_ws(fig, {});\n",
       "    });\n",
       "}\n",
       "\n",
       "mpl.figure.prototype._canvas_extra_style = function(el){\n",
       "    // this is important to make the div 'focusable\n",
       "    el.attr('tabindex', 0)\n",
       "    // reach out to IPython and tell the keyboard manager to turn it's self\n",
       "    // off when our div gets focus\n",
       "\n",
       "    // location in version 3\n",
       "    if (IPython.notebook.keyboard_manager) {\n",
       "        IPython.notebook.keyboard_manager.register_events(el);\n",
       "    }\n",
       "    else {\n",
       "        // location in version 2\n",
       "        IPython.keyboard_manager.register_events(el);\n",
       "    }\n",
       "\n",
       "}\n",
       "\n",
       "mpl.figure.prototype._key_event_extra = function(event, name) {\n",
       "    var manager = IPython.notebook.keyboard_manager;\n",
       "    if (!manager)\n",
       "        manager = IPython.keyboard_manager;\n",
       "\n",
       "    // Check for shift+enter\n",
       "    if (event.shiftKey && event.which == 13) {\n",
       "        this.canvas_div.blur();\n",
       "        // select the cell after this one\n",
       "        var index = IPython.notebook.find_cell_index(this.cell_info[0]);\n",
       "        IPython.notebook.select(index + 1);\n",
       "    }\n",
       "}\n",
       "\n",
       "mpl.figure.prototype.handle_save = function(fig, msg) {\n",
       "    fig.ondownload(fig, null);\n",
       "}\n",
       "\n",
       "\n",
       "mpl.find_output_cell = function(html_output) {\n",
       "    // Return the cell and output element which can be found *uniquely* in the notebook.\n",
       "    // Note - this is a bit hacky, but it is done because the \"notebook_saving.Notebook\"\n",
       "    // IPython event is triggered only after the cells have been serialised, which for\n",
       "    // our purposes (turning an active figure into a static one), is too late.\n",
       "    var cells = IPython.notebook.get_cells();\n",
       "    var ncells = cells.length;\n",
       "    for (var i=0; i<ncells; i++) {\n",
       "        var cell = cells[i];\n",
       "        if (cell.cell_type === 'code'){\n",
       "            for (var j=0; j<cell.output_area.outputs.length; j++) {\n",
       "                var data = cell.output_area.outputs[j];\n",
       "                if (data.data) {\n",
       "                    // IPython >= 3 moved mimebundle to data attribute of output\n",
       "                    data = data.data;\n",
       "                }\n",
       "                if (data['text/html'] == html_output) {\n",
       "                    return [cell, data, j];\n",
       "                }\n",
       "            }\n",
       "        }\n",
       "    }\n",
       "}\n",
       "\n",
       "// Register the function which deals with the matplotlib target/channel.\n",
       "// The kernel may be null if the page has been refreshed.\n",
       "if (IPython.notebook.kernel != null) {\n",
       "    IPython.notebook.kernel.comm_manager.register_target('matplotlib', mpl.mpl_figure_comm);\n",
       "}\n"
      ],
      "text/plain": [
       "<IPython.core.display.Javascript object>"
      ]
     },
     "metadata": {},
     "output_type": "display_data"
    },
    {
     "data": {
      "text/html": [
       "<img src=\"data:image/png;base64,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\" width=\"1000\">"
      ],
      "text/plain": [
       "<IPython.core.display.HTML object>"
      ]
     },
     "metadata": {},
     "output_type": "display_data"
    },
    {
     "data": {
      "text/plain": [
       "<matplotlib.text.Text at 0x7f1cb44d1e48>"
      ]
     },
     "execution_count": 123,
     "metadata": {},
     "output_type": "execute_result"
    }
   ],
   "source": [
    "import matplotlib.pyplot as plt\n",
    "    \n",
    "# Your code here  \n",
    "(results_train, results_test) = answer_two()\n",
    "%matplotlib notebook\n",
    "plt.figure(figsize=(10,5))\n",
    "plt.plot(range(0,10,1), results_train, 'o', label='training data', markersize=10)\n",
    "plt.plot(range(0,10,1), results_test, 'o', label='test data', markersize=10)\n",
    "\n",
    "#for i,degree in enumerate([1,3,6,9]):\n",
    "#    plt.plot(np.linspace(0,10,100), degree_predictions[i], alpha=0.8, lw=2, label='degree={}'.format(degree))\n",
    "\n",
    "plt.ylim(-1,2.5)\n",
    "plt.legend(loc=2)\n",
    "plt.xlabel('Degree')\n",
    "plt.ylabel('R2_Score')"
   ]
  },
  {
   "cell_type": "code",
   "execution_count": 89,
   "metadata": {
    "collapsed": true
   },
   "outputs": [],
   "source": [
    "def answer_three():\n",
    "    \n",
    "    # Your code here\n",
    "    \n",
    "    return (1,9,6)# Return your answer"
   ]
  },
  {
   "cell_type": "markdown",
   "metadata": {},
   "source": [
    "### Question 4\n",
    "\n",
    "Training models on high degree polynomial features can result in overly complex models that overfit, so we often use regularized versions of the model to constrain model complexity, as we saw with Ridge and Lasso linear regression.\n",
    "\n",
    "For this question, train two models: a non-regularized LinearRegression model (default parameters) and a regularized Lasso Regression model (with parameters `alpha=0.01`, `max_iter=10000`) both on polynomial features of degree 12. Return the $R^2$ score for both the LinearRegression and Lasso model's test sets.\n",
    "\n",
    "*This function should return one tuple `(LinearRegression_R2_test_score, Lasso_R2_test_score)`*"
   ]
  },
  {
   "cell_type": "code",
   "execution_count": 90,
   "metadata": {
    "collapsed": false
   },
   "outputs": [
    {
     "name": "stderr",
     "output_type": "stream",
     "text": [
      "/opt/conda/lib/python3.6/site-packages/sklearn/linear_model/coordinate_descent.py:484: ConvergenceWarning: Objective did not converge. You might want to increase the number of iterations. Fitting data with very small alpha may cause precision problems.\n",
      "  ConvergenceWarning)\n"
     ]
    },
    {
     "data": {
      "text/plain": [
       "(array([-4.31199045]), array([ 0.84066256]))"
      ]
     },
     "execution_count": 90,
     "metadata": {},
     "output_type": "execute_result"
    }
   ],
   "source": [
    "from sklearn.preprocessing import PolynomialFeatures\n",
    "from sklearn.linear_model import Lasso, LinearRegression\n",
    "from sklearn.metrics.regression import r2_score\n",
    "\n",
    "lr_r2_test = []\n",
    "las_r2_test = []\n",
    "poly = PolynomialFeatures(degree=12)\n",
    "X_train_poly = poly.fit_transform(X_train.reshape(-1,1))\n",
    "lr_model = LinearRegression().fit(X_train_poly, y_train)\n",
    "las_model = Lasso(alpha=0.01, max_iter=10000).fit(X_train_poly, y_train)\n",
    "\n",
    "X_test_poly = poly.transform(X_test.reshape(-1,1))\n",
    "        \n",
    "lr_r2_test.append(lr_model.score(X_test_poly, y_test))\n",
    "las_r2_test.append(las_model.score(X_test_poly, y_test))\n",
    "\n",
    "(np.array(lr_r2_test), np.array(las_r2_test))"
   ]
  },
  {
   "cell_type": "code",
   "execution_count": 91,
   "metadata": {
    "collapsed": true
   },
   "outputs": [],
   "source": [
    "def answer_four():\n",
    "    from sklearn.preprocessing import PolynomialFeatures\n",
    "    from sklearn.linear_model import Lasso, LinearRegression\n",
    "    from sklearn.metrics.regression import r2_score\n",
    "\n",
    "    # Your code here\n",
    "    lr_r2_test = []\n",
    "    las_r2_test = []\n",
    "    poly = PolynomialFeatures(degree=12)\n",
    "    X_train_poly = poly.fit_transform(X_train.reshape(-1,1))\n",
    "    lr_model = LinearRegression().fit(X_train_poly, y_train)\n",
    "    las_model = Lasso(alpha=0.01, max_iter=10000).fit(X_train_poly, y_train)\n",
    "\n",
    "    X_test_poly = poly.transform(X_test.reshape(-1,1))\n",
    "        \n",
    "    lr_r2_test.append(lr_model.score(X_test_poly, y_test))\n",
    "    las_r2_test.append(las_model.score(X_test_poly, y_test))\n",
    "\n",
    "    return (np.array(lr_r2_test), np.array(las_r2_test))  # Your answer here"
   ]
  },
  {
   "cell_type": "code",
   "execution_count": 92,
   "metadata": {
    "collapsed": false
   },
   "outputs": [
    {
     "name": "stderr",
     "output_type": "stream",
     "text": [
      "/opt/conda/lib/python3.6/site-packages/sklearn/linear_model/coordinate_descent.py:484: ConvergenceWarning: Objective did not converge. You might want to increase the number of iterations. Fitting data with very small alpha may cause precision problems.\n",
      "  ConvergenceWarning)\n"
     ]
    },
    {
     "data": {
      "text/plain": [
       "(array([-4.31199045]), array([ 0.84066256]))"
      ]
     },
     "execution_count": 92,
     "metadata": {},
     "output_type": "execute_result"
    }
   ],
   "source": [
    "answer_four()"
   ]
  },
  {
   "cell_type": "markdown",
   "metadata": {},
   "source": [
    "## Part 2 - Classification\n",
    "\n",
    "Here's an application of machine learning that could save your life! For this section of the assignment we will be working with the [UCI Mushroom Data Set](http://archive.ics.uci.edu/ml/datasets/Mushroom?ref=datanews.io) stored in `readonly/mushrooms.csv`. The data will be used to train a model to predict whether or not a mushroom is poisonous. The following attributes are provided:\n",
    "\n",
    "*Attribute Information:*\n",
    "\n",
    "1. cap-shape: bell=b, conical=c, convex=x, flat=f, knobbed=k, sunken=s \n",
    "2. cap-surface: fibrous=f, grooves=g, scaly=y, smooth=s \n",
    "3. cap-color: brown=n, buff=b, cinnamon=c, gray=g, green=r, pink=p, purple=u, red=e, white=w, yellow=y \n",
    "4. bruises?: bruises=t, no=f \n",
    "5. odor: almond=a, anise=l, creosote=c, fishy=y, foul=f, musty=m, none=n, pungent=p, spicy=s \n",
    "6. gill-attachment: attached=a, descending=d, free=f, notched=n \n",
    "7. gill-spacing: close=c, crowded=w, distant=d \n",
    "8. gill-size: broad=b, narrow=n \n",
    "9. gill-color: black=k, brown=n, buff=b, chocolate=h, gray=g, green=r, orange=o, pink=p, purple=u, red=e, white=w, yellow=y \n",
    "10. stalk-shape: enlarging=e, tapering=t \n",
    "11. stalk-root: bulbous=b, club=c, cup=u, equal=e, rhizomorphs=z, rooted=r, missing=? \n",
    "12. stalk-surface-above-ring: fibrous=f, scaly=y, silky=k, smooth=s \n",
    "13. stalk-surface-below-ring: fibrous=f, scaly=y, silky=k, smooth=s \n",
    "14. stalk-color-above-ring: brown=n, buff=b, cinnamon=c, gray=g, orange=o, pink=p, red=e, white=w, yellow=y \n",
    "15. stalk-color-below-ring: brown=n, buff=b, cinnamon=c, gray=g, orange=o, pink=p, red=e, white=w, yellow=y \n",
    "16. veil-type: partial=p, universal=u \n",
    "17. veil-color: brown=n, orange=o, white=w, yellow=y \n",
    "18. ring-number: none=n, one=o, two=t \n",
    "19. ring-type: cobwebby=c, evanescent=e, flaring=f, large=l, none=n, pendant=p, sheathing=s, zone=z \n",
    "20. spore-print-color: black=k, brown=n, buff=b, chocolate=h, green=r, orange=o, purple=u, white=w, yellow=y \n",
    "21. population: abundant=a, clustered=c, numerous=n, scattered=s, several=v, solitary=y \n",
    "22. habitat: grasses=g, leaves=l, meadows=m, paths=p, urban=u, waste=w, woods=d\n",
    "\n",
    "<br>\n",
    "\n",
    "The data in the mushrooms dataset is currently encoded with strings. These values will need to be encoded to numeric to work with sklearn. We'll use pd.get_dummies to convert the categorical variables into indicator variables. "
   ]
  },
  {
   "cell_type": "code",
   "execution_count": 93,
   "metadata": {
    "collapsed": false
   },
   "outputs": [],
   "source": [
    "import pandas as pd\n",
    "import numpy as np\n",
    "from sklearn.model_selection import train_test_split\n",
    "\n",
    "\n",
    "mush_df = pd.read_csv('mushrooms.csv')\n",
    "mush_df2 = pd.get_dummies(mush_df)\n",
    "\n",
    "X_mush = mush_df2.iloc[:,2:]\n",
    "y_mush = mush_df2.iloc[:,1]\n",
    "\n",
    "# use the variables X_train2, y_train2 for Question 5\n",
    "X_train2, X_test2, y_train2, y_test2 = train_test_split(X_mush, y_mush, random_state=0)\n",
    "\n",
    "# For performance reasons in Questions 6 and 7, we will create a smaller version of the\n",
    "# entire mushroom dataset for use in those questions.  For simplicity we'll just re-use\n",
    "# the 25% test split created above as the representative subset.\n",
    "#\n",
    "# Use the variables X_subset, y_subset for Questions 6 and 7.\n",
    "X_subset = X_test2\n",
    "y_subset = y_test2"
   ]
  },
  {
   "cell_type": "code",
   "execution_count": 94,
   "metadata": {
    "collapsed": false
   },
   "outputs": [
    {
     "data": {
      "text/html": [
       "<div>\n",
       "<table border=\"1\" class=\"dataframe\">\n",
       "  <thead>\n",
       "    <tr style=\"text-align: right;\">\n",
       "      <th></th>\n",
       "      <th>class</th>\n",
       "      <th>cap-shape</th>\n",
       "      <th>cap-surface</th>\n",
       "      <th>cap-color</th>\n",
       "      <th>bruises</th>\n",
       "      <th>odor</th>\n",
       "      <th>gill-attachment</th>\n",
       "      <th>gill-spacing</th>\n",
       "      <th>gill-size</th>\n",
       "      <th>gill-color</th>\n",
       "      <th>...</th>\n",
       "      <th>stalk-surface-below-ring</th>\n",
       "      <th>stalk-color-above-ring</th>\n",
       "      <th>stalk-color-below-ring</th>\n",
       "      <th>veil-type</th>\n",
       "      <th>veil-color</th>\n",
       "      <th>ring-number</th>\n",
       "      <th>ring-type</th>\n",
       "      <th>spore-print-color</th>\n",
       "      <th>population</th>\n",
       "      <th>habitat</th>\n",
       "    </tr>\n",
       "  </thead>\n",
       "  <tbody>\n",
       "    <tr>\n",
       "      <th>0</th>\n",
       "      <td>p</td>\n",
       "      <td>x</td>\n",
       "      <td>s</td>\n",
       "      <td>n</td>\n",
       "      <td>t</td>\n",
       "      <td>p</td>\n",
       "      <td>f</td>\n",
       "      <td>c</td>\n",
       "      <td>n</td>\n",
       "      <td>k</td>\n",
       "      <td>...</td>\n",
       "      <td>s</td>\n",
       "      <td>w</td>\n",
       "      <td>w</td>\n",
       "      <td>p</td>\n",
       "      <td>w</td>\n",
       "      <td>o</td>\n",
       "      <td>p</td>\n",
       "      <td>k</td>\n",
       "      <td>s</td>\n",
       "      <td>u</td>\n",
       "    </tr>\n",
       "    <tr>\n",
       "      <th>1</th>\n",
       "      <td>e</td>\n",
       "      <td>x</td>\n",
       "      <td>s</td>\n",
       "      <td>y</td>\n",
       "      <td>t</td>\n",
       "      <td>a</td>\n",
       "      <td>f</td>\n",
       "      <td>c</td>\n",
       "      <td>b</td>\n",
       "      <td>k</td>\n",
       "      <td>...</td>\n",
       "      <td>s</td>\n",
       "      <td>w</td>\n",
       "      <td>w</td>\n",
       "      <td>p</td>\n",
       "      <td>w</td>\n",
       "      <td>o</td>\n",
       "      <td>p</td>\n",
       "      <td>n</td>\n",
       "      <td>n</td>\n",
       "      <td>g</td>\n",
       "    </tr>\n",
       "    <tr>\n",
       "      <th>2</th>\n",
       "      <td>e</td>\n",
       "      <td>b</td>\n",
       "      <td>s</td>\n",
       "      <td>w</td>\n",
       "      <td>t</td>\n",
       "      <td>l</td>\n",
       "      <td>f</td>\n",
       "      <td>c</td>\n",
       "      <td>b</td>\n",
       "      <td>n</td>\n",
       "      <td>...</td>\n",
       "      <td>s</td>\n",
       "      <td>w</td>\n",
       "      <td>w</td>\n",
       "      <td>p</td>\n",
       "      <td>w</td>\n",
       "      <td>o</td>\n",
       "      <td>p</td>\n",
       "      <td>n</td>\n",
       "      <td>n</td>\n",
       "      <td>m</td>\n",
       "    </tr>\n",
       "    <tr>\n",
       "      <th>3</th>\n",
       "      <td>p</td>\n",
       "      <td>x</td>\n",
       "      <td>y</td>\n",
       "      <td>w</td>\n",
       "      <td>t</td>\n",
       "      <td>p</td>\n",
       "      <td>f</td>\n",
       "      <td>c</td>\n",
       "      <td>n</td>\n",
       "      <td>n</td>\n",
       "      <td>...</td>\n",
       "      <td>s</td>\n",
       "      <td>w</td>\n",
       "      <td>w</td>\n",
       "      <td>p</td>\n",
       "      <td>w</td>\n",
       "      <td>o</td>\n",
       "      <td>p</td>\n",
       "      <td>k</td>\n",
       "      <td>s</td>\n",
       "      <td>u</td>\n",
       "    </tr>\n",
       "    <tr>\n",
       "      <th>4</th>\n",
       "      <td>e</td>\n",
       "      <td>x</td>\n",
       "      <td>s</td>\n",
       "      <td>g</td>\n",
       "      <td>f</td>\n",
       "      <td>n</td>\n",
       "      <td>f</td>\n",
       "      <td>w</td>\n",
       "      <td>b</td>\n",
       "      <td>k</td>\n",
       "      <td>...</td>\n",
       "      <td>s</td>\n",
       "      <td>w</td>\n",
       "      <td>w</td>\n",
       "      <td>p</td>\n",
       "      <td>w</td>\n",
       "      <td>o</td>\n",
       "      <td>e</td>\n",
       "      <td>n</td>\n",
       "      <td>a</td>\n",
       "      <td>g</td>\n",
       "    </tr>\n",
       "  </tbody>\n",
       "</table>\n",
       "<p>5 rows × 23 columns</p>\n",
       "</div>"
      ],
      "text/plain": [
       "  class cap-shape cap-surface cap-color bruises odor gill-attachment  \\\n",
       "0     p         x           s         n       t    p               f   \n",
       "1     e         x           s         y       t    a               f   \n",
       "2     e         b           s         w       t    l               f   \n",
       "3     p         x           y         w       t    p               f   \n",
       "4     e         x           s         g       f    n               f   \n",
       "\n",
       "  gill-spacing gill-size gill-color   ...   stalk-surface-below-ring  \\\n",
       "0            c         n          k   ...                          s   \n",
       "1            c         b          k   ...                          s   \n",
       "2            c         b          n   ...                          s   \n",
       "3            c         n          n   ...                          s   \n",
       "4            w         b          k   ...                          s   \n",
       "\n",
       "  stalk-color-above-ring stalk-color-below-ring veil-type veil-color  \\\n",
       "0                      w                      w         p          w   \n",
       "1                      w                      w         p          w   \n",
       "2                      w                      w         p          w   \n",
       "3                      w                      w         p          w   \n",
       "4                      w                      w         p          w   \n",
       "\n",
       "  ring-number ring-type spore-print-color population habitat  \n",
       "0           o         p                 k          s       u  \n",
       "1           o         p                 n          n       g  \n",
       "2           o         p                 n          n       m  \n",
       "3           o         p                 k          s       u  \n",
       "4           o         e                 n          a       g  \n",
       "\n",
       "[5 rows x 23 columns]"
      ]
     },
     "execution_count": 94,
     "metadata": {},
     "output_type": "execute_result"
    }
   ],
   "source": [
    "mush_df.head()"
   ]
  },
  {
   "cell_type": "code",
   "execution_count": 95,
   "metadata": {
    "collapsed": false
   },
   "outputs": [
    {
     "data": {
      "text/html": [
       "<div>\n",
       "<table border=\"1\" class=\"dataframe\">\n",
       "  <thead>\n",
       "    <tr style=\"text-align: right;\">\n",
       "      <th></th>\n",
       "      <th>class_e</th>\n",
       "      <th>class_p</th>\n",
       "      <th>cap-shape_b</th>\n",
       "      <th>cap-shape_c</th>\n",
       "      <th>cap-shape_f</th>\n",
       "      <th>cap-shape_k</th>\n",
       "      <th>cap-shape_s</th>\n",
       "      <th>cap-shape_x</th>\n",
       "      <th>cap-surface_f</th>\n",
       "      <th>cap-surface_g</th>\n",
       "      <th>...</th>\n",
       "      <th>population_s</th>\n",
       "      <th>population_v</th>\n",
       "      <th>population_y</th>\n",
       "      <th>habitat_d</th>\n",
       "      <th>habitat_g</th>\n",
       "      <th>habitat_l</th>\n",
       "      <th>habitat_m</th>\n",
       "      <th>habitat_p</th>\n",
       "      <th>habitat_u</th>\n",
       "      <th>habitat_w</th>\n",
       "    </tr>\n",
       "  </thead>\n",
       "  <tbody>\n",
       "    <tr>\n",
       "      <th>0</th>\n",
       "      <td>0</td>\n",
       "      <td>1</td>\n",
       "      <td>0</td>\n",
       "      <td>0</td>\n",
       "      <td>0</td>\n",
       "      <td>0</td>\n",
       "      <td>0</td>\n",
       "      <td>1</td>\n",
       "      <td>0</td>\n",
       "      <td>0</td>\n",
       "      <td>...</td>\n",
       "      <td>1</td>\n",
       "      <td>0</td>\n",
       "      <td>0</td>\n",
       "      <td>0</td>\n",
       "      <td>0</td>\n",
       "      <td>0</td>\n",
       "      <td>0</td>\n",
       "      <td>0</td>\n",
       "      <td>1</td>\n",
       "      <td>0</td>\n",
       "    </tr>\n",
       "    <tr>\n",
       "      <th>1</th>\n",
       "      <td>1</td>\n",
       "      <td>0</td>\n",
       "      <td>0</td>\n",
       "      <td>0</td>\n",
       "      <td>0</td>\n",
       "      <td>0</td>\n",
       "      <td>0</td>\n",
       "      <td>1</td>\n",
       "      <td>0</td>\n",
       "      <td>0</td>\n",
       "      <td>...</td>\n",
       "      <td>0</td>\n",
       "      <td>0</td>\n",
       "      <td>0</td>\n",
       "      <td>0</td>\n",
       "      <td>1</td>\n",
       "      <td>0</td>\n",
       "      <td>0</td>\n",
       "      <td>0</td>\n",
       "      <td>0</td>\n",
       "      <td>0</td>\n",
       "    </tr>\n",
       "    <tr>\n",
       "      <th>2</th>\n",
       "      <td>1</td>\n",
       "      <td>0</td>\n",
       "      <td>1</td>\n",
       "      <td>0</td>\n",
       "      <td>0</td>\n",
       "      <td>0</td>\n",
       "      <td>0</td>\n",
       "      <td>0</td>\n",
       "      <td>0</td>\n",
       "      <td>0</td>\n",
       "      <td>...</td>\n",
       "      <td>0</td>\n",
       "      <td>0</td>\n",
       "      <td>0</td>\n",
       "      <td>0</td>\n",
       "      <td>0</td>\n",
       "      <td>0</td>\n",
       "      <td>1</td>\n",
       "      <td>0</td>\n",
       "      <td>0</td>\n",
       "      <td>0</td>\n",
       "    </tr>\n",
       "    <tr>\n",
       "      <th>3</th>\n",
       "      <td>0</td>\n",
       "      <td>1</td>\n",
       "      <td>0</td>\n",
       "      <td>0</td>\n",
       "      <td>0</td>\n",
       "      <td>0</td>\n",
       "      <td>0</td>\n",
       "      <td>1</td>\n",
       "      <td>0</td>\n",
       "      <td>0</td>\n",
       "      <td>...</td>\n",
       "      <td>1</td>\n",
       "      <td>0</td>\n",
       "      <td>0</td>\n",
       "      <td>0</td>\n",
       "      <td>0</td>\n",
       "      <td>0</td>\n",
       "      <td>0</td>\n",
       "      <td>0</td>\n",
       "      <td>1</td>\n",
       "      <td>0</td>\n",
       "    </tr>\n",
       "    <tr>\n",
       "      <th>4</th>\n",
       "      <td>1</td>\n",
       "      <td>0</td>\n",
       "      <td>0</td>\n",
       "      <td>0</td>\n",
       "      <td>0</td>\n",
       "      <td>0</td>\n",
       "      <td>0</td>\n",
       "      <td>1</td>\n",
       "      <td>0</td>\n",
       "      <td>0</td>\n",
       "      <td>...</td>\n",
       "      <td>0</td>\n",
       "      <td>0</td>\n",
       "      <td>0</td>\n",
       "      <td>0</td>\n",
       "      <td>1</td>\n",
       "      <td>0</td>\n",
       "      <td>0</td>\n",
       "      <td>0</td>\n",
       "      <td>0</td>\n",
       "      <td>0</td>\n",
       "    </tr>\n",
       "  </tbody>\n",
       "</table>\n",
       "<p>5 rows × 119 columns</p>\n",
       "</div>"
      ],
      "text/plain": [
       "   class_e  class_p  cap-shape_b  cap-shape_c  cap-shape_f  cap-shape_k  \\\n",
       "0        0        1            0            0            0            0   \n",
       "1        1        0            0            0            0            0   \n",
       "2        1        0            1            0            0            0   \n",
       "3        0        1            0            0            0            0   \n",
       "4        1        0            0            0            0            0   \n",
       "\n",
       "   cap-shape_s  cap-shape_x  cap-surface_f  cap-surface_g    ...      \\\n",
       "0            0            1              0              0    ...       \n",
       "1            0            1              0              0    ...       \n",
       "2            0            0              0              0    ...       \n",
       "3            0            1              0              0    ...       \n",
       "4            0            1              0              0    ...       \n",
       "\n",
       "   population_s  population_v  population_y  habitat_d  habitat_g  habitat_l  \\\n",
       "0             1             0             0          0          0          0   \n",
       "1             0             0             0          0          1          0   \n",
       "2             0             0             0          0          0          0   \n",
       "3             1             0             0          0          0          0   \n",
       "4             0             0             0          0          1          0   \n",
       "\n",
       "   habitat_m  habitat_p  habitat_u  habitat_w  \n",
       "0          0          0          1          0  \n",
       "1          0          0          0          0  \n",
       "2          1          0          0          0  \n",
       "3          0          0          1          0  \n",
       "4          0          0          0          0  \n",
       "\n",
       "[5 rows x 119 columns]"
      ]
     },
     "execution_count": 95,
     "metadata": {},
     "output_type": "execute_result"
    }
   ],
   "source": [
    "mush_df2.head()"
   ]
  },
  {
   "cell_type": "code",
   "execution_count": 96,
   "metadata": {
    "collapsed": false
   },
   "outputs": [
    {
     "data": {
      "text/plain": [
       "4208"
      ]
     },
     "execution_count": 96,
     "metadata": {},
     "output_type": "execute_result"
    }
   ],
   "source": [
    "mush_df[mush_df['class'] == (mush_df['class'].unique()[1])]['class'].count()"
   ]
  },
  {
   "cell_type": "code",
   "execution_count": 97,
   "metadata": {
    "collapsed": false
   },
   "outputs": [
    {
     "data": {
      "text/plain": [
       "3916"
      ]
     },
     "execution_count": 97,
     "metadata": {},
     "output_type": "execute_result"
    }
   ],
   "source": [
    "mush_df[mush_df['class'] == (mush_df['class'].unique()[0])]['class'].count()"
   ]
  },
  {
   "cell_type": "markdown",
   "metadata": {},
   "source": [
    "### Question 5\n",
    "\n",
    "Using `X_train2` and `y_train2` from the preceeding cell, train a DecisionTreeClassifier with default parameters and random_state=0. What are the 5 most important features found by the decision tree?\n",
    "\n",
    "As a reminder, the feature names are available in the `X_train2.columns` property, and the order of the features in `X_train2.columns` matches the order of the feature importance values in the classifier's `feature_importances_` property. \n",
    "\n",
    "*This function should return a list of length 5 containing the feature names in descending order of importance.*\n",
    "\n",
    "*Note: remember that you also need to set random_state in the DecisionTreeClassifier.*"
   ]
  },
  {
   "cell_type": "code",
   "execution_count": 98,
   "metadata": {
    "collapsed": false
   },
   "outputs": [
    {
     "data": {
      "text/html": [
       "<div>\n",
       "<table border=\"1\" class=\"dataframe\">\n",
       "  <thead>\n",
       "    <tr style=\"text-align: right;\">\n",
       "      <th></th>\n",
       "      <th>Col_name</th>\n",
       "    </tr>\n",
       "  </thead>\n",
       "  <tbody>\n",
       "    <tr>\n",
       "      <th>0</th>\n",
       "      <td>cap-shape_b</td>\n",
       "    </tr>\n",
       "    <tr>\n",
       "      <th>1</th>\n",
       "      <td>cap-shape_c</td>\n",
       "    </tr>\n",
       "    <tr>\n",
       "      <th>2</th>\n",
       "      <td>cap-shape_f</td>\n",
       "    </tr>\n",
       "    <tr>\n",
       "      <th>3</th>\n",
       "      <td>cap-shape_k</td>\n",
       "    </tr>\n",
       "    <tr>\n",
       "      <th>4</th>\n",
       "      <td>cap-shape_s</td>\n",
       "    </tr>\n",
       "  </tbody>\n",
       "</table>\n",
       "</div>"
      ],
      "text/plain": [
       "      Col_name\n",
       "0  cap-shape_b\n",
       "1  cap-shape_c\n",
       "2  cap-shape_f\n",
       "3  cap-shape_k\n",
       "4  cap-shape_s"
      ]
     },
     "execution_count": 98,
     "metadata": {},
     "output_type": "execute_result"
    }
   ],
   "source": [
    "from sklearn.tree import DecisionTreeClassifier\n",
    "\n",
    "DT_model = DecisionTreeClassifier(random_state=0)\n",
    "DT_model.fit(X_train2,y_train2)\n",
    "\n",
    "ftr_imp = pd.DataFrame(X_train2.columns, index = range(0,len(X_train2.columns)), columns=['Col_name'])\n",
    "ftr_imp.head()\n",
    "\n"
   ]
  },
  {
   "cell_type": "code",
   "execution_count": 99,
   "metadata": {
    "collapsed": false
   },
   "outputs": [
    {
     "data": {
      "text/html": [
       "<div>\n",
       "<table border=\"1\" class=\"dataframe\">\n",
       "  <thead>\n",
       "    <tr style=\"text-align: right;\">\n",
       "      <th></th>\n",
       "      <th>Col_name</th>\n",
       "      <th>ftr_imp</th>\n",
       "    </tr>\n",
       "  </thead>\n",
       "  <tbody>\n",
       "    <tr>\n",
       "      <th>0</th>\n",
       "      <td>cap-shape_b</td>\n",
       "      <td>0.000000</td>\n",
       "    </tr>\n",
       "    <tr>\n",
       "      <th>1</th>\n",
       "      <td>cap-shape_c</td>\n",
       "      <td>0.000655</td>\n",
       "    </tr>\n",
       "    <tr>\n",
       "      <th>2</th>\n",
       "      <td>cap-shape_f</td>\n",
       "      <td>0.000000</td>\n",
       "    </tr>\n",
       "    <tr>\n",
       "      <th>3</th>\n",
       "      <td>cap-shape_k</td>\n",
       "      <td>0.000000</td>\n",
       "    </tr>\n",
       "    <tr>\n",
       "      <th>4</th>\n",
       "      <td>cap-shape_s</td>\n",
       "      <td>0.000000</td>\n",
       "    </tr>\n",
       "  </tbody>\n",
       "</table>\n",
       "</div>"
      ],
      "text/plain": [
       "      Col_name   ftr_imp\n",
       "0  cap-shape_b  0.000000\n",
       "1  cap-shape_c  0.000655\n",
       "2  cap-shape_f  0.000000\n",
       "3  cap-shape_k  0.000000\n",
       "4  cap-shape_s  0.000000"
      ]
     },
     "execution_count": 99,
     "metadata": {},
     "output_type": "execute_result"
    }
   ],
   "source": [
    "ftr_imp['ftr_imp'] = DT_model.feature_importances_\n",
    "ftr_imp.head()"
   ]
  },
  {
   "cell_type": "code",
   "execution_count": 100,
   "metadata": {
    "collapsed": false
   },
   "outputs": [
    {
     "data": {
      "text/html": [
       "<div>\n",
       "<table border=\"1\" class=\"dataframe\">\n",
       "  <thead>\n",
       "    <tr style=\"text-align: right;\">\n",
       "      <th></th>\n",
       "      <th>Col_name</th>\n",
       "      <th>ftr_imp</th>\n",
       "    </tr>\n",
       "  </thead>\n",
       "  <tbody>\n",
       "    <tr>\n",
       "      <th>27</th>\n",
       "      <td>odor_n</td>\n",
       "      <td>0.625144</td>\n",
       "    </tr>\n",
       "    <tr>\n",
       "      <th>53</th>\n",
       "      <td>stalk-root_c</td>\n",
       "      <td>0.169176</td>\n",
       "    </tr>\n",
       "    <tr>\n",
       "      <th>55</th>\n",
       "      <td>stalk-root_r</td>\n",
       "      <td>0.086589</td>\n",
       "    </tr>\n",
       "    <tr>\n",
       "      <th>100</th>\n",
       "      <td>spore-print-color_r</td>\n",
       "      <td>0.034375</td>\n",
       "    </tr>\n",
       "    <tr>\n",
       "      <th>25</th>\n",
       "      <td>odor_l</td>\n",
       "      <td>0.023504</td>\n",
       "    </tr>\n",
       "  </tbody>\n",
       "</table>\n",
       "</div>"
      ],
      "text/plain": [
       "                Col_name   ftr_imp\n",
       "27                odor_n  0.625144\n",
       "53          stalk-root_c  0.169176\n",
       "55          stalk-root_r  0.086589\n",
       "100  spore-print-color_r  0.034375\n",
       "25                odor_l  0.023504"
      ]
     },
     "execution_count": 100,
     "metadata": {},
     "output_type": "execute_result"
    }
   ],
   "source": [
    "ftr_imp.sort_values('ftr_imp', ascending=False).head() #DEscending order sorting"
   ]
  },
  {
   "cell_type": "code",
   "execution_count": 101,
   "metadata": {
    "collapsed": false
   },
   "outputs": [
    {
     "data": {
      "text/plain": [
       "['odor_n', 'stalk-root_c', 'stalk-root_r', 'spore-print-color_r', 'odor_l']"
      ]
     },
     "execution_count": 101,
     "metadata": {},
     "output_type": "execute_result"
    }
   ],
   "source": [
    "list(ftr_imp.sort_values('ftr_imp', ascending=False).Col_name.head(5))"
   ]
  },
  {
   "cell_type": "code",
   "execution_count": 102,
   "metadata": {
    "collapsed": true
   },
   "outputs": [],
   "source": [
    "def answer_five():\n",
    "    from sklearn.tree import DecisionTreeClassifier\n",
    "\n",
    "    # Your code here\n",
    "    DT_model = DecisionTreeClassifier(random_state=0)\n",
    "    DT_model.fit(X_train2,y_train2)\n",
    "\n",
    "    ftr_imp = pd.DataFrame(X_train2.columns, index = range(0,len(X_train2.columns)), columns=['Col_name'])\n",
    "    ftr_imp['ftr_imp'] = DT_model.feature_importances_\n",
    "    \n",
    "    return list(ftr_imp.sort_values('ftr_imp', ascending=False).Col_name.head(5)) # Your answer here"
   ]
  },
  {
   "cell_type": "code",
   "execution_count": 103,
   "metadata": {
    "collapsed": false
   },
   "outputs": [
    {
     "data": {
      "text/plain": [
       "['odor_n', 'stalk-root_c', 'stalk-root_r', 'spore-print-color_r', 'odor_l']"
      ]
     },
     "execution_count": 103,
     "metadata": {},
     "output_type": "execute_result"
    }
   ],
   "source": [
    "answer_five()"
   ]
  },
  {
   "cell_type": "markdown",
   "metadata": {},
   "source": [
    "### Question 6\n",
    "\n",
    "For this question, we're going to use the `validation_curve` function in `sklearn.model_selection` to determine training and test scores for a Support Vector Classifier (`SVC`) with varying parameter values.  Recall that the validation_curve function, in addition to taking an initialized unfitted classifier object, takes a dataset as input and does its own internal train-test splits to compute results.\n",
    "\n",
    "**Because creating a validation curve requires fitting multiple models, for performance reasons this question will use just a subset of the original mushroom dataset: please use the variables X_subset and y_subset as input to the validation curve function (instead of X_mush and y_mush) to reduce computation time.**\n",
    "\n",
    "The initialized unfitted classifier object we'll be using is a Support Vector Classifier with radial basis kernel.  So your first step is to create an `SVC` object with default parameters (i.e. `kernel='rbf', C=1`) and `random_state=0`. Recall that the kernel width of the RBF kernel is controlled using the `gamma` parameter.  \n",
    "\n",
    "With this classifier, and the dataset in X_subset, y_subset, explore the effect of `gamma` on classifier accuracy by using the `validation_curve` function to find the training and test scores for 6 values of `gamma` from `0.0001` to `10` (i.e. `np.logspace(-4,1,6)`). Recall that you can specify what scoring metric you want validation_curve to use by setting the \"scoring\" parameter.  In this case, we want to use \"accuracy\" as the scoring metric.\n",
    "\n",
    "For each level of `gamma`, `validation_curve` will fit 3 models on different subsets of the data, returning two 6x3 (6 levels of gamma x 3 fits per level) arrays of the scores for the training and test sets.\n",
    "\n",
    "Find the mean score across the three models for each level of `gamma` for both arrays, creating two arrays of length 6, and return a tuple with the two arrays.\n",
    "\n",
    "e.g.\n",
    "\n",
    "if one of your array of scores is\n",
    "\n",
    "    array([[ 0.5,  0.4,  0.6],\n",
    "           [ 0.7,  0.8,  0.7],\n",
    "           [ 0.9,  0.8,  0.8],\n",
    "           [ 0.8,  0.7,  0.8],\n",
    "           [ 0.7,  0.6,  0.6],\n",
    "           [ 0.4,  0.6,  0.5]])\n",
    "       \n",
    "it should then become\n",
    "\n",
    "    array([ 0.5,  0.73333333,  0.83333333,  0.76666667,  0.63333333, 0.5])\n",
    "\n",
    "*This function should return one tuple of numpy arrays `(training_scores, test_scores)` where each array in the tuple has shape `(6,)`.*"
   ]
  },
  {
   "cell_type": "code",
   "execution_count": 104,
   "metadata": {
    "collapsed": true
   },
   "outputs": [],
   "source": [
    "from sklearn.svm import SVC\n",
    "from sklearn.model_selection import validation_curve\n",
    "\n",
    "gamma_range = np.logspace(-4,1,6)\n",
    "train_score, test_score = validation_curve(SVC(), X_subset, y_subset, \n",
    "                                           param_name='gamma', param_range=gamma_range, scoring='accuracy' )"
   ]
  },
  {
   "cell_type": "code",
   "execution_count": 105,
   "metadata": {
    "collapsed": false
   },
   "outputs": [
    {
     "data": {
      "text/plain": [
       "array([  1.00000000e-04,   1.00000000e-03,   1.00000000e-02,\n",
       "         1.00000000e-01,   1.00000000e+00,   1.00000000e+01])"
      ]
     },
     "execution_count": 105,
     "metadata": {},
     "output_type": "execute_result"
    }
   ],
   "source": [
    "gamma_range = np.logspace(-4,1,6)\n",
    "gamma_range"
   ]
  },
  {
   "cell_type": "code",
   "execution_count": 106,
   "metadata": {
    "collapsed": false
   },
   "outputs": [
    {
     "data": {
      "text/plain": [
       "array([[ 0.58906135,  0.55686854,  0.55350554],\n",
       "       [ 0.93200296,  0.9254062 ,  0.93726937],\n",
       "       [ 0.99039172,  0.99039882,  0.9904059 ],\n",
       "       [ 1.        ,  1.        ,  1.        ],\n",
       "       [ 1.        ,  1.        ,  1.        ],\n",
       "       [ 1.        ,  1.        ,  1.        ]])"
      ]
     },
     "execution_count": 106,
     "metadata": {},
     "output_type": "execute_result"
    }
   ],
   "source": [
    "train_score"
   ]
  },
  {
   "cell_type": "code",
   "execution_count": 107,
   "metadata": {
    "collapsed": false
   },
   "outputs": [
    {
     "data": {
      "text/plain": [
       "6"
      ]
     },
     "execution_count": 107,
     "metadata": {},
     "output_type": "execute_result"
    }
   ],
   "source": [
    "len(train_score)"
   ]
  },
  {
   "cell_type": "code",
   "execution_count": 108,
   "metadata": {
    "collapsed": false
   },
   "outputs": [
    {
     "data": {
      "text/plain": [
       "(6, 3)"
      ]
     },
     "execution_count": 108,
     "metadata": {},
     "output_type": "execute_result"
    }
   ],
   "source": [
    "train_score.shape"
   ]
  },
  {
   "cell_type": "code",
   "execution_count": 109,
   "metadata": {
    "collapsed": false
   },
   "outputs": [
    {
     "data": {
      "text/plain": [
       "0.56647847262681028"
      ]
     },
     "execution_count": 109,
     "metadata": {},
     "output_type": "execute_result"
    }
   ],
   "source": [
    "train_score[0].mean()"
   ]
  },
  {
   "cell_type": "code",
   "execution_count": 110,
   "metadata": {
    "collapsed": false
   },
   "outputs": [
    {
     "data": {
      "text/plain": [
       "array([ 0.,  0.,  0.,  0.,  0.,  0.])"
      ]
     },
     "execution_count": 110,
     "metadata": {},
     "output_type": "execute_result"
    }
   ],
   "source": [
    "avg_tr_score = np.zeros(shape=(6,))\n",
    "avg_tr_score"
   ]
  },
  {
   "cell_type": "code",
   "execution_count": 111,
   "metadata": {
    "collapsed": false
   },
   "outputs": [
    {
     "data": {
      "text/plain": [
       "array([ 0.56647847,  0.93155951,  0.99039881,  1.        ,  1.        ,  1.        ])"
      ]
     },
     "execution_count": 111,
     "metadata": {},
     "output_type": "execute_result"
    }
   ],
   "source": [
    "for i in range(0,train_score.shape[0]):\n",
    "    avg_tr_score[i] = train_score[i].mean()\n",
    "\n",
    "avg_tr_score"
   ]
  },
  {
   "cell_type": "code",
   "execution_count": 112,
   "metadata": {
    "collapsed": true
   },
   "outputs": [],
   "source": [
    "def answer_six():\n",
    "    from sklearn.svm import SVC\n",
    "    from sklearn.model_selection import validation_curve\n",
    "\n",
    "    # Your code here\n",
    "    gamma_range = np.logspace(-4,1,6)\n",
    "    train_score, test_score = validation_curve(SVC(), X_subset, y_subset, \n",
    "                                               param_name='gamma', param_range=gamma_range, scoring='accuracy' )\n",
    "    avg_tr_score = np.zeros(shape=(6,))\n",
    "    avg_ts_score = np.zeros(shape=(6,))\n",
    "    \n",
    "    for i in range(0,train_score.shape[0]):\n",
    "        avg_tr_score[i] = train_score[i].mean()\n",
    "    \n",
    "    for i in range(0,test_score.shape[0]):\n",
    "        avg_ts_score[i] = test_score[i].mean()\n",
    "    \n",
    "    return (avg_tr_score, avg_ts_score)# Your answer here"
   ]
  },
  {
   "cell_type": "code",
   "execution_count": 113,
   "metadata": {
    "collapsed": false
   },
   "outputs": [
    {
     "data": {
      "text/plain": [
       "(array([ 0.56647847,  0.93155951,  0.99039881,  1.        ,  1.        ,  1.        ]),\n",
       " array([ 0.56768547,  0.92959558,  0.98965952,  1.        ,  0.99507994,\n",
       "         0.52240279]))"
      ]
     },
     "execution_count": 113,
     "metadata": {},
     "output_type": "execute_result"
    }
   ],
   "source": [
    "answer_six()"
   ]
  },
  {
   "cell_type": "markdown",
   "metadata": {},
   "source": [
    "### Question 7\n",
    "\n",
    "Based on the scores from question 6, what gamma value corresponds to a model that is underfitting (and has the worst test set accuracy)? What gamma value corresponds to a model that is overfitting (and has the worst test set accuracy)? What choice of gamma would be the best choice for a model with good generalization performance on this dataset (high accuracy on both training and test set)? \n",
    "\n",
    "Hint: Try plotting the scores from question 6 to visualize the relationship between gamma and accuracy. Remember to comment out the import matplotlib line before submission.\n",
    "\n",
    "*This function should return one tuple with the degree values in this order: `(Underfitting, Overfitting, Good_Generalization)` Please note there is only one correct solution.*"
   ]
  },
  {
   "cell_type": "code",
   "execution_count": 114,
   "metadata": {
    "collapsed": true
   },
   "outputs": [],
   "source": [
    "(score_train, score_test) = answer_six()"
   ]
  },
  {
   "cell_type": "code",
   "execution_count": 115,
   "metadata": {
    "collapsed": false
   },
   "outputs": [
    {
     "data": {
      "text/plain": [
       "array([ 0.56647847,  0.93155951,  0.99039881,  1.        ,  1.        ,  1.        ])"
      ]
     },
     "execution_count": 115,
     "metadata": {},
     "output_type": "execute_result"
    }
   ],
   "source": [
    "score_train"
   ]
  },
  {
   "cell_type": "code",
   "execution_count": 116,
   "metadata": {
    "collapsed": false
   },
   "outputs": [
    {
     "data": {
      "text/plain": [
       "array([ 0.56768547,  0.92959558,  0.98965952,  1.        ,  0.99507994,\n",
       "        0.52240279])"
      ]
     },
     "execution_count": 116,
     "metadata": {},
     "output_type": "execute_result"
    }
   ],
   "source": [
    "score_test"
   ]
  },
  {
   "cell_type": "code",
   "execution_count": 117,
   "metadata": {
    "collapsed": false
   },
   "outputs": [
    {
     "name": "stdout",
     "output_type": "stream",
     "text": [
      "(6,) (6,)\n"
     ]
    }
   ],
   "source": [
    "print(score_train.shape, score_test.shape)"
   ]
  },
  {
   "cell_type": "code",
   "execution_count": 118,
   "metadata": {
    "collapsed": false
   },
   "outputs": [
    {
     "data": {
      "text/plain": [
       "array([  1.00000000e-04,   1.00000000e-03,   1.00000000e-02,\n",
       "         1.00000000e-01,   1.00000000e+00,   1.00000000e+01])"
      ]
     },
     "execution_count": 118,
     "metadata": {},
     "output_type": "execute_result"
    }
   ],
   "source": [
    "np.logspace(-4,1,6)"
   ]
  },
  {
   "cell_type": "code",
   "execution_count": 119,
   "metadata": {
    "collapsed": false
   },
   "outputs": [
    {
     "data": {
      "application/javascript": [
       "/* Put everything inside the global mpl namespace */\n",
       "window.mpl = {};\n",
       "\n",
       "\n",
       "mpl.get_websocket_type = function() {\n",
       "    if (typeof(WebSocket) !== 'undefined') {\n",
       "        return WebSocket;\n",
       "    } else if (typeof(MozWebSocket) !== 'undefined') {\n",
       "        return MozWebSocket;\n",
       "    } else {\n",
       "        alert('Your browser does not have WebSocket support.' +\n",
       "              'Please try Chrome, Safari or Firefox ≥ 6. ' +\n",
       "              'Firefox 4 and 5 are also supported but you ' +\n",
       "              'have to enable WebSockets in about:config.');\n",
       "    };\n",
       "}\n",
       "\n",
       "mpl.figure = function(figure_id, websocket, ondownload, parent_element) {\n",
       "    this.id = figure_id;\n",
       "\n",
       "    this.ws = websocket;\n",
       "\n",
       "    this.supports_binary = (this.ws.binaryType != undefined);\n",
       "\n",
       "    if (!this.supports_binary) {\n",
       "        var warnings = document.getElementById(\"mpl-warnings\");\n",
       "        if (warnings) {\n",
       "            warnings.style.display = 'block';\n",
       "            warnings.textContent = (\n",
       "                \"This browser does not support binary websocket messages. \" +\n",
       "                    \"Performance may be slow.\");\n",
       "        }\n",
       "    }\n",
       "\n",
       "    this.imageObj = new Image();\n",
       "\n",
       "    this.context = undefined;\n",
       "    this.message = undefined;\n",
       "    this.canvas = undefined;\n",
       "    this.rubberband_canvas = undefined;\n",
       "    this.rubberband_context = undefined;\n",
       "    this.format_dropdown = undefined;\n",
       "\n",
       "    this.image_mode = 'full';\n",
       "\n",
       "    this.root = $('<div/>');\n",
       "    this._root_extra_style(this.root)\n",
       "    this.root.attr('style', 'display: inline-block');\n",
       "\n",
       "    $(parent_element).append(this.root);\n",
       "\n",
       "    this._init_header(this);\n",
       "    this._init_canvas(this);\n",
       "    this._init_toolbar(this);\n",
       "\n",
       "    var fig = this;\n",
       "\n",
       "    this.waiting = false;\n",
       "\n",
       "    this.ws.onopen =  function () {\n",
       "            fig.send_message(\"supports_binary\", {value: fig.supports_binary});\n",
       "            fig.send_message(\"send_image_mode\", {});\n",
       "            if (mpl.ratio != 1) {\n",
       "                fig.send_message(\"set_dpi_ratio\", {'dpi_ratio': mpl.ratio});\n",
       "            }\n",
       "            fig.send_message(\"refresh\", {});\n",
       "        }\n",
       "\n",
       "    this.imageObj.onload = function() {\n",
       "            if (fig.image_mode == 'full') {\n",
       "                // Full images could contain transparency (where diff images\n",
       "                // almost always do), so we need to clear the canvas so that\n",
       "                // there is no ghosting.\n",
       "                fig.context.clearRect(0, 0, fig.canvas.width, fig.canvas.height);\n",
       "            }\n",
       "            fig.context.drawImage(fig.imageObj, 0, 0);\n",
       "        };\n",
       "\n",
       "    this.imageObj.onunload = function() {\n",
       "        this.ws.close();\n",
       "    }\n",
       "\n",
       "    this.ws.onmessage = this._make_on_message_function(this);\n",
       "\n",
       "    this.ondownload = ondownload;\n",
       "}\n",
       "\n",
       "mpl.figure.prototype._init_header = function() {\n",
       "    var titlebar = $(\n",
       "        '<div class=\"ui-dialog-titlebar ui-widget-header ui-corner-all ' +\n",
       "        'ui-helper-clearfix\"/>');\n",
       "    var titletext = $(\n",
       "        '<div class=\"ui-dialog-title\" style=\"width: 100%; ' +\n",
       "        'text-align: center; padding: 3px;\"/>');\n",
       "    titlebar.append(titletext)\n",
       "    this.root.append(titlebar);\n",
       "    this.header = titletext[0];\n",
       "}\n",
       "\n",
       "\n",
       "\n",
       "mpl.figure.prototype._canvas_extra_style = function(canvas_div) {\n",
       "\n",
       "}\n",
       "\n",
       "\n",
       "mpl.figure.prototype._root_extra_style = function(canvas_div) {\n",
       "\n",
       "}\n",
       "\n",
       "mpl.figure.prototype._init_canvas = function() {\n",
       "    var fig = this;\n",
       "\n",
       "    var canvas_div = $('<div/>');\n",
       "\n",
       "    canvas_div.attr('style', 'position: relative; clear: both; outline: 0');\n",
       "\n",
       "    function canvas_keyboard_event(event) {\n",
       "        return fig.key_event(event, event['data']);\n",
       "    }\n",
       "\n",
       "    canvas_div.keydown('key_press', canvas_keyboard_event);\n",
       "    canvas_div.keyup('key_release', canvas_keyboard_event);\n",
       "    this.canvas_div = canvas_div\n",
       "    this._canvas_extra_style(canvas_div)\n",
       "    this.root.append(canvas_div);\n",
       "\n",
       "    var canvas = $('<canvas/>');\n",
       "    canvas.addClass('mpl-canvas');\n",
       "    canvas.attr('style', \"left: 0; top: 0; z-index: 0; outline: 0\")\n",
       "\n",
       "    this.canvas = canvas[0];\n",
       "    this.context = canvas[0].getContext(\"2d\");\n",
       "\n",
       "    var backingStore = this.context.backingStorePixelRatio ||\n",
       "\tthis.context.webkitBackingStorePixelRatio ||\n",
       "\tthis.context.mozBackingStorePixelRatio ||\n",
       "\tthis.context.msBackingStorePixelRatio ||\n",
       "\tthis.context.oBackingStorePixelRatio ||\n",
       "\tthis.context.backingStorePixelRatio || 1;\n",
       "\n",
       "    mpl.ratio = (window.devicePixelRatio || 1) / backingStore;\n",
       "\n",
       "    var rubberband = $('<canvas/>');\n",
       "    rubberband.attr('style', \"position: absolute; left: 0; top: 0; z-index: 1;\")\n",
       "\n",
       "    var pass_mouse_events = true;\n",
       "\n",
       "    canvas_div.resizable({\n",
       "        start: function(event, ui) {\n",
       "            pass_mouse_events = false;\n",
       "        },\n",
       "        resize: function(event, ui) {\n",
       "            fig.request_resize(ui.size.width, ui.size.height);\n",
       "        },\n",
       "        stop: function(event, ui) {\n",
       "            pass_mouse_events = true;\n",
       "            fig.request_resize(ui.size.width, ui.size.height);\n",
       "        },\n",
       "    });\n",
       "\n",
       "    function mouse_event_fn(event) {\n",
       "        if (pass_mouse_events)\n",
       "            return fig.mouse_event(event, event['data']);\n",
       "    }\n",
       "\n",
       "    rubberband.mousedown('button_press', mouse_event_fn);\n",
       "    rubberband.mouseup('button_release', mouse_event_fn);\n",
       "    // Throttle sequential mouse events to 1 every 20ms.\n",
       "    rubberband.mousemove('motion_notify', mouse_event_fn);\n",
       "\n",
       "    rubberband.mouseenter('figure_enter', mouse_event_fn);\n",
       "    rubberband.mouseleave('figure_leave', mouse_event_fn);\n",
       "\n",
       "    canvas_div.on(\"wheel\", function (event) {\n",
       "        event = event.originalEvent;\n",
       "        event['data'] = 'scroll'\n",
       "        if (event.deltaY < 0) {\n",
       "            event.step = 1;\n",
       "        } else {\n",
       "            event.step = -1;\n",
       "        }\n",
       "        mouse_event_fn(event);\n",
       "    });\n",
       "\n",
       "    canvas_div.append(canvas);\n",
       "    canvas_div.append(rubberband);\n",
       "\n",
       "    this.rubberband = rubberband;\n",
       "    this.rubberband_canvas = rubberband[0];\n",
       "    this.rubberband_context = rubberband[0].getContext(\"2d\");\n",
       "    this.rubberband_context.strokeStyle = \"#000000\";\n",
       "\n",
       "    this._resize_canvas = function(width, height) {\n",
       "        // Keep the size of the canvas, canvas container, and rubber band\n",
       "        // canvas in synch.\n",
       "        canvas_div.css('width', width)\n",
       "        canvas_div.css('height', height)\n",
       "\n",
       "        canvas.attr('width', width * mpl.ratio);\n",
       "        canvas.attr('height', height * mpl.ratio);\n",
       "        canvas.attr('style', 'width: ' + width + 'px; height: ' + height + 'px;');\n",
       "\n",
       "        rubberband.attr('width', width);\n",
       "        rubberband.attr('height', height);\n",
       "    }\n",
       "\n",
       "    // Set the figure to an initial 600x600px, this will subsequently be updated\n",
       "    // upon first draw.\n",
       "    this._resize_canvas(600, 600);\n",
       "\n",
       "    // Disable right mouse context menu.\n",
       "    $(this.rubberband_canvas).bind(\"contextmenu\",function(e){\n",
       "        return false;\n",
       "    });\n",
       "\n",
       "    function set_focus () {\n",
       "        canvas.focus();\n",
       "        canvas_div.focus();\n",
       "    }\n",
       "\n",
       "    window.setTimeout(set_focus, 100);\n",
       "}\n",
       "\n",
       "mpl.figure.prototype._init_toolbar = function() {\n",
       "    var fig = this;\n",
       "\n",
       "    var nav_element = $('<div/>')\n",
       "    nav_element.attr('style', 'width: 100%');\n",
       "    this.root.append(nav_element);\n",
       "\n",
       "    // Define a callback function for later on.\n",
       "    function toolbar_event(event) {\n",
       "        return fig.toolbar_button_onclick(event['data']);\n",
       "    }\n",
       "    function toolbar_mouse_event(event) {\n",
       "        return fig.toolbar_button_onmouseover(event['data']);\n",
       "    }\n",
       "\n",
       "    for(var toolbar_ind in mpl.toolbar_items) {\n",
       "        var name = mpl.toolbar_items[toolbar_ind][0];\n",
       "        var tooltip = mpl.toolbar_items[toolbar_ind][1];\n",
       "        var image = mpl.toolbar_items[toolbar_ind][2];\n",
       "        var method_name = mpl.toolbar_items[toolbar_ind][3];\n",
       "\n",
       "        if (!name) {\n",
       "            // put a spacer in here.\n",
       "            continue;\n",
       "        }\n",
       "        var button = $('<button/>');\n",
       "        button.addClass('ui-button ui-widget ui-state-default ui-corner-all ' +\n",
       "                        'ui-button-icon-only');\n",
       "        button.attr('role', 'button');\n",
       "        button.attr('aria-disabled', 'false');\n",
       "        button.click(method_name, toolbar_event);\n",
       "        button.mouseover(tooltip, toolbar_mouse_event);\n",
       "\n",
       "        var icon_img = $('<span/>');\n",
       "        icon_img.addClass('ui-button-icon-primary ui-icon');\n",
       "        icon_img.addClass(image);\n",
       "        icon_img.addClass('ui-corner-all');\n",
       "\n",
       "        var tooltip_span = $('<span/>');\n",
       "        tooltip_span.addClass('ui-button-text');\n",
       "        tooltip_span.html(tooltip);\n",
       "\n",
       "        button.append(icon_img);\n",
       "        button.append(tooltip_span);\n",
       "\n",
       "        nav_element.append(button);\n",
       "    }\n",
       "\n",
       "    var fmt_picker_span = $('<span/>');\n",
       "\n",
       "    var fmt_picker = $('<select/>');\n",
       "    fmt_picker.addClass('mpl-toolbar-option ui-widget ui-widget-content');\n",
       "    fmt_picker_span.append(fmt_picker);\n",
       "    nav_element.append(fmt_picker_span);\n",
       "    this.format_dropdown = fmt_picker[0];\n",
       "\n",
       "    for (var ind in mpl.extensions) {\n",
       "        var fmt = mpl.extensions[ind];\n",
       "        var option = $(\n",
       "            '<option/>', {selected: fmt === mpl.default_extension}).html(fmt);\n",
       "        fmt_picker.append(option)\n",
       "    }\n",
       "\n",
       "    // Add hover states to the ui-buttons\n",
       "    $( \".ui-button\" ).hover(\n",
       "        function() { $(this).addClass(\"ui-state-hover\");},\n",
       "        function() { $(this).removeClass(\"ui-state-hover\");}\n",
       "    );\n",
       "\n",
       "    var status_bar = $('<span class=\"mpl-message\"/>');\n",
       "    nav_element.append(status_bar);\n",
       "    this.message = status_bar[0];\n",
       "}\n",
       "\n",
       "mpl.figure.prototype.request_resize = function(x_pixels, y_pixels) {\n",
       "    // Request matplotlib to resize the figure. Matplotlib will then trigger a resize in the client,\n",
       "    // which will in turn request a refresh of the image.\n",
       "    this.send_message('resize', {'width': x_pixels, 'height': y_pixels});\n",
       "}\n",
       "\n",
       "mpl.figure.prototype.send_message = function(type, properties) {\n",
       "    properties['type'] = type;\n",
       "    properties['figure_id'] = this.id;\n",
       "    this.ws.send(JSON.stringify(properties));\n",
       "}\n",
       "\n",
       "mpl.figure.prototype.send_draw_message = function() {\n",
       "    if (!this.waiting) {\n",
       "        this.waiting = true;\n",
       "        this.ws.send(JSON.stringify({type: \"draw\", figure_id: this.id}));\n",
       "    }\n",
       "}\n",
       "\n",
       "\n",
       "mpl.figure.prototype.handle_save = function(fig, msg) {\n",
       "    var format_dropdown = fig.format_dropdown;\n",
       "    var format = format_dropdown.options[format_dropdown.selectedIndex].value;\n",
       "    fig.ondownload(fig, format);\n",
       "}\n",
       "\n",
       "\n",
       "mpl.figure.prototype.handle_resize = function(fig, msg) {\n",
       "    var size = msg['size'];\n",
       "    if (size[0] != fig.canvas.width || size[1] != fig.canvas.height) {\n",
       "        fig._resize_canvas(size[0], size[1]);\n",
       "        fig.send_message(\"refresh\", {});\n",
       "    };\n",
       "}\n",
       "\n",
       "mpl.figure.prototype.handle_rubberband = function(fig, msg) {\n",
       "    var x0 = msg['x0'] / mpl.ratio;\n",
       "    var y0 = (fig.canvas.height - msg['y0']) / mpl.ratio;\n",
       "    var x1 = msg['x1'] / mpl.ratio;\n",
       "    var y1 = (fig.canvas.height - msg['y1']) / mpl.ratio;\n",
       "    x0 = Math.floor(x0) + 0.5;\n",
       "    y0 = Math.floor(y0) + 0.5;\n",
       "    x1 = Math.floor(x1) + 0.5;\n",
       "    y1 = Math.floor(y1) + 0.5;\n",
       "    var min_x = Math.min(x0, x1);\n",
       "    var min_y = Math.min(y0, y1);\n",
       "    var width = Math.abs(x1 - x0);\n",
       "    var height = Math.abs(y1 - y0);\n",
       "\n",
       "    fig.rubberband_context.clearRect(\n",
       "        0, 0, fig.canvas.width, fig.canvas.height);\n",
       "\n",
       "    fig.rubberband_context.strokeRect(min_x, min_y, width, height);\n",
       "}\n",
       "\n",
       "mpl.figure.prototype.handle_figure_label = function(fig, msg) {\n",
       "    // Updates the figure title.\n",
       "    fig.header.textContent = msg['label'];\n",
       "}\n",
       "\n",
       "mpl.figure.prototype.handle_cursor = function(fig, msg) {\n",
       "    var cursor = msg['cursor'];\n",
       "    switch(cursor)\n",
       "    {\n",
       "    case 0:\n",
       "        cursor = 'pointer';\n",
       "        break;\n",
       "    case 1:\n",
       "        cursor = 'default';\n",
       "        break;\n",
       "    case 2:\n",
       "        cursor = 'crosshair';\n",
       "        break;\n",
       "    case 3:\n",
       "        cursor = 'move';\n",
       "        break;\n",
       "    }\n",
       "    fig.rubberband_canvas.style.cursor = cursor;\n",
       "}\n",
       "\n",
       "mpl.figure.prototype.handle_message = function(fig, msg) {\n",
       "    fig.message.textContent = msg['message'];\n",
       "}\n",
       "\n",
       "mpl.figure.prototype.handle_draw = function(fig, msg) {\n",
       "    // Request the server to send over a new figure.\n",
       "    fig.send_draw_message();\n",
       "}\n",
       "\n",
       "mpl.figure.prototype.handle_image_mode = function(fig, msg) {\n",
       "    fig.image_mode = msg['mode'];\n",
       "}\n",
       "\n",
       "mpl.figure.prototype.updated_canvas_event = function() {\n",
       "    // Called whenever the canvas gets updated.\n",
       "    this.send_message(\"ack\", {});\n",
       "}\n",
       "\n",
       "// A function to construct a web socket function for onmessage handling.\n",
       "// Called in the figure constructor.\n",
       "mpl.figure.prototype._make_on_message_function = function(fig) {\n",
       "    return function socket_on_message(evt) {\n",
       "        if (evt.data instanceof Blob) {\n",
       "            /* FIXME: We get \"Resource interpreted as Image but\n",
       "             * transferred with MIME type text/plain:\" errors on\n",
       "             * Chrome.  But how to set the MIME type?  It doesn't seem\n",
       "             * to be part of the websocket stream */\n",
       "            evt.data.type = \"image/png\";\n",
       "\n",
       "            /* Free the memory for the previous frames */\n",
       "            if (fig.imageObj.src) {\n",
       "                (window.URL || window.webkitURL).revokeObjectURL(\n",
       "                    fig.imageObj.src);\n",
       "            }\n",
       "\n",
       "            fig.imageObj.src = (window.URL || window.webkitURL).createObjectURL(\n",
       "                evt.data);\n",
       "            fig.updated_canvas_event();\n",
       "            fig.waiting = false;\n",
       "            return;\n",
       "        }\n",
       "        else if (typeof evt.data === 'string' && evt.data.slice(0, 21) == \"data:image/png;base64\") {\n",
       "            fig.imageObj.src = evt.data;\n",
       "            fig.updated_canvas_event();\n",
       "            fig.waiting = false;\n",
       "            return;\n",
       "        }\n",
       "\n",
       "        var msg = JSON.parse(evt.data);\n",
       "        var msg_type = msg['type'];\n",
       "\n",
       "        // Call the  \"handle_{type}\" callback, which takes\n",
       "        // the figure and JSON message as its only arguments.\n",
       "        try {\n",
       "            var callback = fig[\"handle_\" + msg_type];\n",
       "        } catch (e) {\n",
       "            console.log(\"No handler for the '\" + msg_type + \"' message type: \", msg);\n",
       "            return;\n",
       "        }\n",
       "\n",
       "        if (callback) {\n",
       "            try {\n",
       "                // console.log(\"Handling '\" + msg_type + \"' message: \", msg);\n",
       "                callback(fig, msg);\n",
       "            } catch (e) {\n",
       "                console.log(\"Exception inside the 'handler_\" + msg_type + \"' callback:\", e, e.stack, msg);\n",
       "            }\n",
       "        }\n",
       "    };\n",
       "}\n",
       "\n",
       "// from http://stackoverflow.com/questions/1114465/getting-mouse-location-in-canvas\n",
       "mpl.findpos = function(e) {\n",
       "    //this section is from http://www.quirksmode.org/js/events_properties.html\n",
       "    var targ;\n",
       "    if (!e)\n",
       "        e = window.event;\n",
       "    if (e.target)\n",
       "        targ = e.target;\n",
       "    else if (e.srcElement)\n",
       "        targ = e.srcElement;\n",
       "    if (targ.nodeType == 3) // defeat Safari bug\n",
       "        targ = targ.parentNode;\n",
       "\n",
       "    // jQuery normalizes the pageX and pageY\n",
       "    // pageX,Y are the mouse positions relative to the document\n",
       "    // offset() returns the position of the element relative to the document\n",
       "    var x = e.pageX - $(targ).offset().left;\n",
       "    var y = e.pageY - $(targ).offset().top;\n",
       "\n",
       "    return {\"x\": x, \"y\": y};\n",
       "};\n",
       "\n",
       "/*\n",
       " * return a copy of an object with only non-object keys\n",
       " * we need this to avoid circular references\n",
       " * http://stackoverflow.com/a/24161582/3208463\n",
       " */\n",
       "function simpleKeys (original) {\n",
       "  return Object.keys(original).reduce(function (obj, key) {\n",
       "    if (typeof original[key] !== 'object')\n",
       "        obj[key] = original[key]\n",
       "    return obj;\n",
       "  }, {});\n",
       "}\n",
       "\n",
       "mpl.figure.prototype.mouse_event = function(event, name) {\n",
       "    var canvas_pos = mpl.findpos(event)\n",
       "\n",
       "    if (name === 'button_press')\n",
       "    {\n",
       "        this.canvas.focus();\n",
       "        this.canvas_div.focus();\n",
       "    }\n",
       "\n",
       "    var x = canvas_pos.x * mpl.ratio;\n",
       "    var y = canvas_pos.y * mpl.ratio;\n",
       "\n",
       "    this.send_message(name, {x: x, y: y, button: event.button,\n",
       "                             step: event.step,\n",
       "                             guiEvent: simpleKeys(event)});\n",
       "\n",
       "    /* This prevents the web browser from automatically changing to\n",
       "     * the text insertion cursor when the button is pressed.  We want\n",
       "     * to control all of the cursor setting manually through the\n",
       "     * 'cursor' event from matplotlib */\n",
       "    event.preventDefault();\n",
       "    return false;\n",
       "}\n",
       "\n",
       "mpl.figure.prototype._key_event_extra = function(event, name) {\n",
       "    // Handle any extra behaviour associated with a key event\n",
       "}\n",
       "\n",
       "mpl.figure.prototype.key_event = function(event, name) {\n",
       "\n",
       "    // Prevent repeat events\n",
       "    if (name == 'key_press')\n",
       "    {\n",
       "        if (event.which === this._key)\n",
       "            return;\n",
       "        else\n",
       "            this._key = event.which;\n",
       "    }\n",
       "    if (name == 'key_release')\n",
       "        this._key = null;\n",
       "\n",
       "    var value = '';\n",
       "    if (event.ctrlKey && event.which != 17)\n",
       "        value += \"ctrl+\";\n",
       "    if (event.altKey && event.which != 18)\n",
       "        value += \"alt+\";\n",
       "    if (event.shiftKey && event.which != 16)\n",
       "        value += \"shift+\";\n",
       "\n",
       "    value += 'k';\n",
       "    value += event.which.toString();\n",
       "\n",
       "    this._key_event_extra(event, name);\n",
       "\n",
       "    this.send_message(name, {key: value,\n",
       "                             guiEvent: simpleKeys(event)});\n",
       "    return false;\n",
       "}\n",
       "\n",
       "mpl.figure.prototype.toolbar_button_onclick = function(name) {\n",
       "    if (name == 'download') {\n",
       "        this.handle_save(this, null);\n",
       "    } else {\n",
       "        this.send_message(\"toolbar_button\", {name: name});\n",
       "    }\n",
       "};\n",
       "\n",
       "mpl.figure.prototype.toolbar_button_onmouseover = function(tooltip) {\n",
       "    this.message.textContent = tooltip;\n",
       "};\n",
       "mpl.toolbar_items = [[\"Home\", \"Reset original view\", \"fa fa-home icon-home\", \"home\"], [\"Back\", \"Back to  previous view\", \"fa fa-arrow-left icon-arrow-left\", \"back\"], [\"Forward\", \"Forward to next view\", \"fa fa-arrow-right icon-arrow-right\", \"forward\"], [\"\", \"\", \"\", \"\"], [\"Pan\", \"Pan axes with left mouse, zoom with right\", \"fa fa-arrows icon-move\", \"pan\"], [\"Zoom\", \"Zoom to rectangle\", \"fa fa-square-o icon-check-empty\", \"zoom\"], [\"\", \"\", \"\", \"\"], [\"Download\", \"Download plot\", \"fa fa-floppy-o icon-save\", \"download\"]];\n",
       "\n",
       "mpl.extensions = [\"eps\", \"jpeg\", \"pdf\", \"png\", \"ps\", \"raw\", \"svg\", \"tif\"];\n",
       "\n",
       "mpl.default_extension = \"png\";var comm_websocket_adapter = function(comm) {\n",
       "    // Create a \"websocket\"-like object which calls the given IPython comm\n",
       "    // object with the appropriate methods. Currently this is a non binary\n",
       "    // socket, so there is still some room for performance tuning.\n",
       "    var ws = {};\n",
       "\n",
       "    ws.close = function() {\n",
       "        comm.close()\n",
       "    };\n",
       "    ws.send = function(m) {\n",
       "        //console.log('sending', m);\n",
       "        comm.send(m);\n",
       "    };\n",
       "    // Register the callback with on_msg.\n",
       "    comm.on_msg(function(msg) {\n",
       "        //console.log('receiving', msg['content']['data'], msg);\n",
       "        // Pass the mpl event to the overriden (by mpl) onmessage function.\n",
       "        ws.onmessage(msg['content']['data'])\n",
       "    });\n",
       "    return ws;\n",
       "}\n",
       "\n",
       "mpl.mpl_figure_comm = function(comm, msg) {\n",
       "    // This is the function which gets called when the mpl process\n",
       "    // starts-up an IPython Comm through the \"matplotlib\" channel.\n",
       "\n",
       "    var id = msg.content.data.id;\n",
       "    // Get hold of the div created by the display call when the Comm\n",
       "    // socket was opened in Python.\n",
       "    var element = $(\"#\" + id);\n",
       "    var ws_proxy = comm_websocket_adapter(comm)\n",
       "\n",
       "    function ondownload(figure, format) {\n",
       "        window.open(figure.imageObj.src);\n",
       "    }\n",
       "\n",
       "    var fig = new mpl.figure(id, ws_proxy,\n",
       "                           ondownload,\n",
       "                           element.get(0));\n",
       "\n",
       "    // Call onopen now - mpl needs it, as it is assuming we've passed it a real\n",
       "    // web socket which is closed, not our websocket->open comm proxy.\n",
       "    ws_proxy.onopen();\n",
       "\n",
       "    fig.parent_element = element.get(0);\n",
       "    fig.cell_info = mpl.find_output_cell(\"<div id='\" + id + \"'></div>\");\n",
       "    if (!fig.cell_info) {\n",
       "        console.error(\"Failed to find cell for figure\", id, fig);\n",
       "        return;\n",
       "    }\n",
       "\n",
       "    var output_index = fig.cell_info[2]\n",
       "    var cell = fig.cell_info[0];\n",
       "\n",
       "};\n",
       "\n",
       "mpl.figure.prototype.handle_close = function(fig, msg) {\n",
       "    var width = fig.canvas.width/mpl.ratio\n",
       "    fig.root.unbind('remove')\n",
       "\n",
       "    // Update the output cell to use the data from the current canvas.\n",
       "    fig.push_to_output();\n",
       "    var dataURL = fig.canvas.toDataURL();\n",
       "    // Re-enable the keyboard manager in IPython - without this line, in FF,\n",
       "    // the notebook keyboard shortcuts fail.\n",
       "    IPython.keyboard_manager.enable()\n",
       "    $(fig.parent_element).html('<img src=\"' + dataURL + '\" width=\"' + width + '\">');\n",
       "    fig.close_ws(fig, msg);\n",
       "}\n",
       "\n",
       "mpl.figure.prototype.close_ws = function(fig, msg){\n",
       "    fig.send_message('closing', msg);\n",
       "    // fig.ws.close()\n",
       "}\n",
       "\n",
       "mpl.figure.prototype.push_to_output = function(remove_interactive) {\n",
       "    // Turn the data on the canvas into data in the output cell.\n",
       "    var width = this.canvas.width/mpl.ratio\n",
       "    var dataURL = this.canvas.toDataURL();\n",
       "    this.cell_info[1]['text/html'] = '<img src=\"' + dataURL + '\" width=\"' + width + '\">';\n",
       "}\n",
       "\n",
       "mpl.figure.prototype.updated_canvas_event = function() {\n",
       "    // Tell IPython that the notebook contents must change.\n",
       "    IPython.notebook.set_dirty(true);\n",
       "    this.send_message(\"ack\", {});\n",
       "    var fig = this;\n",
       "    // Wait a second, then push the new image to the DOM so\n",
       "    // that it is saved nicely (might be nice to debounce this).\n",
       "    setTimeout(function () { fig.push_to_output() }, 1000);\n",
       "}\n",
       "\n",
       "mpl.figure.prototype._init_toolbar = function() {\n",
       "    var fig = this;\n",
       "\n",
       "    var nav_element = $('<div/>')\n",
       "    nav_element.attr('style', 'width: 100%');\n",
       "    this.root.append(nav_element);\n",
       "\n",
       "    // Define a callback function for later on.\n",
       "    function toolbar_event(event) {\n",
       "        return fig.toolbar_button_onclick(event['data']);\n",
       "    }\n",
       "    function toolbar_mouse_event(event) {\n",
       "        return fig.toolbar_button_onmouseover(event['data']);\n",
       "    }\n",
       "\n",
       "    for(var toolbar_ind in mpl.toolbar_items){\n",
       "        var name = mpl.toolbar_items[toolbar_ind][0];\n",
       "        var tooltip = mpl.toolbar_items[toolbar_ind][1];\n",
       "        var image = mpl.toolbar_items[toolbar_ind][2];\n",
       "        var method_name = mpl.toolbar_items[toolbar_ind][3];\n",
       "\n",
       "        if (!name) { continue; };\n",
       "\n",
       "        var button = $('<button class=\"btn btn-default\" href=\"#\" title=\"' + name + '\"><i class=\"fa ' + image + ' fa-lg\"></i></button>');\n",
       "        button.click(method_name, toolbar_event);\n",
       "        button.mouseover(tooltip, toolbar_mouse_event);\n",
       "        nav_element.append(button);\n",
       "    }\n",
       "\n",
       "    // Add the status bar.\n",
       "    var status_bar = $('<span class=\"mpl-message\" style=\"text-align:right; float: right;\"/>');\n",
       "    nav_element.append(status_bar);\n",
       "    this.message = status_bar[0];\n",
       "\n",
       "    // Add the close button to the window.\n",
       "    var buttongrp = $('<div class=\"btn-group inline pull-right\"></div>');\n",
       "    var button = $('<button class=\"btn btn-mini btn-primary\" href=\"#\" title=\"Stop Interaction\"><i class=\"fa fa-power-off icon-remove icon-large\"></i></button>');\n",
       "    button.click(function (evt) { fig.handle_close(fig, {}); } );\n",
       "    button.mouseover('Stop Interaction', toolbar_mouse_event);\n",
       "    buttongrp.append(button);\n",
       "    var titlebar = this.root.find($('.ui-dialog-titlebar'));\n",
       "    titlebar.prepend(buttongrp);\n",
       "}\n",
       "\n",
       "mpl.figure.prototype._root_extra_style = function(el){\n",
       "    var fig = this\n",
       "    el.on(\"remove\", function(){\n",
       "\tfig.close_ws(fig, {});\n",
       "    });\n",
       "}\n",
       "\n",
       "mpl.figure.prototype._canvas_extra_style = function(el){\n",
       "    // this is important to make the div 'focusable\n",
       "    el.attr('tabindex', 0)\n",
       "    // reach out to IPython and tell the keyboard manager to turn it's self\n",
       "    // off when our div gets focus\n",
       "\n",
       "    // location in version 3\n",
       "    if (IPython.notebook.keyboard_manager) {\n",
       "        IPython.notebook.keyboard_manager.register_events(el);\n",
       "    }\n",
       "    else {\n",
       "        // location in version 2\n",
       "        IPython.keyboard_manager.register_events(el);\n",
       "    }\n",
       "\n",
       "}\n",
       "\n",
       "mpl.figure.prototype._key_event_extra = function(event, name) {\n",
       "    var manager = IPython.notebook.keyboard_manager;\n",
       "    if (!manager)\n",
       "        manager = IPython.keyboard_manager;\n",
       "\n",
       "    // Check for shift+enter\n",
       "    if (event.shiftKey && event.which == 13) {\n",
       "        this.canvas_div.blur();\n",
       "        // select the cell after this one\n",
       "        var index = IPython.notebook.find_cell_index(this.cell_info[0]);\n",
       "        IPython.notebook.select(index + 1);\n",
       "    }\n",
       "}\n",
       "\n",
       "mpl.figure.prototype.handle_save = function(fig, msg) {\n",
       "    fig.ondownload(fig, null);\n",
       "}\n",
       "\n",
       "\n",
       "mpl.find_output_cell = function(html_output) {\n",
       "    // Return the cell and output element which can be found *uniquely* in the notebook.\n",
       "    // Note - this is a bit hacky, but it is done because the \"notebook_saving.Notebook\"\n",
       "    // IPython event is triggered only after the cells have been serialised, which for\n",
       "    // our purposes (turning an active figure into a static one), is too late.\n",
       "    var cells = IPython.notebook.get_cells();\n",
       "    var ncells = cells.length;\n",
       "    for (var i=0; i<ncells; i++) {\n",
       "        var cell = cells[i];\n",
       "        if (cell.cell_type === 'code'){\n",
       "            for (var j=0; j<cell.output_area.outputs.length; j++) {\n",
       "                var data = cell.output_area.outputs[j];\n",
       "                if (data.data) {\n",
       "                    // IPython >= 3 moved mimebundle to data attribute of output\n",
       "                    data = data.data;\n",
       "                }\n",
       "                if (data['text/html'] == html_output) {\n",
       "                    return [cell, data, j];\n",
       "                }\n",
       "            }\n",
       "        }\n",
       "    }\n",
       "}\n",
       "\n",
       "// Register the function which deals with the matplotlib target/channel.\n",
       "// The kernel may be null if the page has been refreshed.\n",
       "if (IPython.notebook.kernel != null) {\n",
       "    IPython.notebook.kernel.comm_manager.register_target('matplotlib', mpl.mpl_figure_comm);\n",
       "}\n"
      ],
      "text/plain": [
       "<IPython.core.display.Javascript object>"
      ]
     },
     "metadata": {},
     "output_type": "display_data"
    },
    {
     "data": {
      "text/html": [
       "<img src=\"data:image/png;base64,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\" width=\"600\">"
      ],
      "text/plain": [
       "<IPython.core.display.HTML object>"
      ]
     },
     "metadata": {},
     "output_type": "display_data"
    },
    {
     "data": {
      "text/plain": [
       "([<matplotlib.axis.XTick at 0x7f1cb45947f0>,\n",
       "  <matplotlib.axis.XTick at 0x7f1cb45b1f60>,\n",
       "  <matplotlib.axis.XTick at 0x7f1cb458ef98>,\n",
       "  <matplotlib.axis.XTick at 0x7f1cb4511198>,\n",
       "  <matplotlib.axis.XTick at 0x7f1cb4511b70>,\n",
       "  <matplotlib.axis.XTick at 0x7f1cb4517588>],\n",
       " <a list of 6 Text xticklabel objects>)"
      ]
     },
     "execution_count": 119,
     "metadata": {},
     "output_type": "execute_result"
    }
   ],
   "source": [
    "import matplotlib.pyplot as plt\n",
    "    \n",
    "# Your code here  \n",
    "%matplotlib notebook\n",
    "plt.figure(figsize=(6,5))\n",
    "plt.plot(range(0,6,1), score_train.reshape(-1,1), '*', label='training Score', markersize=10)\n",
    "plt.plot(range(0,6,1), score_test.reshape(-1,1), 'o', label='test Score', alpha=0.5, markersize=10)\n",
    "\n",
    "plt.legend(loc=2)\n",
    "plt.xlabel('Gamma')\n",
    "plt.ylabel('Accuracy')\n",
    "labels = list(np.logspace(-4,1,6))\n",
    "plt.xticks([0,1,2,3,4,5],labels)"
   ]
  },
  {
   "cell_type": "code",
   "execution_count": 120,
   "metadata": {
    "collapsed": false
   },
   "outputs": [
    {
     "data": {
      "text/plain": [
       "[0.0001, 0.001, 0.01, 0.10000000000000001, 1.0, 10.0]"
      ]
     },
     "execution_count": 120,
     "metadata": {},
     "output_type": "execute_result"
    }
   ],
   "source": [
    "labels"
   ]
  },
  {
   "cell_type": "code",
   "execution_count": 121,
   "metadata": {
    "collapsed": true
   },
   "outputs": [],
   "source": [
    "def answer_seven():\n",
    "    \n",
    "    # Your code here\n",
    "    \n",
    "    return (1.00000000e-04,  1.00000000e+01,  1.00000000e-01)# Return your answer"
   ]
  },
  {
   "cell_type": "code",
   "execution_count": 122,
   "metadata": {
    "collapsed": false
   },
   "outputs": [
    {
     "data": {
      "text/plain": [
       "(0.0001, 10.0, 0.1)"
      ]
     },
     "execution_count": 122,
     "metadata": {},
     "output_type": "execute_result"
    }
   ],
   "source": [
    "answer_seven()"
   ]
  }
 ],
 "metadata": {
  "coursera": {
   "course_slug": "python-machine-learning",
   "graded_item_id": "eWYHL",
   "launcher_item_id": "BAqef",
   "part_id": "fXXRp"
  },
  "kernelspec": {
   "display_name": "Python 3",
   "language": "python",
   "name": "python3"
  },
  "language_info": {
   "codemirror_mode": {
    "name": "ipython",
    "version": 3
   },
   "file_extension": ".py",
   "mimetype": "text/x-python",
   "name": "python",
   "nbconvert_exporter": "python",
   "pygments_lexer": "ipython3",
   "version": "3.6.2"
  }
 },
 "nbformat": 4,
 "nbformat_minor": 2
}
