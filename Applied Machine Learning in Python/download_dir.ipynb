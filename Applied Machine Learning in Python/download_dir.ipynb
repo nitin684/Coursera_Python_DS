{
 "cells": [
  {
   "cell_type": "code",
   "execution_count": 2,
   "metadata": {
    "collapsed": false
   },
   "outputs": [
    {
     "name": "stdout",
     "output_type": "stream",
     "text": [
      "./\n",
      "./log.txt\n",
      "./Week 4.ipynb\n",
      "./grades.csv\n",
      "./Assignment 3.ipynb\n",
      "./log.csv\n",
      "./scimagojr-3.xlsx\n",
      "./olympics.csv\n",
      "./university_towns.txt\n",
      "./.ipynb_checkpoints/\n",
      "./.ipynb_checkpoints/Assignment 2-checkpoint.ipynb\n",
      "./.ipynb_checkpoints/Assignment 4-Rough-checkpoint.ipynb\n",
      "./.ipynb_checkpoints/Week 3-checkpoint.ipynb\n",
      "./.ipynb_checkpoints/Assignment 2-Rough-checkpoint.ipynb\n",
      "./.ipynb_checkpoints/Assignment 4-checkpoint.ipynb\n",
      "./.ipynb_checkpoints/Week 1-checkpoint.ipynb\n",
      "./.ipynb_checkpoints/Untitled-checkpoint.ipynb\n",
      "./.ipynb_checkpoints/Assignment 3-checkpoint.ipynb\n",
      "./.ipynb_checkpoints/Week 4-checkpoint.ipynb\n",
      "./.ipynb_checkpoints/Week 2-checkpoint.ipynb\n",
      "./.ipynb_checkpoints/Assignment 3-Rough-checkpoint.ipynb\n",
      "./mpg.csv\n",
      "./Week 2.ipynb\n",
      "./Assignment 3-Rough.ipynb\n",
      "./readonly/\n",
      "./readonly/log.txt\n",
      "./readonly/Week 4.ipynb\n",
      "./readonly/grades.csv\n",
      "./readonly/Assignment 3.ipynb\n",
      "./readonly/log.csv\n",
      "./readonly/scimagojr-3.xlsx\n",
      "./readonly/olympics.csv\n",
      "./readonly/university_towns.txt\n",
      "./readonly/mpg.csv\n",
      "./readonly/Week 2.ipynb\n",
      "./readonly/Week 1.ipynb\n",
      "./readonly/Assignment 4.ipynb\n",
      "./readonly/world_bank.csv\n",
      "./readonly/cars.csv\n",
      "./readonly/CO-EST2015-alldata.pdf\n",
      "./readonly/census.csv\n",
      "./readonly/Assignment 2.ipynb\n",
      "./readonly/gdplev.xls\n",
      "./readonly/City_Zhvi_AllHomes.csv\n",
      "./readonly/Week 3.ipynb\n",
      "./readonly/Energy Indicators.xls\n",
      "./UniTowns.csv\n",
      "./Untitled.ipynb\n",
      "./Week 1.ipynb\n",
      "./Assignment 4.ipynb\n",
      "./world_bank.csv\n",
      "./Assignment 2-Rough.ipynb\n",
      "./hw.tar.gz\n",
      "./cars.csv\n",
      "./my_Uni.csv\n",
      "./census.csv\n",
      "./Assignment 2.ipynb\n",
      "./gdplev.xls\n",
      "./City_Zhvi_AllHomes.csv\n",
      "./Week 3.ipynb\n",
      "./Energy Indicators.xls\n",
      "./Assignment 4-Rough.ipynb\n"
     ]
    },
    {
     "name": "stderr",
     "output_type": "stream",
     "text": [
      "tar: ./hw.tar.gz: file changed as we read it\n",
      "tar: .: file changed as we read it\n"
     ]
    }
   ],
   "source": [
    "%%bash\n",
    "tar cvfz Course_1.tar.gz ."
   ]
  },
  {
   "cell_type": "code",
   "execution_count": null,
   "metadata": {
    "collapsed": true
   },
   "outputs": [],
   "source": []
  }
 ],
 "metadata": {
  "kernelspec": {
   "display_name": "Python 3",
   "language": "python",
   "name": "python3"
  },
  "language_info": {
   "codemirror_mode": {
    "name": "ipython",
    "version": 3
   },
   "file_extension": ".py",
   "mimetype": "text/x-python",
   "name": "python",
   "nbconvert_exporter": "python",
   "pygments_lexer": "ipython3",
   "version": "3.6.2"
  }
 },
 "nbformat": 4,
 "nbformat_minor": 2
}
