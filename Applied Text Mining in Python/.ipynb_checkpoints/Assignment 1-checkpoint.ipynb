{
 "cells": [
  {
   "cell_type": "markdown",
   "metadata": {},
   "source": [
    "---\n",
    "\n",
    "_You are currently looking at **version 1.1** of this notebook. To download notebooks and datafiles, as well as get help on Jupyter notebooks in the Coursera platform, visit the [Jupyter Notebook FAQ](https://www.coursera.org/learn/python-text-mining/resources/d9pwm) course resource._\n",
    "\n",
    "---"
   ]
  },
  {
   "cell_type": "markdown",
   "metadata": {},
   "source": [
    "# Assignment 1\n",
    "\n",
    "In this assignment, you'll be working with messy medical data and using regex to extract relevant infromation from the data. \n",
    "\n",
    "Each line of the `dates.txt` file corresponds to a medical note. Each note has a date that needs to be extracted, but each date is encoded in one of many formats.\n",
    "\n",
    "The goal of this assignment is to correctly identify all of the different date variants encoded in this dataset and to properly normalize and sort the dates. \n",
    "\n",
    "Here is a list of some of the variants you might encounter in this dataset:\n",
    "* 04/20/2009; 04/20/09; 4/20/09; 4/3/09\n",
    "* Mar-20-2009; Mar 20, 2009; March 20, 2009;  Mar. 20, 2009; Mar 20 2009;\n",
    "* 20 Mar 2009; 20 March 2009; 20 Mar. 2009; 20 March, 2009\n",
    "* Mar 20th, 2009; Mar 21st, 2009; Mar 22nd, 2009\n",
    "* Feb 2009; Sep 2009; Oct 2010\n",
    "* 6/2008; 12/2009\n",
    "* 2009; 2010\n",
    "\n",
    "Once you have extracted these date patterns from the text, the next step is to sort them in ascending chronological order accoring to the following rules:\n",
    "* Assume all dates in xx/xx/xx format are mm/dd/yy\n",
    "* Assume all dates where year is encoded in only two digits are years from the 1900's (e.g. 1/5/89 is January 5th, 1989)\n",
    "* If the day is missing (e.g. 9/2009), assume it is the first day of the month (e.g. September 1, 2009).\n",
    "* If the month is missing (e.g. 2010), assume it is the first of January of that year (e.g. January 1, 2010).\n",
    "* Watch out for potential typos as this is a raw, real-life derived dataset.\n",
    "\n",
    "With these rules in mind, find the correct date in each note and return a pandas Series in chronological order of the original Series' indices.\n",
    "\n",
    "For example if the original series was this:\n",
    "\n",
    "    0    1999\n",
    "    1    2010\n",
    "    2    1978\n",
    "    3    2015\n",
    "    4    1985\n",
    "\n",
    "Your function should return this:\n",
    "\n",
    "    0    2\n",
    "    1    4\n",
    "    2    0\n",
    "    3    1\n",
    "    4    3\n",
    "\n",
    "Your score will be calculated using [Kendall's tau](https://en.wikipedia.org/wiki/Kendall_rank_correlation_coefficient), a correlation measure for ordinal data.\n",
    "\n",
    "*This function should return a Series of length 500 and dtype int.*"
   ]
  },
  {
   "cell_type": "code",
   "execution_count": 1,
   "metadata": {},
   "outputs": [
    {
     "data": {
      "text/plain": [
       "0         03/25/93 Total time of visit (in minutes):\\n\n",
       "1                       6/18/85 Primary Care Doctor:\\n\n",
       "2    sshe plans to move as of 7/8/71 In-Home Servic...\n",
       "3                7 on 9/27/75 Audit C Score Current:\\n\n",
       "4    2/6/96 sleep studyPain Treatment Pain Level (N...\n",
       "5                    .Per 7/06/79 Movement D/O note:\\n\n",
       "6    4, 5/18/78 Patient's thoughts about current su...\n",
       "7    10/24/89 CPT Code: 90801 - Psychiatric Diagnos...\n",
       "8                         3/7/86 SOS-10 Total Score:\\n\n",
       "9             (4/10/71)Score-1Audit C Score Current:\\n\n",
       "dtype: object"
      ]
     },
     "execution_count": 1,
     "metadata": {},
     "output_type": "execute_result"
    }
   ],
   "source": [
    "import pandas as pd\n",
    "\n",
    "doc = []\n",
    "with open('dates.txt') as file:\n",
    "    for line in file:\n",
    "        doc.append(line)\n",
    "\n",
    "df = pd.Series(doc)\n",
    "df.head(10)"
   ]
  },
  {
   "cell_type": "code",
   "execution_count": 2,
   "metadata": {
    "collapsed": true
   },
   "outputs": [],
   "source": [
    "def date_sorter():\n",
    "    # Your code here\n",
    "    import pandas as pd\n",
    "    import re\n",
    "\n",
    "    doc = []\n",
    "    with open('dates.txt') as file:\n",
    "        for line in file:\n",
    "            doc.append(line)\n",
    "\n",
    "    df = pd.Series(doc)\n",
    "    df = pd.DataFrame(df, columns=['note'])\n",
    "    df_1 = pd.DataFrame(pd.DataFrame(df.note.str.strip()).note.str.strip(':'))\n",
    "    # 1. 09/04/2005 extract size - 125\n",
    "    pattern_1 = df_1['note'].str.extract(r'(\\d{1,2}[/-]\\d{1,2}[/-]\\d{2,4})',expand=True).dropna().rename(columns={0:'Date'})\n",
    "    # 2. 2nd Extract of dates. Size - 218\n",
    "    pattern_2 = df_1['note'].str.extract(r'((?:\\d{1,2}[a-z,./-]* )?(?:Jan|Feb|Mar|Apr|May|Jun|Jul|Aug|Sep|Oct|Nov|Dec)[a-z,./-]* (?:\\d{1,2}[a-z,./-]* )?\\d{2,4})',expand=True).dropna().rename(columns={0:'Date'})\n",
    "    # 3. No pattern found for Mar-20-2006\n",
    "    pattern_3 = df_1['note'].str.extract(r'((?:(?:Jan|Feb|Mar|Apr|May|Jun|Jul|Aug|Sep|Oct|Nov|Dec)[a-z/-]*)(?:\\d{1,2}[a-z/-]*)\\d{2,4})', expand=True).dropna()\n",
    "    # 4. 08/1987 \n",
    "    tmp_pattern_4 = df_1['note'].str.extract(r'((?:\\d{1,2})[/]\\d{4})',expand=True).dropna()\n",
    "    # remove the common rows in pattern_4 matching with pathern_1\n",
    "    pattern_4 = tmp_pattern_4.loc[tmp_pattern_4.index.difference(pattern_1.index), ].rename(columns={0:'Date'})\n",
    "    # 5. 1967\n",
    "    tmp_pat_5 = df_1['note'].str.extract(r'(\\d{4})',expand=True).dropna()\n",
    "    tmp_pat_5 = tmp_pat_5.loc[tmp_pat_5.index.difference(pattern_1.index),:]\n",
    "    tmp_pat_5 = tmp_pat_5.loc[tmp_pat_5.index.difference(pattern_2.index),:]\n",
    "    pattern_5 = tmp_pat_5.loc[tmp_pat_5.index.difference(pattern_4.index),:].rename(columns={0:'Date'})    \n",
    "    # Merge all patterns in a single dataframe\n",
    "    df_list = [pattern_1, pattern_2, pattern_4, pattern_5]\n",
    "    df_date = df_list[0]\n",
    "    for df in df_list[1:]:\n",
    "        df_date = df_date.append(df)\n",
    "    # Correct the spelling for Month at indexes 298 and 313\n",
    "    df_date.iloc[298,]= 'January 1993'\n",
    "    df_date.iloc[313,]= 'December 1978'\n",
    "    df_final = pd.to_datetime(df_date.stack()).unstack()\n",
    "    \n",
    "    return pd.Series(df_final.sort_values(by='Date').index) # Your answer here"
   ]
  }
 ],
 "metadata": {
  "coursera": {
   "course_slug": "python-text-mining",
   "graded_item_id": "LvcWI",
   "launcher_item_id": "krne9",
   "part_id": "Mkp1I"
  },
  "kernelspec": {
   "display_name": "Python 3",
   "language": "python",
   "name": "python3"
  },
  "language_info": {
   "codemirror_mode": {
    "name": "ipython",
    "version": 3
   },
   "file_extension": ".py",
   "mimetype": "text/x-python",
   "name": "python",
   "nbconvert_exporter": "python",
   "pygments_lexer": "ipython3",
   "version": "3.6.2"
  }
 },
 "nbformat": 4,
 "nbformat_minor": 2
}
