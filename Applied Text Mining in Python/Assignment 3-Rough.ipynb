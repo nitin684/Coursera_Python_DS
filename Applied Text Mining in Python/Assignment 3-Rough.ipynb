{
 "cells": [
  {
   "cell_type": "markdown",
   "metadata": {},
   "source": [
    "---\n",
    "\n",
    "_You are currently looking at **version 1.1** of this notebook. To download notebooks and datafiles, as well as get help on Jupyter notebooks in the Coursera platform, visit the [Jupyter Notebook FAQ](https://www.coursera.org/learn/python-text-mining/resources/d9pwm) course resource._\n",
    "\n",
    "---"
   ]
  },
  {
   "cell_type": "markdown",
   "metadata": {},
   "source": [
    "# Assignment 3\n",
    "\n",
    "In this assignment you will explore text message data and create models to predict if a message is spam or not. "
   ]
  },
  {
   "cell_type": "code",
   "execution_count": 1,
   "metadata": {},
   "outputs": [
    {
     "data": {
      "text/html": [
       "<div>\n",
       "<style>\n",
       "    .dataframe thead tr:only-child th {\n",
       "        text-align: right;\n",
       "    }\n",
       "\n",
       "    .dataframe thead th {\n",
       "        text-align: left;\n",
       "    }\n",
       "\n",
       "    .dataframe tbody tr th {\n",
       "        vertical-align: top;\n",
       "    }\n",
       "</style>\n",
       "<table border=\"1\" class=\"dataframe\">\n",
       "  <thead>\n",
       "    <tr style=\"text-align: right;\">\n",
       "      <th></th>\n",
       "      <th>text</th>\n",
       "      <th>target</th>\n",
       "    </tr>\n",
       "  </thead>\n",
       "  <tbody>\n",
       "    <tr>\n",
       "      <th>0</th>\n",
       "      <td>Go until jurong point, crazy.. Available only ...</td>\n",
       "      <td>0</td>\n",
       "    </tr>\n",
       "    <tr>\n",
       "      <th>1</th>\n",
       "      <td>Ok lar... Joking wif u oni...</td>\n",
       "      <td>0</td>\n",
       "    </tr>\n",
       "    <tr>\n",
       "      <th>2</th>\n",
       "      <td>Free entry in 2 a wkly comp to win FA Cup fina...</td>\n",
       "      <td>1</td>\n",
       "    </tr>\n",
       "    <tr>\n",
       "      <th>3</th>\n",
       "      <td>U dun say so early hor... U c already then say...</td>\n",
       "      <td>0</td>\n",
       "    </tr>\n",
       "    <tr>\n",
       "      <th>4</th>\n",
       "      <td>Nah I don't think he goes to usf, he lives aro...</td>\n",
       "      <td>0</td>\n",
       "    </tr>\n",
       "    <tr>\n",
       "      <th>5</th>\n",
       "      <td>FreeMsg Hey there darling it's been 3 week's n...</td>\n",
       "      <td>1</td>\n",
       "    </tr>\n",
       "    <tr>\n",
       "      <th>6</th>\n",
       "      <td>Even my brother is not like to speak with me. ...</td>\n",
       "      <td>0</td>\n",
       "    </tr>\n",
       "    <tr>\n",
       "      <th>7</th>\n",
       "      <td>As per your request 'Melle Melle (Oru Minnamin...</td>\n",
       "      <td>0</td>\n",
       "    </tr>\n",
       "    <tr>\n",
       "      <th>8</th>\n",
       "      <td>WINNER!! As a valued network customer you have...</td>\n",
       "      <td>1</td>\n",
       "    </tr>\n",
       "    <tr>\n",
       "      <th>9</th>\n",
       "      <td>Had your mobile 11 months or more? U R entitle...</td>\n",
       "      <td>1</td>\n",
       "    </tr>\n",
       "  </tbody>\n",
       "</table>\n",
       "</div>"
      ],
      "text/plain": [
       "                                                text  target\n",
       "0  Go until jurong point, crazy.. Available only ...       0\n",
       "1                      Ok lar... Joking wif u oni...       0\n",
       "2  Free entry in 2 a wkly comp to win FA Cup fina...       1\n",
       "3  U dun say so early hor... U c already then say...       0\n",
       "4  Nah I don't think he goes to usf, he lives aro...       0\n",
       "5  FreeMsg Hey there darling it's been 3 week's n...       1\n",
       "6  Even my brother is not like to speak with me. ...       0\n",
       "7  As per your request 'Melle Melle (Oru Minnamin...       0\n",
       "8  WINNER!! As a valued network customer you have...       1\n",
       "9  Had your mobile 11 months or more? U R entitle...       1"
      ]
     },
     "execution_count": 1,
     "metadata": {},
     "output_type": "execute_result"
    }
   ],
   "source": [
    "import pandas as pd\n",
    "import numpy as np\n",
    "\n",
    "spam_data = pd.read_csv('spam.csv')\n",
    "\n",
    "spam_data['target'] = np.where(spam_data['target']=='spam',1,0)\n",
    "spam_data.head(10)"
   ]
  },
  {
   "cell_type": "code",
   "execution_count": 2,
   "metadata": {
    "collapsed": true
   },
   "outputs": [],
   "source": [
    "from sklearn.model_selection import train_test_split\n",
    "\n",
    "\n",
    "X_train, X_test, y_train, y_test = train_test_split(spam_data['text'], \n",
    "                                                    spam_data['target'], \n",
    "                                                    random_state=0)"
   ]
  },
  {
   "cell_type": "code",
   "execution_count": 76,
   "metadata": {},
   "outputs": [
    {
     "data": {
      "text/plain": [
       "'Go until jurong point, crazy.. Available only in bugis n great world la e buffet... Cine there got amore wat...'"
      ]
     },
     "execution_count": 76,
     "metadata": {},
     "output_type": "execute_result"
    }
   ],
   "source": [
    "spam_data['text'][0]"
   ]
  },
  {
   "cell_type": "markdown",
   "metadata": {},
   "source": [
    "### Question 1\n",
    "What percentage of the documents in `spam_data` are spam?\n",
    "\n",
    "*This function should return a float, the percent value (i.e. $ratio * 100$).*"
   ]
  },
  {
   "cell_type": "code",
   "execution_count": 7,
   "metadata": {},
   "outputs": [
    {
     "data": {
      "text/plain": [
       "747"
      ]
     },
     "execution_count": 7,
     "metadata": {},
     "output_type": "execute_result"
    }
   ],
   "source": [
    "(spam_data['target']==1).sum()"
   ]
  },
  {
   "cell_type": "code",
   "execution_count": 9,
   "metadata": {},
   "outputs": [
    {
     "data": {
      "text/plain": [
       "(5572, 5572)"
      ]
     },
     "execution_count": 9,
     "metadata": {},
     "output_type": "execute_result"
    }
   ],
   "source": [
    "spam_data.shape[0]   ,  len(spam_data)"
   ]
  },
  {
   "cell_type": "code",
   "execution_count": 4,
   "metadata": {},
   "outputs": [
    {
     "data": {
      "text/plain": [
       "13.406317300789663"
      ]
     },
     "execution_count": 4,
     "metadata": {},
     "output_type": "execute_result"
    }
   ],
   "source": [
    "((spam_data['target']==1).sum()/len(spam_data))*100"
   ]
  },
  {
   "cell_type": "code",
   "execution_count": 10,
   "metadata": {
    "collapsed": true
   },
   "outputs": [],
   "source": [
    "def answer_one():\n",
    "    \n",
    "    return ((spam_data['target']==1).sum()/len(spam_data))*100\n",
    "     #Your answer here"
   ]
  },
  {
   "cell_type": "code",
   "execution_count": 11,
   "metadata": {},
   "outputs": [
    {
     "data": {
      "text/plain": [
       "13.406317300789663"
      ]
     },
     "execution_count": 11,
     "metadata": {},
     "output_type": "execute_result"
    }
   ],
   "source": [
    "answer_one()"
   ]
  },
  {
   "cell_type": "markdown",
   "metadata": {},
   "source": [
    "### Question 2\n",
    "\n",
    "Fit the training data `X_train` using a Count Vectorizer with default parameters.\n",
    "\n",
    "What is the longest token in the vocabulary?\n",
    "\n",
    "*This function should return a string.*"
   ]
  },
  {
   "cell_type": "code",
   "execution_count": 24,
   "metadata": {},
   "outputs": [
    {
     "data": {
      "text/plain": [
       "CountVectorizer(analyzer='word', binary=False, decode_error='strict',\n",
       "        dtype=<class 'numpy.int64'>, encoding='utf-8', input='content',\n",
       "        lowercase=True, max_df=1.0, max_features=None, min_df=1,\n",
       "        ngram_range=(1, 1), preprocessor=None, stop_words=None,\n",
       "        strip_accents=None, token_pattern='(?u)\\\\b\\\\w\\\\w+\\\\b',\n",
       "        tokenizer=None, vocabulary=None)"
      ]
     },
     "execution_count": 24,
     "metadata": {},
     "output_type": "execute_result"
    }
   ],
   "source": [
    "from sklearn.feature_extraction.text import CountVectorizer\n",
    "vect = CountVectorizer().fit(X_train)\n",
    "vect"
   ]
  },
  {
   "cell_type": "code",
   "execution_count": 25,
   "metadata": {},
   "outputs": [
    {
     "data": {
      "text/plain": [
       "list"
      ]
     },
     "execution_count": 25,
     "metadata": {},
     "output_type": "execute_result"
    }
   ],
   "source": [
    "type(vect.get_feature_names())"
   ]
  },
  {
   "cell_type": "code",
   "execution_count": 26,
   "metadata": {
    "collapsed": true
   },
   "outputs": [],
   "source": [
    "sorted_vect=vect.get_feature_names()"
   ]
  },
  {
   "cell_type": "code",
   "execution_count": 28,
   "metadata": {
    "collapsed": true
   },
   "outputs": [],
   "source": [
    "sorted_vect.sort()"
   ]
  },
  {
   "cell_type": "code",
   "execution_count": 29,
   "metadata": {},
   "outputs": [
    {
     "data": {
      "text/plain": [
       "list"
      ]
     },
     "execution_count": 29,
     "metadata": {},
     "output_type": "execute_result"
    }
   ],
   "source": [
    "type(sorted_vect)"
   ]
  },
  {
   "cell_type": "code",
   "execution_count": 33,
   "metadata": {},
   "outputs": [
    {
     "data": {
      "text/plain": [
       "['com1win150ppmx3age16subscription',\n",
       " 'minmoremobsemspobox45po139wa',\n",
       " '50pmmorefrommobile2bremoved',\n",
       " 'minmobsmorelkpobox177hp51fl',\n",
       " '150ppmpobox10183bhamb64xe',\n",
       " 'callcost150ppmmobilesvary',\n",
       " '150ppermesssubscription',\n",
       " 'datebox1282essexcm61xn',\n",
       " 'tscs087147403231winawk',\n",
       " 'accommodationvouchers',\n",
       " 'boughtåóbraindanceåóa',\n",
       " 'com1win150ppmx3age16',\n",
       " 'help08700621170150p',\n",
       " 'monthlysubscription',\n",
       " 'ba128nnfwfly150ppm',\n",
       " 'haughaighgtujhyguj',\n",
       " 'mobypobox734ls27yf',\n",
       " '08452810075over18',\n",
       " 'deliveredtomorrow',\n",
       " 'itwhichturnedinto',\n",
       " 'mobstorequiz10ppm',\n",
       " 'planettalkinstant',\n",
       " 'pobox12n146tf150p',\n",
       " 'poboxox36504w45wq',\n",
       " 'shracomorsglsuplt',\n",
       " 'anythingtomorrow',\n",
       " 'csbcm4235wc1n3xx',\n",
       " 'customersqueries',\n",
       " 'geoenvironmental',\n",
       " 'lkpobox177hp51fl',\n",
       " 'responsibilities',\n",
       " 'selfindependence',\n",
       " 'somewheresomeone',\n",
       " '08700435505150p',\n",
       " '08700621170150p',\n",
       " '08701417012150p',\n",
       " '08712400602450p',\n",
       " '09066649731from',\n",
       " '4403ldnw1a7rw18',\n",
       " 'champlaxigating',\n",
       " 'congratulations',\n",
       " 'gastroenteritis',\n",
       " 'help08714742804',\n",
       " 'help08718728876',\n",
       " 'kalaachutaarama',\n",
       " 'masteriastering',\n",
       " 'minnaminunginte',\n",
       " 'missunderstding',\n",
       " 'petticoatdreams',\n",
       " 'pobox12n146tf15',\n",
       " 'pobox36504w45wq',\n",
       " 'pobox45w2tg150p',\n",
       " 'simonwatson5120',\n",
       " 'tscs08714740323',\n",
       " '087123002209am',\n",
       " '0871277810710p',\n",
       " '0871277810910p',\n",
       " '1b6a5ecef91ff9',\n",
       " 'bcm1896wc1n3xx',\n",
       " 'bluetoothhdset',\n",
       " 'byåóleafcutter',\n",
       " 'dippeditinadew',\n",
       " 'fredericksburg',\n",
       " 'gloucesterroad',\n",
       " 'identification',\n",
       " 'laxinorficated',\n",
       " 'mittelschmertz',\n",
       " 'noworriesloans',\n",
       " 'regalportfolio',\n",
       " 'reppurcussions',\n",
       " 'representative',\n",
       " 'responsibility',\n",
       " 'specialisation',\n",
       " 'subscriptn3gbp',\n",
       " 'xxxxxxxxxxxxxx',\n",
       " '0870241182716',\n",
       " '08704439680ts',\n",
       " '0871212025016',\n",
       " 'accommodation',\n",
       " 'accomodations',\n",
       " 'acl03530150pm',\n",
       " 'administrator',\n",
       " 'applausestore',\n",
       " 'asssssholeeee',\n",
       " 'closingdate04',\n",
       " 'complementary',\n",
       " 'complimentary',\n",
       " 'computational',\n",
       " 'concentrating',\n",
       " 'concentration',\n",
       " 'conversations',\n",
       " 'entrepreneurs',\n",
       " 'entropication',\n",
       " 'fidalfication',\n",
       " 'frontierville',\n",
       " 'inconsiderate',\n",
       " 'inconvenience',\n",
       " 'independently',\n",
       " 'inperialmusic',\n",
       " 'instituitions',\n",
       " 'listening2the',\n",
       " 'mobilesdirect',\n",
       " 'notifications',\n",
       " 'notixiquating',\n",
       " 'oblisingately',\n",
       " 'overemphasise',\n",
       " 'philosophical',\n",
       " 'prizeawaiting',\n",
       " 'skateboarding',\n",
       " 'spontaneously',\n",
       " 'subscribe6gbp',\n",
       " 'subscriptions',\n",
       " 'swashbuckling',\n",
       " 'tddnewsletter',\n",
       " 'uncomfortable',\n",
       " 'unconsciously',\n",
       " 'understanding',\n",
       " 'unfortunately',\n",
       " 'unintentional',\n",
       " 'unnecessarily',\n",
       " 'weddingfriend',\n",
       " 'westonzoyland',\n",
       " 'yourinclusive',\n",
       " '008704050406',\n",
       " '087018728737',\n",
       " '087104711148',\n",
       " '08717890890å',\n",
       " '087187262701',\n",
       " '087187272008',\n",
       " '1win150ppmx3',\n",
       " '447801259231',\n",
       " '448712404000',\n",
       " '449050000301',\n",
       " '50perweeksub',\n",
       " 'accidentally',\n",
       " 'accumulation',\n",
       " 'affectionate',\n",
       " 'announcement',\n",
       " 'appointments',\n",
       " 'areyouunique',\n",
       " 'bcmsfwc1n3xx',\n",
       " 'beendropping',\n",
       " 'bootydelious',\n",
       " 'box334sk38ch',\n",
       " 'callfreefone',\n",
       " 'celebrations',\n",
       " 'club4mobiles',\n",
       " 'compensation',\n",
       " 'complexities',\n",
       " 'computerless',\n",
       " 'consistently',\n",
       " 'customercare',\n",
       " 'difficulties',\n",
       " 'disconnected',\n",
       " 'expressoffer',\n",
       " 'exterminator',\n",
       " 'fundamentals',\n",
       " 'gaytextbuddy',\n",
       " 'hillsborough',\n",
       " 'hypertension',\n",
       " 'immunisation',\n",
       " 'implications',\n",
       " 'impressively',\n",
       " 'independence',\n",
       " 'installation',\n",
       " 'instructions',\n",
       " 'keralacircle',\n",
       " 'landlineonly',\n",
       " 'listened2the',\n",
       " 'lyricalladie',\n",
       " 'magicalsongs',\n",
       " 'merememberin',\n",
       " 'particularly',\n",
       " 'pobox75ldns7',\n",
       " 'prescripiton',\n",
       " 'prescription',\n",
       " 'pretsorginta',\n",
       " 'professional',\n",
       " 'psychiatrist',\n",
       " 'psychologist',\n",
       " 'quiteamuzing',\n",
       " 'registration',\n",
       " 'relationship',\n",
       " 'requirements',\n",
       " 'reservations',\n",
       " 'restrictions',\n",
       " 'ringtoneking',\n",
       " 'santacalling',\n",
       " 'selflessness',\n",
       " 'significance',\n",
       " 'sonyericsson',\n",
       " 'subscription',\n",
       " 'successfully',\n",
       " 'technologies',\n",
       " 'telediscount',\n",
       " 'textoperator',\n",
       " 'thanksgiving',\n",
       " 'that2worzels',\n",
       " 'thedailydraw',\n",
       " 'thekingshead',\n",
       " 'thirunelvali',\n",
       " 'transcribing',\n",
       " 'unbelievable',\n",
       " 'unsubscribed',\n",
       " 'vaazhthukkal',\n",
       " 'wetherspoons',\n",
       " '01223585236',\n",
       " '01223585334',\n",
       " '02072069400',\n",
       " '02073162414',\n",
       " '02085076972',\n",
       " '07008009200',\n",
       " '07099833605',\n",
       " '07123456789',\n",
       " '07734396839',\n",
       " '07742676969',\n",
       " '07753741225',\n",
       " '0776xxxxxxx',\n",
       " '07781482378',\n",
       " '07786200117',\n",
       " '07808247860',\n",
       " '07808726822',\n",
       " '07821230901',\n",
       " '07880867867',\n",
       " '0789xxxxxxx',\n",
       " '07946746291',\n",
       " '07973788240',\n",
       " '07xxxxxxxxx',\n",
       " '08000407165',\n",
       " '08000839402',\n",
       " '08000930705',\n",
       " '08000938767',\n",
       " '08001950382',\n",
       " '08002888812',\n",
       " '08002986030',\n",
       " '08002986906',\n",
       " '08006344447',\n",
       " '08081263000',\n",
       " '08081560665',\n",
       " '08448350055',\n",
       " '08448714184',\n",
       " '08452810071',\n",
       " '08452810073',\n",
       " '08700469649',\n",
       " '08701213186',\n",
       " '08701237397',\n",
       " '08701417012',\n",
       " '08701752560',\n",
       " '08702840625',\n",
       " '08704050406',\n",
       " '08704439680',\n",
       " '08706091795',\n",
       " '08707509020',\n",
       " '08707808226',\n",
       " '08708034412',\n",
       " '08708800282',\n",
       " '08709222922',\n",
       " '08712101358',\n",
       " '08712103738',\n",
       " '08712300220',\n",
       " '08712317606',\n",
       " '08712400603',\n",
       " '08712402050',\n",
       " '08712402578',\n",
       " '08712402779',\n",
       " '08712402902',\n",
       " '08712404000',\n",
       " '08712405020',\n",
       " '08712405022',\n",
       " '08712460324',\n",
       " '08712466669',\n",
       " '08714712379',\n",
       " '08714712388',\n",
       " '08714714011',\n",
       " '08715203649',\n",
       " '08715203677',\n",
       " '08715203694',\n",
       " '08715205273',\n",
       " '08715500022',\n",
       " '08715705022',\n",
       " '08717111821',\n",
       " '08717168528',\n",
       " '08717205546',\n",
       " '08717507382',\n",
       " '08717895698',\n",
       " '08717898035',\n",
       " '08718711108',\n",
       " '08718720201',\n",
       " '08718725756',\n",
       " '08718726270',\n",
       " '08718726978',\n",
       " '08718727868',\n",
       " '08718727870',\n",
       " '08718730666',\n",
       " '08718738001',\n",
       " '08718738002',\n",
       " '08719180219',\n",
       " '08719180248',\n",
       " '08719181259',\n",
       " '08719181503',\n",
       " '08719839835',\n",
       " '08719899229',\n",
       " '09041940223',\n",
       " '09050000301',\n",
       " '09050000332',\n",
       " '09050000555',\n",
       " '09050000878',\n",
       " '09050001295',\n",
       " '09050001808',\n",
       " '09050002311',\n",
       " '09050003091',\n",
       " '09050090044',\n",
       " '09050280520',\n",
       " '09053750005',\n",
       " '09056242159',\n",
       " '09057039994',\n",
       " '09058091854',\n",
       " '09058094454',\n",
       " '09058094455',\n",
       " '09058094583',\n",
       " '09058094594',\n",
       " '09058094597',\n",
       " '09058094599',\n",
       " '09058095201',\n",
       " '09058097189',\n",
       " '09058097218',\n",
       " '09058098002',\n",
       " '09058099801',\n",
       " '09061104276',\n",
       " '09061104283',\n",
       " '09061209465',\n",
       " '09061213237',\n",
       " '09061221061',\n",
       " '09061221066',\n",
       " '09061701444',\n",
       " '09061701461',\n",
       " '09061701851',\n",
       " '09061701939',\n",
       " '09061702893',\n",
       " '09061743386',\n",
       " '09061743806',\n",
       " '09061743810',\n",
       " '09061744553',\n",
       " '09061749602',\n",
       " '09061790121',\n",
       " '09061790126',\n",
       " '09063440451',\n",
       " '09063442151',\n",
       " '09063458130',\n",
       " '09064011000',\n",
       " '09064012103',\n",
       " '09064012160',\n",
       " '09064015307',\n",
       " '09064017295',\n",
       " '09064017305',\n",
       " '09064018838',\n",
       " '09064019014',\n",
       " '09064019788',\n",
       " '09065069154',\n",
       " '09065171142',\n",
       " '09065174042',\n",
       " '09065394514',\n",
       " '09065989182',\n",
       " '09066358152',\n",
       " '09066358361',\n",
       " '09066361921',\n",
       " '09066362206',\n",
       " '09066362220',\n",
       " '09066362231',\n",
       " '09066364311',\n",
       " '09066364589',\n",
       " '09066368327',\n",
       " '09066368470',\n",
       " '09066368753',\n",
       " '09066380611',\n",
       " '09066382422',\n",
       " '09066612661',\n",
       " '09066660100',\n",
       " '09071512432',\n",
       " '09071517866',\n",
       " '09077818151',\n",
       " '09094100151',\n",
       " '09094646631',\n",
       " '09094646899',\n",
       " '09096102316',\n",
       " '09099726395',\n",
       " '09099726553',\n",
       " '09111030116',\n",
       " '09111032124',\n",
       " '09701213186',\n",
       " '2morrowxxxx',\n",
       " 'aaooooright',\n",
       " 'accordingly',\n",
       " 'aeronautics',\n",
       " 'alaipayuthe',\n",
       " 'alternative',\n",
       " 'anniversary',\n",
       " 'application',\n",
       " 'appointment',\n",
       " 'appreciated',\n",
       " 'approaching',\n",
       " 'appropriate',\n",
       " 'arestaurant',\n",
       " 'baaaaaaaabe',\n",
       " 'babygoodbye',\n",
       " 'babysitting',\n",
       " 'becausethey',\n",
       " 'bellearlier',\n",
       " 'belligerent',\n",
       " 'beneficiary',\n",
       " 'brilliantly',\n",
       " 'calculation',\n",
       " 'call2optout',\n",
       " 'celebration',\n",
       " 'certificate',\n",
       " 'challenging',\n",
       " 'chinchillas',\n",
       " 'christmassy',\n",
       " 'cocksuckers',\n",
       " 'coincidence',\n",
       " 'combination',\n",
       " 'competition',\n",
       " 'complaining',\n",
       " 'compliments',\n",
       " 'concentrate',\n",
       " 'considering',\n",
       " 'convenience',\n",
       " 'corporation',\n",
       " 'countinlots',\n",
       " 'dehydration',\n",
       " 'deltomorrow',\n",
       " 'description',\n",
       " 'designation',\n",
       " 'destination',\n",
       " 'differences',\n",
       " 'disappeared',\n",
       " 'disturbance',\n",
       " 'dosomething',\n",
       " 'educational',\n",
       " 'edukkukayee',\n",
       " 'elaborating',\n",
       " 'electricity',\n",
       " 'embarassing',\n",
       " 'embarrassed',\n",
       " 'enufcredeit',\n",
       " 'environment',\n",
       " 'ffectionate',\n",
       " 'ffffuuuuuuu',\n",
       " 'gandhipuram',\n",
       " 'goodevening',\n",
       " 'goodmorning',\n",
       " 'grandfather',\n",
       " 'imagination',\n",
       " 'immediately',\n",
       " 'importantly',\n",
       " 'information',\n",
       " 'ingredients',\n",
       " 'intelligent',\n",
       " 'interesting',\n",
       " 'investigate',\n",
       " 'itried2tell',\n",
       " 'julianaland',\n",
       " 'least5times',\n",
       " 'loxahatchee',\n",
       " 'ltdhelpdesk',\n",
       " 'marandratha',\n",
       " 'mathematics',\n",
       " 'meaningless',\n",
       " 'minmobsmore',\n",
       " 'misundrstud',\n",
       " 'movietrivia',\n",
       " 'mtmsgrcvd18',\n",
       " 'mustprovide',\n",
       " 'nat27081980',\n",
       " 'necessarily',\n",
       " 'noncomittal',\n",
       " 'nonetheless',\n",
       " 'northampton',\n",
       " 'opportunity',\n",
       " 'outstanding',\n",
       " 'paracetamol',\n",
       " 'participate',\n",
       " 'partnership',\n",
       " 'percentages',\n",
       " 'performance',\n",
       " 'peripherals',\n",
       " 'permissions',\n",
       " 'personality',\n",
       " 'perspective',\n",
       " 'perumbavoor',\n",
       " 'possibility',\n",
       " 'problematic',\n",
       " 'reassurance',\n",
       " 'religiously',\n",
       " 'replacement',\n",
       " 'responsible',\n",
       " 'semiobscure',\n",
       " 'shakespeare',\n",
       " 'shortbreaks',\n",
       " 'smsservices',\n",
       " 'spreadsheet',\n",
       " 'stewartsize',\n",
       " 'stuff42moro',\n",
       " 'subscribers',\n",
       " 'suggestions',\n",
       " 'sympathetic',\n",
       " 'tallahassee',\n",
       " 'thandiyachu',\n",
       " 'thatåõscool',\n",
       " 'thirtyeight',\n",
       " 'tirunelvali',\n",
       " 'tomeandsaid',\n",
       " 'trackmarque',\n",
       " 'tranquility',\n",
       " 'transaction',\n",
       " 'transferred',\n",
       " 'unbreakable',\n",
       " 'unconscious',\n",
       " 'unfortuntly',\n",
       " 'unhappiness',\n",
       " 'unsubscribe',\n",
       " 'upgrdcentre',\n",
       " 'videophones',\n",
       " 'videosounds',\n",
       " 'vinobanagar',\n",
       " '0125698789',\n",
       " '0796xxxxxx',\n",
       " '100percent',\n",
       " '2kbsubject',\n",
       " '50perwksub',\n",
       " '7732584351',\n",
       " '7876150ppm',\n",
       " '8000930705',\n",
       " '9061100010',\n",
       " 'abnormally',\n",
       " 'accomodate',\n",
       " 'accounting',\n",
       " 'activities',\n",
       " 'affections',\n",
       " 'afternoons',\n",
       " 'amplikater',\n",
       " 'antibiotic',\n",
       " 'apparently',\n",
       " 'appreciate',\n",
       " 'approaches',\n",
       " 'arithmetic',\n",
       " 'assessment',\n",
       " 'assistance',\n",
       " 'astronomer',\n",
       " 'attractive',\n",
       " 'attributed',\n",
       " 'babyjontet',\n",
       " 'basketball',\n",
       " 'blackberry',\n",
       " 'borderline',\n",
       " 'boundaries',\n",
       " 'box42wr29c',\n",
       " 'bridgwater',\n",
       " 'calculated',\n",
       " 'california',\n",
       " 'callertune',\n",
       " 'cappuccino',\n",
       " 'captaining',\n",
       " 'categories',\n",
       " 'celebrated',\n",
       " 'characters',\n",
       " 'checkboxes',\n",
       " 'christians',\n",
       " 'classmates',\n",
       " 'clubsaisai',\n",
       " 'coccooning',\n",
       " 'coherently',\n",
       " 'coimbatore',\n",
       " 'colleagues',\n",
       " 'collecting',\n",
       " 'collection',\n",
       " 'comingdown',\n",
       " 'commercial',\n",
       " 'complacent',\n",
       " 'completely',\n",
       " 'completing',\n",
       " 'compulsory',\n",
       " 'conclusion',\n",
       " 'conditions',\n",
       " 'confidence',\n",
       " 'connection',\n",
       " 'constantly',\n",
       " 'contention',\n",
       " 'contribute',\n",
       " 'convincing',\n",
       " 'correction',\n",
       " 'courageous',\n",
       " 'craigslist',\n",
       " 'creativity',\n",
       " 'crickiting',\n",
       " 'decorating',\n",
       " 'definitely',\n",
       " 'dehydrated',\n",
       " 'department',\n",
       " 'dependable',\n",
       " 'dependents',\n",
       " 'depression',\n",
       " 'determined',\n",
       " 'dictionary',\n",
       " 'difference',\n",
       " 'disastrous',\n",
       " 'disconnect',\n",
       " 'dismissial',\n",
       " 'disturbing',\n",
       " 'dontmatter',\n",
       " 'doublemins',\n",
       " 'downloaded',\n",
       " 'dramastorm',\n",
       " 'drugdealer',\n",
       " 'eastenders',\n",
       " 'embarassed',\n",
       " 'erutupalam',\n",
       " 'esaplanade',\n",
       " 'especially',\n",
       " 'eurodisinc',\n",
       " 'eventually',\n",
       " 'everything',\n",
       " 'everywhere',\n",
       " 'exhibition',\n",
       " 'experience',\n",
       " 'experiment',\n",
       " 'explicitly',\n",
       " 'expression',\n",
       " 'ffffffffff',\n",
       " 'flirtparty',\n",
       " 'footprints',\n",
       " 'forwarding',\n",
       " 'franyxxxxx',\n",
       " 'frequently',\n",
       " 'friendsare',\n",
       " 'friendship',\n",
       " 'fuckinnice',\n",
       " 'ghodbandar',\n",
       " 'golddigger',\n",
       " 'goldviking',\n",
       " 'gonnamissu',\n",
       " 'goodfriend',\n",
       " 'gopalettan',\n",
       " 'gotmarried',\n",
       " 'guaranteed',\n",
       " 'gymnastics',\n",
       " 'hesitation',\n",
       " 'hollalater',\n",
       " 'homeowners',\n",
       " 'housewives',\n",
       " 'hurricanes',\n",
       " 'ibuprofens',\n",
       " 'identifier',\n",
       " 'impossible',\n",
       " 'incredible',\n",
       " 'increments',\n",
       " 'individual',\n",
       " 'indyarocks',\n",
       " 'infections',\n",
       " 'inspection',\n",
       " 'installing',\n",
       " 'interested',\n",
       " 'interflora',\n",
       " 'irritating',\n",
       " 'irritation',\n",
       " 'ishtamayoo',\n",
       " 'iåõllspeak',\n",
       " 'kickboxing',\n",
       " 'leadership',\n",
       " 'linerental',\n",
       " 'maangalyam',\n",
       " 'manageable',\n",
       " 'management',\n",
       " 'membership',\n",
       " 'mentionned',\n",
       " 'misbehaved',\n",
       " 'mobileupd8',\n",
       " 'morefrmmob',\n",
       " 'muchxxlove',\n",
       " 'multimedia',\n",
       " 'nationwide',\n",
       " 'networking',\n",
       " 'newscaster',\n",
       " 'newsletter',\n",
       " 'newspapers',\n",
       " 'nightnight',\n",
       " 'nimbomsons',\n",
       " 'officially',\n",
       " 'opponenter',\n",
       " 'or2stoptxt',\n",
       " 'outrageous',\n",
       " 'paragraphs',\n",
       " 'particular',\n",
       " 'passionate',\n",
       " 'permission',\n",
       " 'persevered',\n",
       " 'person2die',\n",
       " 'personally',\n",
       " 'philosophy',\n",
       " 'pocketbabe',\n",
       " 'polyphonic',\n",
       " 'ponnungale',\n",
       " 'possession',\n",
       " 'practicing',\n",
       " 'practising',\n",
       " 'predicting',\n",
       " 'prediction',\n",
       " 'preferably',\n",
       " 'prepayment',\n",
       " 'previously',\n",
       " 'prizeswith',\n",
       " 'professors',\n",
       " 'punishment',\n",
       " 'pushbutton',\n",
       " 'questioned',\n",
       " 'reasonable',\n",
       " 'recognises',\n",
       " 'recreation',\n",
       " 'redeemable',\n",
       " 'references',\n",
       " 'reflection',\n",
       " 'registered',\n",
       " 'remembered',\n",
       " 'resolution',\n",
       " 'respectful',\n",
       " 'responding',\n",
       " 'restaurant',\n",
       " 'romcapspam',\n",
       " 'situations',\n",
       " 'smsrewards',\n",
       " 'snickering',\n",
       " 'soundtrack',\n",
       " 'souveniers',\n",
       " 'spacebucks',\n",
       " 'spageddies',\n",
       " 'speechless',\n",
       " 'squeeeeeze',\n",
       " 'statements',\n",
       " 'stdtxtrate',\n",
       " 'stressfull',\n",
       " 'struggling',\n",
       " 'subletting',\n",
       " 'submitting',\n",
       " 'subscribed',\n",
       " 'subscriber',\n",
       " 'subsequent',\n",
       " 'subtoitles',\n",
       " 'successful',\n",
       " 'sufficient',\n",
       " 'suggestion',\n",
       " 'supervisor',\n",
       " 'surrounded',\n",
       " 'sweetheart',\n",
       " 'telephonic',\n",
       " 'terminated',\n",
       " 'termsapply',\n",
       " 'toothpaste',\n",
       " 'traditions',\n",
       " 'travelling',\n",
       " 'twittering',\n",
       " 'txtauction',\n",
       " 'ultimately',\n",
       " 'understand',\n",
       " 'understood',\n",
       " 'undrstndng',\n",
       " 'unemployed',\n",
       " 'university',\n",
       " 'unredeemed',\n",
       " 'update_now',\n",
       " 'valentines',\n",
       " 'valid12hrs',\n",
       " 'varunnathu',\n",
       " 'vegetables',\n",
       " 'videosound',\n",
       " 'wadebridge',\n",
       " 'web2mobile',\n",
       " 'webeburnin',\n",
       " 'womdarfull',\n",
       " 'wondarfull',\n",
       " '087016248',\n",
       " '146tf150p',\n",
       " '14thmarch',\n",
       " '1st4terms',\n",
       " '1stchoice',\n",
       " '1winaweek',\n",
       " '62220cncl',\n",
       " '80122300p',\n",
       " 'absolutly',\n",
       " 'accenture',\n",
       " 'admission',\n",
       " 'adventure',\n",
       " 'aeroplane',\n",
       " 'affection',\n",
       " 'afternoon',\n",
       " 'alertfrom',\n",
       " 'ambitious',\n",
       " 'animation',\n",
       " 'answering',\n",
       " 'anyplaces',\n",
       " 'anythiing',\n",
       " 'apartment',\n",
       " 'apologise',\n",
       " 'applebees',\n",
       " 'aretaking',\n",
       " 'argentina',\n",
       " 'arguments',\n",
       " 'arranging',\n",
       " 'associate',\n",
       " 'atrocious',\n",
       " 'attending',\n",
       " 'attention',\n",
       " 'australia',\n",
       " 'authorise',\n",
       " 'available',\n",
       " 'backwards',\n",
       " 'bangbabes',\n",
       " 'basically',\n",
       " 'beautiful',\n",
       " 'bhayandar',\n",
       " 'birthdate',\n",
       " 'blessings',\n",
       " 'bluetooth',\n",
       " 'bookedthe',\n",
       " 'bookshelf',\n",
       " 'box97n7qp',\n",
       " 'boyfriend',\n",
       " 'brainless',\n",
       " 'breakfast',\n",
       " 'breathing',\n",
       " 'brilliant',\n",
       " 'broadband',\n",
       " 'buttheres',\n",
       " 'camcorder',\n",
       " 'cancelled',\n",
       " 'careabout',\n",
       " 'carefully',\n",
       " 'celebrate',\n",
       " 'certainly',\n",
       " 'challenge',\n",
       " 'champneys',\n",
       " 'character',\n",
       " 'chatlines',\n",
       " 'checkmate',\n",
       " 'cherthala',\n",
       " 'chickened',\n",
       " 'childporn',\n",
       " 'childrens',\n",
       " 'chillaxin',\n",
       " 'chinatown',\n",
       " 'christmas',\n",
       " 'claimcode',\n",
       " 'cnupdates',\n",
       " 'collapsed',\n",
       " 'collected',\n",
       " 'colourful',\n",
       " 'community',\n",
       " 'companies',\n",
       " 'companion',\n",
       " 'completed',\n",
       " 'completes',\n",
       " 'concerned',\n",
       " 'condition',\n",
       " 'configure',\n",
       " 'confirmed',\n",
       " 'connected',\n",
       " 'consensus',\n",
       " 'contacted',\n",
       " 'contented',\n",
       " 'continent',\n",
       " 'continued',\n",
       " 'converted',\n",
       " 'converter',\n",
       " 'conveying',\n",
       " 'convinced',\n",
       " 'correctly',\n",
       " 'cr01327bt',\n",
       " 'currently',\n",
       " 'customers',\n",
       " 'dangerous',\n",
       " 'dartboard',\n",
       " 'decisions',\n",
       " 'dedicated',\n",
       " 'deficient',\n",
       " 'delivered',\n",
       " 'depressed',\n",
       " 'desparate',\n",
       " 'desperate',\n",
       " 'determine',\n",
       " 'developed',\n",
       " 'developer',\n",
       " 'devouring',\n",
       " 'didntgive',\n",
       " 'different',\n",
       " 'difficult',\n",
       " 'disasters',\n",
       " 'discussed',\n",
       " 'dogbreath',\n",
       " 'dormitory',\n",
       " 'doubletxt',\n",
       " 'downloads',\n",
       " 'drizzling',\n",
       " 'education',\n",
       " 'efficient',\n",
       " 'elsewhere',\n",
       " 'emergency',\n",
       " 'emigrated',\n",
       " 'escalator',\n",
       " 'esplanade',\n",
       " 'essential',\n",
       " 'ethnicity',\n",
       " 'everybody',\n",
       " 'everyones',\n",
       " 'everytime',\n",
       " 'excellent',\n",
       " 'exchanged',\n",
       " 'executive',\n",
       " 'exhausted',\n",
       " 'expecting',\n",
       " 'expensive',\n",
       " 'explosive',\n",
       " 'falconerf',\n",
       " 'fantasies',\n",
       " 'fantastic',\n",
       " 'favourite',\n",
       " 'fgkslpopw',\n",
       " 'finishing',\n",
       " 'fireplace',\n",
       " 'fixedline',\n",
       " 'following',\n",
       " 'forgotten',\n",
       " 'forwarded',\n",
       " 'freeentry',\n",
       " 'freephone',\n",
       " 'frndsship',\n",
       " 'fullonsms',\n",
       " 'functions',\n",
       " 'furniture',\n",
       " 'generally',\n",
       " 'gentleman',\n",
       " 'goodnight',\n",
       " 'goverment',\n",
       " 'gr8prizes',\n",
       " 'graduated',\n",
       " 'grahmbell',\n",
       " 'greatness',\n",
       " 'greetings',\n",
       " 'groovying',\n",
       " 'halloween',\n",
       " 'handsomes',\n",
       " 'hannaford',\n",
       " 'happening',\n",
       " 'happiness',\n",
       " 'headstart',\n",
       " 'hilarious',\n",
       " 'honeymoon',\n",
       " 'hopefully',\n",
       " 'hospitals',\n",
       " 'icicibank',\n",
       " 'impatient',\n",
       " 'important',\n",
       " 'impressed',\n",
       " 'including',\n",
       " 'inclusive',\n",
       " 'incorrect',\n",
       " 'instantly',\n",
       " 'insurance',\n",
       " 'interfued',\n",
       " 'interview',\n",
       " 'invention',\n",
       " 'irritated',\n",
       " 'irritates',\n",
       " 'justfound',\n",
       " 'knackered',\n",
       " 'landlines',\n",
       " 'latelyxxx',\n",
       " 'leftovers',\n",
       " 'lifpartnr',\n",
       " 'listening',\n",
       " 'literally',\n",
       " 'liverpool',\n",
       " 'locations',\n",
       " 'lunchtime',\n",
       " 'lvblefrnd',\n",
       " 'macedonia',\n",
       " 'max10mins',\n",
       " 'meanwhile',\n",
       " 'meatballs',\n",
       " 'memorable',\n",
       " 'mentioned',\n",
       " 'messaging',\n",
       " 'messenger',\n",
       " 'minecraft',\n",
       " 'miserable',\n",
       " 'misplaced',\n",
       " 'mountains',\n",
       " 'msgrcvdhg',\n",
       " 'musicnews',\n",
       " 'mutations',\n",
       " 'myparents',\n",
       " 'narcotics',\n",
       " ...]"
      ]
     },
     "execution_count": 33,
     "metadata": {},
     "output_type": "execute_result"
    }
   ],
   "source": [
    "sorted(sorted_vect, key=len, reverse=True)"
   ]
  },
  {
   "cell_type": "code",
   "execution_count": 34,
   "metadata": {
    "collapsed": true
   },
   "outputs": [],
   "source": [
    "from sklearn.feature_extraction.text import CountVectorizer\n",
    "\n",
    "def answer_two():\n",
    "    \n",
    "    vect = CountVectorizer().fit(X_train)\n",
    "    vect_feat = vect.get_feature_names()\n",
    "    return sorted(vect_feat, key=len, reverse=True)[0]\n",
    "    #Your answer here"
   ]
  },
  {
   "cell_type": "code",
   "execution_count": 35,
   "metadata": {},
   "outputs": [
    {
     "data": {
      "text/plain": [
       "'com1win150ppmx3age16subscription'"
      ]
     },
     "execution_count": 35,
     "metadata": {},
     "output_type": "execute_result"
    }
   ],
   "source": [
    "answer_two()"
   ]
  },
  {
   "cell_type": "markdown",
   "metadata": {},
   "source": [
    "### Question 3\n",
    "\n",
    "Fit and transform the training data `X_train` using a Count Vectorizer with default parameters.\n",
    "\n",
    "Next, fit a fit a multinomial Naive Bayes classifier model with smoothing `alpha=0.1`. Find the area under the curve (AUC) score using the transformed test data.\n",
    "\n",
    "*This function should return the AUC score as a float.*"
   ]
  },
  {
   "cell_type": "code",
   "execution_count": 38,
   "metadata": {
    "collapsed": true
   },
   "outputs": [],
   "source": [
    "from sklearn.naive_bayes import MultinomialNB\n",
    "from sklearn.metrics import roc_auc_score\n",
    "\n",
    "def answer_three():\n",
    "    \n",
    "    vect = CountVectorizer().fit(X_train)\n",
    "    X_vectorized = vect.transform(X_train)\n",
    "    \n",
    "    model = MultinomialNB(alpha=0.1)\n",
    "    model.fit(X_vectorized,y_train)\n",
    "    predictions = model.predict(vect.transform(X_test))\n",
    "    \n",
    "    score = roc_auc_score(y_test,predictions)\n",
    "    return score#Your answer here"
   ]
  },
  {
   "cell_type": "code",
   "execution_count": 39,
   "metadata": {},
   "outputs": [
    {
     "data": {
      "text/plain": [
       "0.97208121827411165"
      ]
     },
     "execution_count": 39,
     "metadata": {},
     "output_type": "execute_result"
    }
   ],
   "source": [
    "answer_three()"
   ]
  },
  {
   "cell_type": "markdown",
   "metadata": {},
   "source": [
    "### Question 4\n",
    "\n",
    "Fit and transform the training data `X_train` using a Tfidf Vectorizer with default parameters.\n",
    "\n",
    "What 20 features have the smallest tf-idf and what 20 have the largest tf-idf?\n",
    "\n",
    "Put these features in a two series where each series is sorted by tf-idf value and then alphabetically by feature name. The index of the series should be the feature name, and the data should be the tf-idf.\n",
    "\n",
    "The series of 20 features with smallest tf-idfs should be sorted smallest tfidf first, the list of 20 features with largest tf-idfs should be sorted largest first. \n",
    "\n",
    "*This function should return a tuple of two series\n",
    "`(smallest tf-idfs series, largest tf-idfs series)`.*"
   ]
  },
  {
   "cell_type": "code",
   "execution_count": 64,
   "metadata": {},
   "outputs": [
    {
     "data": {
      "text/plain": [
       "array([ 0.23731416,  0.36138463,  0.22862438, ...,  0.27814246,\n",
       "        0.36296157,  0.3487995 ])"
      ]
     },
     "execution_count": 64,
     "metadata": {},
     "output_type": "execute_result"
    }
   ],
   "source": [
    "tfidf = TfidfVectorizer().fit(X_train)\n",
    "X_vect = tfidf.transform(X_train)\n",
    "feature_names = tfidf.get_feature_names()\n",
    "X_vect.max(0).toarray()[0]"
   ]
  },
  {
   "cell_type": "code",
   "execution_count": null,
   "metadata": {
    "collapsed": true
   },
   "outputs": [],
   "source": [
    "# from sklearn.feature_extraction.text import TfidfVectorizer\n",
    "\n",
    "# def answer_four():\n",
    "    \n",
    "#     tfidf = TfidfVectorizer().fit(X_train)\n",
    "#     X_vect = tfidf.transform(X_train)\n",
    "#     feature_names = np.array(tfidf.get_feature_names())\n",
    "\n",
    "#     sorted_tfidf_index = X_vect.max(0).toarray()[0].argsort()\n",
    "\n",
    "#     Smallest_tfidf=feature_names[sorted_tfidf_index[:20]]\n",
    "#     Largest_tfidf=feature_names[sorted_tfidf_index[:-21:-1]]\n",
    "    \n",
    "#     return (Smallest_tfidf,Largest_tfidf)#Your answer here"
   ]
  },
  {
   "cell_type": "code",
   "execution_count": 41,
   "metadata": {},
   "outputs": [
    {
     "data": {
      "text/plain": [
       "(array(['sympathetic', 'healer', 'aaniye', 'dependable', 'companion',\n",
       "        'listener', 'athletic', 'exterminator', 'psychiatrist', 'pest',\n",
       "        'determined', 'chef', 'courageous', 'stylist', 'psychologist',\n",
       "        'organizer', 'pudunga', 'venaam', 'diwali', 'mornings'], \n",
       "       dtype='<U32'),\n",
       " array(['146tf150p', 'havent', 'home', 'okie', 'thanx', 'er', 'anything',\n",
       "        'lei', 'nite', 'yup', 'thank', 'ok', 'where', 'beerage', 'anytime',\n",
       "        'too', 'done', '645', 'tick', 'blank'], \n",
       "       dtype='<U32'))"
      ]
     },
     "execution_count": 41,
     "metadata": {},
     "output_type": "execute_result"
    }
   ],
   "source": [
    "answer_four()"
   ]
  },
  {
   "cell_type": "code",
   "execution_count": 156,
   "metadata": {},
   "outputs": [
    {
     "data": {
      "text/plain": [
       "(aaniye          0.074475\n",
       " athletic        0.074475\n",
       " chef            0.074475\n",
       " companion       0.074475\n",
       " courageous      0.074475\n",
       " dependable      0.074475\n",
       " determined      0.074475\n",
       " exterminator    0.074475\n",
       " healer          0.074475\n",
       " listener        0.074475\n",
       " organizer       0.074475\n",
       " pest            0.074475\n",
       " psychiatrist    0.074475\n",
       " psychologist    0.074475\n",
       " pudunga         0.074475\n",
       " stylist         0.074475\n",
       " sympathetic     0.074475\n",
       " venaam          0.074475\n",
       " afternoons      0.091250\n",
       " approaching     0.091250\n",
       " dtype: float64, 146tf150p    1.000000\n",
       " 645          1.000000\n",
       " anything     1.000000\n",
       " anytime      1.000000\n",
       " beerage      1.000000\n",
       " done         1.000000\n",
       " er           1.000000\n",
       " havent       1.000000\n",
       " home         1.000000\n",
       " lei          1.000000\n",
       " nite         1.000000\n",
       " ok           1.000000\n",
       " okie         1.000000\n",
       " thank        1.000000\n",
       " thanx        1.000000\n",
       " too          1.000000\n",
       " where        1.000000\n",
       " yup          1.000000\n",
       " tick         0.980166\n",
       " blank        0.932702\n",
       " dtype: float64)"
      ]
     },
     "execution_count": 156,
     "metadata": {},
     "output_type": "execute_result"
    }
   ],
   "source": [
    "from sklearn.feature_extraction.text import TfidfVectorizer\n",
    "\n",
    "def answer_four():\n",
    "    \n",
    "    tfidf = TfidfVectorizer().fit(X_train)\n",
    "    X_train_vectorized = tfidf.transform(X_train)\n",
    "\n",
    "    values= X_train_vectorized.max(0).toarray()[0]\n",
    "    index = tfidf.get_feature_names()\n",
    "    \n",
    "    tfidf_feat_series = pd.Series(values,index = index)\n",
    "    \n",
    "    return (tfidf_feat_series.nsmallest(20),tfidf_feat_series.nlargest(20))\n",
    "\n",
    "answer_four()"
   ]
  },
  {
   "cell_type": "markdown",
   "metadata": {},
   "source": [
    "### Question 5\n",
    "\n",
    "Fit and transform the training data `X_train` using a Tfidf Vectorizer ignoring terms that have a document frequency strictly lower than **3**.\n",
    "\n",
    "Then fit a multinomial Naive Bayes classifier model with smoothing `alpha=0.1` and compute the area under the curve (AUC) score using the transformed test data.\n",
    "\n",
    "*This function should return the AUC score as a float.*"
   ]
  },
  {
   "cell_type": "code",
   "execution_count": 66,
   "metadata": {
    "collapsed": true
   },
   "outputs": [],
   "source": [
    "def answer_five():\n",
    "    \n",
    "    tfidf = TfidfVectorizer(min_df=3).fit(X_train)\n",
    "    X_train_vectorized = tfidf.transform(X_train)\n",
    "    \n",
    "    model = MultinomialNB(alpha=0.1)\n",
    "    model.fit(X_train_vectorized,y_train)\n",
    "    predictions = model.predict(tfidf.transform(X_test))\n",
    "    \n",
    "    score = roc_auc_score(y_test,predictions)\n",
    "    return score#Your answer here"
   ]
  },
  {
   "cell_type": "code",
   "execution_count": 67,
   "metadata": {},
   "outputs": [
    {
     "data": {
      "text/plain": [
       "0.94162436548223349"
      ]
     },
     "execution_count": 67,
     "metadata": {},
     "output_type": "execute_result"
    }
   ],
   "source": [
    "answer_five()"
   ]
  },
  {
   "cell_type": "markdown",
   "metadata": {},
   "source": [
    "### Question 6\n",
    "\n",
    "What is the average length of documents (number of characters) for not spam and spam documents?\n",
    "\n",
    "*This function should return a tuple (average length not spam, average length spam).*"
   ]
  },
  {
   "cell_type": "code",
   "execution_count": 91,
   "metadata": {
    "collapsed": true
   },
   "outputs": [],
   "source": [
    "# Spam - 1 | # Non-Spam - 0\n",
    "for item in spam_data['text']:\n",
    "    spam_data.loc[spam_data['text']==item,'Length'] = len(item)    "
   ]
  },
  {
   "cell_type": "code",
   "execution_count": 96,
   "metadata": {},
   "outputs": [
    {
     "data": {
      "text/plain": [
       "(71.023626943005183, 138.8661311914324)"
      ]
     },
     "execution_count": 96,
     "metadata": {},
     "output_type": "execute_result"
    }
   ],
   "source": [
    "nonspam = spam_data[spam_data.target==0]['Length']\n",
    "spam = spam_data[spam_data.target==1]['Length']\n",
    "\n",
    "((nonspam.sum()/len(nonspam)), (spam.sum()/len(spam)))"
   ]
  },
  {
   "cell_type": "code",
   "execution_count": 135,
   "metadata": {},
   "outputs": [
    {
     "data": {
      "text/plain": [
       "(71.023626943005183, 138.8661311914324)"
      ]
     },
     "execution_count": 135,
     "metadata": {},
     "output_type": "execute_result"
    }
   ],
   "source": [
    "# Short approach\n",
    "nonspam = spam_data[spam_data.target==0]['text'].map(len)  # Both apply and map methods are working and giving same results.\n",
    "spam = spam_data[spam_data.target==1]['text'].map(len) # think about it why both are giving same results.\n",
    "((nonspam.sum()/len(nonspam)), (spam.sum()/len(spam)))"
   ]
  },
  {
   "cell_type": "code",
   "execution_count": 97,
   "metadata": {
    "collapsed": true
   },
   "outputs": [],
   "source": [
    "def answer_six():\n",
    "    # Spam - 1 | # Non-Spam - 0\n",
    "    for item in spam_data['text']:\n",
    "        spam_data.loc[spam_data['text']==item,'Length'] = len(item) \n",
    "    nonspam = spam_data[spam_data.target==0]['Length']\n",
    "    spam = spam_data[spam_data.target==1]['Length']\n",
    "\n",
    "    return ((nonspam.sum()/len(nonspam)), (spam.sum()/len(spam))) \n",
    "    #Your answer here"
   ]
  },
  {
   "cell_type": "code",
   "execution_count": 136,
   "metadata": {
    "collapsed": true
   },
   "outputs": [],
   "source": [
    "def answer_six():\n",
    "    # Spam - 1 | # Non-Spam - 0\n",
    "    nonspam = spam_data[spam_data.target==0]['text'].map(len) \n",
    "    spam = spam_data[spam_data.target==1]['text'].map(len) \n",
    "\n",
    "    return ((nonspam.sum()/len(nonspam)), (spam.sum()/len(spam))) \n",
    "    #Your answer here"
   ]
  },
  {
   "cell_type": "code",
   "execution_count": 137,
   "metadata": {},
   "outputs": [
    {
     "data": {
      "text/plain": [
       "(71.023626943005183, 138.8661311914324)"
      ]
     },
     "execution_count": 137,
     "metadata": {},
     "output_type": "execute_result"
    }
   ],
   "source": [
    "answer_six()"
   ]
  },
  {
   "cell_type": "markdown",
   "metadata": {},
   "source": [
    "<br>\n",
    "<br>\n",
    "The following function has been provided to help you combine new features into the training data:"
   ]
  },
  {
   "cell_type": "code",
   "execution_count": 99,
   "metadata": {
    "collapsed": true
   },
   "outputs": [],
   "source": [
    "def add_feature(X, feature_to_add):\n",
    "    \"\"\"\n",
    "    Returns sparse feature matrix with added feature.\n",
    "    feature_to_add can also be a list of features.\n",
    "    \"\"\"\n",
    "    from scipy.sparse import csr_matrix, hstack\n",
    "    return hstack([X, csr_matrix(feature_to_add).T], 'csr')"
   ]
  },
  {
   "cell_type": "markdown",
   "metadata": {},
   "source": [
    "### Question 7\n",
    "\n",
    "Fit and transform the training data X_train using a Tfidf Vectorizer ignoring terms that have a document frequency strictly lower than **5**.\n",
    "\n",
    "Using this document-term matrix and an additional feature, **the length of document (number of characters)**, fit a Support Vector Classification model with regularization `C=10000`. Then compute the area under the curve (AUC) score using the transformed test data.\n",
    "\n",
    "*This function should return the AUC score as a float.*"
   ]
  },
  {
   "cell_type": "code",
   "execution_count": 102,
   "metadata": {
    "collapsed": true
   },
   "outputs": [],
   "source": [
    "from sklearn.svm import SVC\n",
    "\n",
    "def answer_seven():\n",
    "    \n",
    "    tfidf = TfidfVectorizer(min_df=5).fit(X_train)\n",
    "    X_train_vectorized = tfidf.transform(X_train)\n",
    "    \n",
    "    len_doc = []\n",
    "    for item in X_train:\n",
    "        len_doc.append(len(item))\n",
    "    \n",
    "    features = add_feature(X_train_vectorized,len_doc)\n",
    "    model = SVC(C=10000)\n",
    "    model.fit(features,y_train)\n",
    "    \n",
    "    len_doc = []\n",
    "    for item in X_test:\n",
    "        len_doc.append(len(item))\n",
    "    X_test_vectorized = tfidf.transform(X_test)\n",
    "    test_features = add_feature(X_test_vectorized,len_doc)\n",
    "    predictions = model.predict(test_features)\n",
    "    \n",
    "    score = roc_auc_score(y_test,predictions)\n",
    "    return score#Your answer here"
   ]
  },
  {
   "cell_type": "code",
   "execution_count": 103,
   "metadata": {},
   "outputs": [
    {
     "data": {
      "text/plain": [
       "0.95813668234215565"
      ]
     },
     "execution_count": 103,
     "metadata": {},
     "output_type": "execute_result"
    }
   ],
   "source": [
    "answer_seven()"
   ]
  },
  {
   "cell_type": "markdown",
   "metadata": {},
   "source": [
    "### Question 8\n",
    "\n",
    "What is the average number of digits per document for not spam and spam documents?\n",
    "\n",
    "*This function should return a tuple (average # digits not spam, average # digits spam).*"
   ]
  },
  {
   "cell_type": "code",
   "execution_count": 116,
   "metadata": {
    "collapsed": true
   },
   "outputs": [],
   "source": [
    "for item in spam_data['text']:\n",
    "    spam_data.loc[spam_data['text']==item,'#digits'] = sum(c.isdigit() for c in item)"
   ]
  },
  {
   "cell_type": "code",
   "execution_count": 124,
   "metadata": {},
   "outputs": [
    {
     "data": {
      "text/plain": [
       "(0.29927461139896372, 15.759036144578314)"
      ]
     },
     "execution_count": 124,
     "metadata": {},
     "output_type": "execute_result"
    }
   ],
   "source": [
    "# Digit Characters '\\d'\n",
    "spam = spam_data.loc[spam_data['target'] == 1,'text'].str.count('\\d').mean() \n",
    "nonspam = spam_data.loc[spam_data['target'] == 0,'text'].str.count('\\d').mean()\n",
    "nonspam,spam"
   ]
  },
  {
   "cell_type": "code",
   "execution_count": 125,
   "metadata": {
    "collapsed": true
   },
   "outputs": [],
   "source": [
    "def answer_eight():\n",
    "    for item in spam_data['text']:\n",
    "        spam_data.loc[spam_data['text']==item,'#digits'] = sum(c.isdigit() for c in item)\n",
    "    nonspam = spam_data[spam_data.target==0]['#digits']\n",
    "    spam = spam_data[spam_data.target==1]['#digits']\n",
    "\n",
    "    return ((nonspam.sum()/len(nonspam)), (spam.sum()/len(spam)))     \n",
    "    #Your answer here"
   ]
  },
  {
   "cell_type": "code",
   "execution_count": 126,
   "metadata": {},
   "outputs": [
    {
     "data": {
      "text/plain": [
       "(0.29927461139896372, 15.759036144578314)"
      ]
     },
     "execution_count": 126,
     "metadata": {},
     "output_type": "execute_result"
    }
   ],
   "source": [
    "answer_eight()"
   ]
  },
  {
   "cell_type": "markdown",
   "metadata": {},
   "source": [
    "### Question 9\n",
    "\n",
    "Fit and transform the training data `X_train` using a Tfidf Vectorizer ignoring terms that have a document frequency strictly lower than **5** and using **word n-grams from n=1 to n=3** (unigrams, bigrams, and trigrams).\n",
    "\n",
    "Using this document-term matrix and the following additional features:\n",
    "* the length of document (number of characters)\n",
    "* **number of digits per document**\n",
    "\n",
    "fit a Logistic Regression model with regularization `C=100`. Then compute the area under the curve (AUC) score using the transformed test data.\n",
    "\n",
    "*This function should return the AUC score as a float.*"
   ]
  },
  {
   "cell_type": "code",
   "execution_count": 120,
   "metadata": {
    "collapsed": true
   },
   "outputs": [],
   "source": [
    "from sklearn.linear_model import LogisticRegression\n",
    "\n",
    "def answer_nine():\n",
    "    \n",
    "    tfidf = TfidfVectorizer(min_df=5, ngram_range=(1,3)).fit(X_train)\n",
    "    X_train_vectorized = tfidf.transform(X_train)\n",
    "    \n",
    "    len_doc = []\n",
    "    for item in X_train:\n",
    "        len_doc.append(len(item))\n",
    "    digit_doc = []\n",
    "    for item in X_train:\n",
    "        digit_doc.append(sum(c.isdigit() for c in item))\n",
    "    features = add_feature(X_train_vectorized,[len_doc,digit_doc])\n",
    "    model = LogisticRegression(C=100)\n",
    "    model.fit(features,y_train)\n",
    "    \n",
    "    len_doc = []\n",
    "    for item in X_test:\n",
    "        len_doc.append(len(item))\n",
    "    digit_doc = []\n",
    "    for item in X_test:\n",
    "        digit_doc.append(sum(c.isdigit() for c in item))\n",
    "    X_test_vectorized = tfidf.transform(X_test)\n",
    "    test_features = add_feature(X_test_vectorized,[len_doc,digit_doc])\n",
    "    predictions = model.predict(test_features)\n",
    "    \n",
    "    score = roc_auc_score(y_test,predictions)\n",
    "    return score#Your answer here"
   ]
  },
  {
   "cell_type": "code",
   "execution_count": 121,
   "metadata": {},
   "outputs": [
    {
     "data": {
      "text/plain": [
       "0.96533283533945646"
      ]
     },
     "execution_count": 121,
     "metadata": {},
     "output_type": "execute_result"
    }
   ],
   "source": [
    "answer_nine()"
   ]
  },
  {
   "cell_type": "markdown",
   "metadata": {},
   "source": [
    "### Question 10\n",
    "\n",
    "What is the average number of non-word characters (anything other than a letter, digit or underscore) per document for not spam and spam documents?\n",
    "\n",
    "*Hint: Use `\\w` and `\\W` character classes*\n",
    "\n",
    "*This function should return a tuple (average # non-word characters not spam, average # non-word characters spam).*"
   ]
  },
  {
   "cell_type": "code",
   "execution_count": 144,
   "metadata": {},
   "outputs": [
    {
     "data": {
      "text/plain": [
       "(17.291813471502589, 29.041499330655956)"
      ]
     },
     "execution_count": 144,
     "metadata": {},
     "output_type": "execute_result"
    }
   ],
   "source": [
    "# Non-Word Characters \\W \n",
    "spam = spam_data.loc[spam_data['target'] == 1,'text'].str.count('\\W') \n",
    "nonspam = spam_data.loc[spam_data['target'] == 0,'text'].str.count('\\W')\n",
    "nonspam.mean(),spam.mean()"
   ]
  },
  {
   "cell_type": "code",
   "execution_count": 142,
   "metadata": {
    "collapsed": true
   },
   "outputs": [],
   "source": [
    "def answer_ten():\n",
    "    \n",
    "    nonspam = spam_data.loc[spam_data['target'] == 0,'text'].str.count('\\W')\n",
    "    spam = spam_data.loc[spam_data['target'] == 1,'text'].str.count('\\W')\n",
    "    return (nonspam.mean(),spam.mean())\n",
    "    # Your answer here"
   ]
  },
  {
   "cell_type": "code",
   "execution_count": 143,
   "metadata": {},
   "outputs": [
    {
     "data": {
      "text/plain": [
       "(17.291813471502589, 29.041499330655956)"
      ]
     },
     "execution_count": 143,
     "metadata": {},
     "output_type": "execute_result"
    }
   ],
   "source": [
    "answer_ten()"
   ]
  },
  {
   "cell_type": "markdown",
   "metadata": {},
   "source": [
    "### Question 11\n",
    "\n",
    "Fit and transform the training data X_train using a Count Vectorizer ignoring terms that have a document frequency strictly lower than **5** and using **character n-grams from n=2 to n=5.**\n",
    "\n",
    "To tell Count Vectorizer to use character n-grams pass in `analyzer='char_wb'` which creates character n-grams only from text inside word boundaries. This should make the model more robust to spelling mistakes.\n",
    "\n",
    "Using this document-term matrix and the following additional features:\n",
    "* the length of document (number of characters)\n",
    "* number of digits per document\n",
    "* **number of non-word characters (anything other than a letter, digit or underscore.)**\n",
    "\n",
    "fit a Logistic Regression model with regularization C=100. Then compute the area under the curve (AUC) score using the transformed test data.\n",
    "\n",
    "Also **find the 10 smallest and 10 largest coefficients from the model** and return them along with the AUC score in a tuple.\n",
    "\n",
    "The list of 10 smallest coefficients should be sorted smallest first, the list of 10 largest coefficients should be sorted largest first.\n",
    "\n",
    "The three features that were added to the document term matrix should have the following names should they appear in the list of coefficients:\n",
    "['length_of_doc', 'digit_count', 'non_word_char_count']\n",
    "\n",
    "*This function should return a tuple `(AUC score as a float, smallest coefs list, largest coefs list)`.*"
   ]
  },
  {
   "cell_type": "code",
   "execution_count": 154,
   "metadata": {
    "collapsed": true
   },
   "outputs": [],
   "source": [
    "def answer_eleven():\n",
    "    \n",
    "    vect = CountVectorizer(min_df=5, ngram_range=(2,5), analyzer='char_wb').fit(X_train)\n",
    "    X_train_vectorized = vect.transform(X_train)\n",
    "    X_test_vectorized = vect.transform(X_test)\n",
    "    # Preparing features: 'length_of_doc', 'digit_count', 'non_word_char_count'\n",
    "    X_train_len = X_train.map(len)\n",
    "    X_test_len = X_test.map(len)\n",
    "    \n",
    "    X_train_digit = X_train.str.count('\\d')\n",
    "    X_test_digit = X_test.str.count('\\d')\n",
    "    \n",
    "    X_train_nonword = X_train.str.count('\\W')\n",
    "    X_test_nonword = X_test.str.count('\\W')\n",
    "    # Final Train and test features\n",
    "    train_features = add_feature(X_train_vectorized,[X_train_len,X_train_digit,X_train_nonword])\n",
    "    test_features = add_feature(X_test_vectorized,[X_test_len,X_test_digit,X_test_nonword])\n",
    "    \n",
    "    feature_names = np.array(vect.get_feature_names()+['length_of_doc', 'digit_count', 'non_word_char_count'])\n",
    "    \n",
    "    model = LogisticRegression(C=100)\n",
    "    model.fit(train_features,y_train)\n",
    "    predictions = model.predict(test_features)\n",
    "    \n",
    "    score = roc_auc_score(y_test,predictions)\n",
    "    \n",
    "    sorted_coef_index = model.coef_[0].argsort()\n",
    "    Smallest_Coef=feature_names[sorted_coef_index[:10]].tolist()\n",
    "    Largest_Coef=feature_names[sorted_coef_index[:-11:-1]].tolist()\n",
    "    \n",
    "    return (score, Smallest_Coef, Largest_Coef)\n",
    "    #Your answer here"
   ]
  },
  {
   "cell_type": "code",
   "execution_count": 155,
   "metadata": {},
   "outputs": [
    {
     "data": {
      "text/plain": [
       "(0.97885931107074342,\n",
       " ['. ', '..', '? ', ' i', ' y', ' go', ':)', ' h', 'go', ' m'],\n",
       " ['digit_count', 'ne', 'ia', 'co', 'xt', ' ch', 'mob', ' x', 'ww', 'ar'])"
      ]
     },
     "execution_count": 155,
     "metadata": {},
     "output_type": "execute_result"
    }
   ],
   "source": [
    "answer_eleven()"
   ]
  },
  {
   "cell_type": "code",
   "execution_count": null,
   "metadata": {
    "collapsed": true
   },
   "outputs": [],
   "source": []
  }
 ],
 "metadata": {
  "coursera": {
   "course_slug": "python-text-mining",
   "graded_item_id": "Pn19K",
   "launcher_item_id": "y1juS",
   "part_id": "ctlgo"
  },
  "kernelspec": {
   "display_name": "Python 3",
   "language": "python",
   "name": "python3"
  },
  "language_info": {
   "codemirror_mode": {
    "name": "ipython",
    "version": 3
   },
   "file_extension": ".py",
   "mimetype": "text/x-python",
   "name": "python",
   "nbconvert_exporter": "python",
   "pygments_lexer": "ipython3",
   "version": "3.6.2"
  }
 },
 "nbformat": 4,
 "nbformat_minor": 2
}
